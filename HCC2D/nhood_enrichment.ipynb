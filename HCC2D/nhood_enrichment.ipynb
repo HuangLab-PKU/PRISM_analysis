{
 "cells": [
  {
   "cell_type": "code",
   "execution_count": 1,
   "metadata": {},
   "outputs": [],
   "source": [
    "# Loading the Packages\n",
    "%reload_ext autoreload\n",
    "%autoreload 2\n",
    "\n",
    "# basic\n",
    "import warnings\n",
    "warnings.filterwarnings('ignore')\n",
    "import os\n",
    "from pathlib import Path\n",
    "from tqdm import tqdm\n",
    "\n",
    "# calculation\n",
    "import numpy as np\n",
    "import pandas as pd\n",
    "import scanpy as sc\n",
    "\n",
    "# visualization\n",
    "import seaborn as sns\n",
    "import matplotlib.pyplot as plt\n",
    "plt.rcParams.update({\n",
    "    \"pgf.texsystem\": \"xelatex\",      # 使用 XeLaTeX，如果不需要 LaTeX 公式渲染，可以省略\n",
    "    'font.family': 'serif',          # 字体设置为衬线字体\n",
    "    'text.usetex': False,            # 禁用 LaTeX，使用 Matplotlib 内置文字渲染\n",
    "    'pgf.rcfonts': False,            # 禁用 pgf 的默认字体管理\n",
    "    'pdf.fonttype': 42,              # 确保字体为 TrueType 格式，可被 Illustrator 编辑\n",
    "    'ps.fonttype': 42,               # EPS 文件也使用 TrueType 格式\n",
    "    'figure.dpi': 300,               # 设置图形分辨率\n",
    "    'savefig.dpi': 300,              # 保存的图形文件分辨率\n",
    "    'axes.unicode_minus': False,     # 避免负号问题\n",
    "})"
   ]
  },
  {
   "cell_type": "code",
   "execution_count": 2,
   "metadata": {},
   "outputs": [],
   "source": [
    "# workdir \n",
    "BASE_DIR = Path(r'G:\\spatial_data\\processed')\n",
    "RUN_ID = '20230523_HCC_PRISM_probe_refined'\n",
    "src_dir = BASE_DIR / f'{RUN_ID}_processed'\n",
    "\n",
    "# Load one slide exp\n",
    "base_path = BASE_DIR / f'{RUN_ID}_processed'\n",
    "data_path = base_path / \"segmented\"\n",
    "typ_path = base_path / \"cell_typing\"\n",
    "output_path = base_path / \"nhood_enrichment\"\n",
    "output_path.mkdir(exist_ok=True)"
   ]
  },
  {
   "cell_type": "code",
   "execution_count": 3,
   "metadata": {},
   "outputs": [],
   "source": [
    "combine_adata_st = sc.read_h5ad(os.path.join(typ_path, 'combine_adata_st.h5ad'))\n",
    "combine_adata_st = combine_adata_st[combine_adata_st.obs.type != 'other']"
   ]
  },
  {
   "cell_type": "code",
   "execution_count": 4,
   "metadata": {},
   "outputs": [
    {
     "name": "stdout",
     "output_type": "stream",
     "text": [
      "type\n",
      "not in: set()\n",
      "not plot: set()\n",
      "subtype\n",
      "not in: set()\n",
      "not plot: set()\n"
     ]
    }
   ],
   "source": [
    "import yaml\n",
    "with open(os.path.join(output_path, 'params.yaml')) as file:\n",
    "    config = yaml.full_load(file)\n",
    "type_reorder = config['type_reorder']\n",
    "subtype_reorder = config['subtype_reorder']\n",
    "\n",
    "print('type')\n",
    "print('not in:', set(type_reorder)-set(combine_adata_st.obs.type.unique()))\n",
    "print('not plot:', set(combine_adata_st.obs.type.unique())-set(type_reorder))\n",
    "\n",
    "print('subtype')\n",
    "print('not in:', set(subtype_reorder)-set(combine_adata_st.obs.subtype.unique()))\n",
    "print('not plot:', set(combine_adata_st.obs.subtype.unique())-set(subtype_reorder))"
   ]
  },
  {
   "cell_type": "markdown",
   "metadata": {},
   "source": [
    "## Neighorhood graph"
   ]
  },
  {
   "cell_type": "code",
   "execution_count": 5,
   "metadata": {},
   "outputs": [],
   "source": [
    "import squidpy as sq\n",
    "\n",
    "combine_adata_st.obsm['spatial'] = np.array([combine_adata_st.obs.X_pos,combine_adata_st.obs.Y_pos]).T\n",
    "sq.gr.spatial_neighbors(combine_adata_st, n_neighs=30, coord_type=\"generic\", spatial_key=\"spatial\")"
   ]
  },
  {
   "cell_type": "markdown",
   "metadata": {},
   "source": [
    "## plot all"
   ]
  },
  {
   "cell_type": "code",
   "execution_count": 39,
   "metadata": {},
   "outputs": [
    {
     "name": "stderr",
     "output_type": "stream",
     "text": [
      "100%|██████████| 3000/3000 [00:23<00:00, 127.90/s]\n",
      "100%|██████████| 3000/3000 [00:29<00:00, 103.21/s]\n"
     ]
    }
   ],
   "source": [
    "combine_adata_st.obs.type = pd.Categorical(combine_adata_st.obs.type, categories=type_reorder)\n",
    "sq.gr.nhood_enrichment(combine_adata_st, cluster_key=\"type\", n_perms=3000)\n",
    "combine_adata_st.obs.subtype = pd.Categorical(combine_adata_st.obs.subtype, categories=subtype_reorder)\n",
    "sq.gr.nhood_enrichment(combine_adata_st, cluster_key=\"subtype\", n_perms=3000)"
   ]
  },
  {
   "cell_type": "code",
   "execution_count": 40,
   "metadata": {},
   "outputs": [],
   "source": [
    "fig, ax = plt.subplots(figsize=(23, 10),ncols=2, nrows=1)\n",
    "\n",
    "ax_tmp = ax[0]\n",
    "enrichment_matrix = pd.DataFrame(combine_adata_st.uns[\"type_nhood_enrichment\"]['zscore'], index=type_reorder, columns=type_reorder)\n",
    "sns.heatmap(enrichment_matrix, cmap=\"coolwarm\", vmin=-50, vmax=50, ax=ax_tmp)\n",
    "\n",
    "ax_tmp = ax[1]\n",
    "enrichment_matrix = pd.DataFrame(combine_adata_st.uns[\"subtype_nhood_enrichment\"]['zscore'], index=subtype_reorder, columns=subtype_reorder)\n",
    "sorted_matrix = enrichment_matrix.loc[subtype_reorder, subtype_reorder]\n",
    "sns.heatmap(sorted_matrix, cmap=\"coolwarm\", vmin=-50, vmax=50, ax=ax_tmp)\n",
    "\n",
    "plt.tight_layout()\n",
    "plt.savefig(os.path.join(output_path, 'nhood_enrichment.png'))\n",
    "plt.close()"
   ]
  },
  {
   "cell_type": "markdown",
   "metadata": {},
   "source": [
    "## plot rois"
   ]
  },
  {
   "cell_type": "code",
   "execution_count": 6,
   "metadata": {},
   "outputs": [],
   "source": [
    "from skimage import io, transform, morphology\n",
    "\n",
    "def ROI_mask_load(input_path, out_path, show=True, save=False):\n",
    "    ROI_mask = {}\n",
    "    for mask_file in os.listdir(input_path):\n",
    "        image = io.imread(os.path.join(input_path, mask_file))\n",
    "        image = transform.rotate(image, angle=90, resize=True)\n",
    "        image = morphology.binary_dilation(image, footprint=morphology.disk(5))\n",
    "        ROI_mask[mask_file.replace('.tif','').replace('Mask', 'ROI')] = image\n",
    "        \n",
    "    ncols = int(-(-len(ROI_mask)**(1/2)//1))\n",
    "    nrows = -(-len(ROI_mask)//ncols)\n",
    "    fig, ax = plt.subplots(nrows=nrows, ncols=ncols, figsize=(ncols*4, nrows*4))\n",
    "    for pos, mask_name in enumerate(list(ROI_mask.keys())):\n",
    "        ax[pos // ncols][pos % ncols].imshow(ROI_mask[mask_name], cmap='gray')\n",
    "        ax[pos // ncols][pos % ncols].set_title(mask_name)\n",
    "        ax[pos // ncols][pos % ncols].set_xlabel(\"\")\n",
    "        ax[pos // ncols][pos % ncols].set_ylabel(\"\")\n",
    "    fig.suptitle('Mask_of_ROIs', fontsize=20)\n",
    "    plt.tight_layout()\n",
    "\n",
    "    if save: plt.savefig(out_path)\n",
    "    elif show: plt.show()\n",
    "    plt.close()\n",
    "\n",
    "    return ROI_mask"
   ]
  },
  {
   "cell_type": "code",
   "execution_count": 7,
   "metadata": {},
   "outputs": [],
   "source": [
    "ROI_mask = ROI_mask_load(input_path=os.path.join(base_path, 'roi_variation', 'roi_mask'), \n",
    "                         show=False, save=False, out_path=os.path.join(output_path, 'roi_mask.png'))"
   ]
  },
  {
   "cell_type": "markdown",
   "metadata": {},
   "source": [
    "## ROI_cell type"
   ]
  },
  {
   "cell_type": "code",
   "execution_count": 8,
   "metadata": {},
   "outputs": [
    {
     "name": "stderr",
     "output_type": "stream",
     "text": [
      "ROI_1: 100%|██████████| 60329/60329 [00:01<00:00, 40359.46it/s]\n",
      "ROI_2: 100%|██████████| 60329/60329 [00:01<00:00, 43791.94it/s]\n",
      "ROI_3: 100%|██████████| 60329/60329 [00:01<00:00, 44750.60it/s]\n",
      "ROI_4: 100%|██████████| 60329/60329 [00:01<00:00, 44118.38it/s]\n",
      "ROI_5: 100%|██████████| 60329/60329 [00:01<00:00, 43603.29it/s]\n"
     ]
    }
   ],
   "source": [
    "from collections import Counter\n",
    "\n",
    "\n",
    "combine_adata_st.obs['ROI'] = pd.Categorical(['other']*len(combine_adata_st), categories=list(ROI_mask.keys()) + ['other'], ordered=False)    \n",
    "for _, mask in ROI_mask.items():\n",
    "    yrange = mask.shape[0]\n",
    "    for cell in tqdm(combine_adata_st.obs.index, desc=_):\n",
    "        if mask[yrange - int(combine_adata_st.obs['Y_pos'].loc[cell]/100), int(combine_adata_st.obs['X_pos'].loc[cell]/100)]:\n",
    "            combine_adata_st.obs['ROI'].loc[cell] = _"
   ]
  },
  {
   "cell_type": "code",
   "execution_count": null,
   "metadata": {},
   "outputs": [],
   "source": [
    "# show the cell in different ROI in one plot with different color\n",
    "fig, ax = plt.subplots(figsize=(5, 5))\n",
    "sc.pl.spatial(combine_adata_st, color='ROI', ax=ax, show=False, spot_size=100)\n",
    "# reverse y axis\n",
    "plt.gca().invert_yaxis()\n",
    "plt.savefig(output_path / 'ROI_projection.png')\n",
    "plt.close()"
   ]
  },
  {
   "cell_type": "code",
   "execution_count": 33,
   "metadata": {},
   "outputs": [],
   "source": [
    "plot_range = {\n",
    "    'ROI_1': [-10, 10],\n",
    "    'ROI_2': [-10, 10],\n",
    "    'ROI_3': [-15, 15],\n",
    "    'ROI_4': [-20, 20],\n",
    "    'ROI_5': [-10, 10],\n",
    "    'other': [-50, 50],\n",
    "    }\n",
    "for roi in combine_adata_st.obs.ROI.unique():\n",
    "    adata_roi = combine_adata_st[combine_adata_st.obs.ROI == roi]\n",
    "    vmin, vmax = plot_range[roi]\n",
    "    # if file exist\n",
    "    if os.path.exists(os.path.join(output_path, f'nhood_enrichment_{roi}_type.csv')):\n",
    "        enrichment_matrix_type = pd.read_csv(os.path.join(output_path, f'nhood_enrichment_{roi}_type.csv'), index_col=0)\n",
    "    else:\n",
    "        sq.gr.nhood_enrichment(adata_roi, cluster_key=\"type\", n_perms=3000)\n",
    "        order = [_ for _ in type_reorder if _ in adata_roi.obs.type.unique()]\n",
    "        enrichment_matrix_type = pd.DataFrame(adata_roi.uns[\"type_nhood_enrichment\"]['zscore'], index=order, columns=order)\n",
    "        enrichment_matrix_type.to_csv(os.path.join(output_path, f'nhood_enrichment_{roi}_type.csv'))\n",
    "    \n",
    "    if os.path.exists(os.path.join(output_path, f'nhood_enrichment_{roi}_subtype.csv')):\n",
    "        enrichment_matrix_subtype = pd.read_csv(os.path.join(output_path, f'nhood_enrichment_{roi}_subtype.csv'), index_col=0)\n",
    "    else:\n",
    "        sq.gr.nhood_enrichment(adata_roi, cluster_key=\"subtype\", n_perms=3000)\n",
    "        order = [_ for _ in subtype_reorder if _ in adata_roi.obs.subtype.unique()]\n",
    "        enrichment_matrix_subtype = pd.DataFrame(adata_roi.uns[\"subtype_nhood_enrichment\"]['zscore'], index=order, columns=order)\n",
    "        enrichment_matrix_subtype.to_csv(os.path.join(output_path, f'nhood_enrichment_{roi}_subtype.csv'))\n",
    "\n",
    "    fig, ax = plt.subplots(figsize=(23, 10),ncols=2, nrows=1)\n",
    "    sns.heatmap(enrichment_matrix_type, cmap=\"coolwarm\", ax=ax[0], vmin=vmin, vmax=vmax) #, robust=True, vmin=-50, vmax=50)\n",
    "    sns.heatmap(enrichment_matrix_subtype, cmap=\"coolwarm\", ax=ax[1], vmin=vmin, vmax=vmax) #, robust=True, vmin=-50, vmax=50)\n",
    "\n",
    "    plt.tight_layout()\n",
    "    plt.savefig(os.path.join(output_path, f'nhood_enrichment{roi}.png'))\n",
    "    plt.close()"
   ]
  },
  {
   "cell_type": "code",
   "execution_count": null,
   "metadata": {},
   "outputs": [
    {
     "name": "stderr",
     "output_type": "stream",
     "text": [
      "100%|██████████| 3000/3000 [00:26<00:00, 112.72/s]\n",
      "100%|██████████| 3000/3000 [00:32<00:00, 91.46/s] \n",
      "100%|██████████| 3000/3000 [00:12<00:00, 239.33/s] \n",
      "100%|██████████| 3000/3000 [00:11<00:00, 263.57/s] \n",
      "100%|██████████| 3000/3000 [00:12<00:00, 245.88/s] \n",
      "100%|██████████| 3000/3000 [00:12<00:00, 248.86/s] \n",
      "100%|██████████| 3000/3000 [00:11<00:00, 252.08/s]\n",
      "100%|██████████| 3000/3000 [00:11<00:00, 272.15/s] \n",
      "100%|██████████| 3000/3000 [00:12<00:00, 249.63/s] \n",
      "100%|██████████| 3000/3000 [00:11<00:00, 263.06/s] \n",
      "100%|██████████| 3000/3000 [00:11<00:00, 252.46/s]\n",
      "100%|██████████| 3000/3000 [00:11<00:00, 271.79/s]\n"
     ]
    }
   ],
   "source": [
    "plot_range = {\n",
    "    'ROI_1': [-10, 10],\n",
    "    'ROI_2': [-10, 10],\n",
    "    'ROI_3': [-15, 15],\n",
    "    'ROI_4': [-20, 20],\n",
    "    'ROI_5': [-10, 10],\n",
    "    'other': [-50, 50],\n",
    "    }\n",
    "for roi in combine_adata_st.obs.ROI.unique():\n",
    "    adata_roi = combine_adata_st[combine_adata_st.obs.ROI == roi]\n",
    "    vmin, vmax = plot_range[roi]\n",
    "    sq.gr.nhood_enrichment(adata_roi, cluster_key=\"type\", n_perms=3000)\n",
    "    sq.gr.nhood_enrichment(adata_roi, cluster_key=\"subtype\", n_perms=3000)\n",
    "\n",
    "    fig, ax = plt.subplots(figsize=(23, 10),ncols=2, nrows=1)\n",
    "    sq.pl.nhood_enrichment(adata_roi, cluster_key=\"type\", method='ward', cmap=\"coolwarm\", vmin=vmin, vmax=vmax, ax=ax[0])\n",
    "    sq.pl.nhood_enrichment(adata_roi, cluster_key=\"subtype\", method='ward', cmap=\"coolwarm\", vmin=vmin, vmax=vmax, ax=ax[1])\n",
    "    plt.tight_layout()\n",
    "    plt.savefig(os.path.join(output_path, f'nhood_enrichment_cluster_{roi}.png'))\n",
    "    plt.close()"
   ]
  }
 ],
 "metadata": {
  "kernelspec": {
   "display_name": "PRISM",
   "language": "python",
   "name": "python3"
  },
  "language_info": {
   "codemirror_mode": {
    "name": "ipython",
    "version": 3
   },
   "file_extension": ".py",
   "mimetype": "text/x-python",
   "name": "python",
   "nbconvert_exporter": "python",
   "pygments_lexer": "ipython3",
   "version": "3.11.9"
  }
 },
 "nbformat": 4,
 "nbformat_minor": 2
}
