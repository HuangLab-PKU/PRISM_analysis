{
 "cells": [
  {
   "cell_type": "markdown",
   "metadata": {},
   "source": [
    "# Cell typing"
   ]
  },
  {
   "cell_type": "markdown",
   "metadata": {},
   "source": [
    "## Environment"
   ]
  },
  {
   "cell_type": "code",
   "execution_count": 124,
   "metadata": {},
   "outputs": [],
   "source": [
    "# Loading the Packages\n",
    "%reload_ext autoreload\n",
    "%autoreload 2\n",
    "\n",
    "import os\n",
    "from pathlib import Path\n",
    "import pickle\n",
    "from tqdm import tqdm\n",
    "import warnings\n",
    "warnings.filterwarnings('ignore')\n",
    "\n",
    "import numpy as np\n",
    "import pandas as pd\n",
    "import scanpy as sc\n",
    "from scipy.signal import argrelextrema\n",
    "from scipy.signal import find_peaks\n",
    "\n",
    "import seaborn as sns\n",
    "import matplotlib.pyplot as plt\n",
    "plt.rcParams.update({\n",
    "    \"pgf.texsystem\": \"xelatex\",      # 使用 XeLaTeX，如果不需要 LaTeX 公式渲染，可以省略\n",
    "    'font.family': 'serif',          # 字体设置为衬线字体\n",
    "    'text.usetex': False,            # 禁用 LaTeX，使用 Matplotlib 内置文字渲染\n",
    "    'pgf.rcfonts': False,            # 禁用 pgf 的默认字体管理\n",
    "    'pdf.fonttype': 42,              # 确保字体为 TrueType 格式，可被 Illustrator 编辑\n",
    "    'ps.fonttype': 42,               # EPS 文件也使用 TrueType 格式\n",
    "    'figure.dpi': 300,               # 设置图形分辨率\n",
    "    'savefig.dpi': 300,              # 保存的图形文件分辨率\n",
    "    'axes.unicode_minus': False,     # 避免负号问题\n",
    "})\n",
    "\n",
    "# workdir \n",
    "BASE_DIR = Path(r'F:\\spatial_data\\processed')\n",
    "RUN_ID = '20230523_HCC_PRISM_probe_refined'\n",
    "src_dir = BASE_DIR / f'{RUN_ID}_processed'\n",
    "\n",
    "# Load one slide exp\n",
    "base_path = BASE_DIR / f'{RUN_ID}_processed'\n",
    "data_path = os.path.join(base_path / \"segmented\")\n",
    "typ_path = os.path.join(base_path / \"cell_typing\")\n",
    "figure_path = os.path.join(base_path / \"figures\")\n",
    "if not os.path.exists(typ_path): os.mkdir(typ_path)\n",
    "if not os.path.exists(figure_path): os.mkdir(figure_path)\n",
    "\n",
    "expr_path = os.path.join(data_path, \"expression_matrix.csv\")\n",
    "FOI = 'HCC'\n",
    "gene_list=[\n",
    "    \"HBV\", \"AFP\", \"GPC3\", \"MKI67\",\n",
    "    \"PECAM1\", \"EPCAM\", \"ACTA2\", \n",
    "    \"CLEC9A\", \"CD1C\", \"LILRA4\",\n",
    "    \"SLC4A10\", \"CPA3\",\n",
    "    \"C1QA\", \"FCGR3A\", \"S100A8\", \"CSF3R\", \"LYVE1\",\n",
    "    \"CD3D\", \"CD4\", \"CD8A\",\n",
    "    \"GZMA\", \"GZMB\", \"CTLA4\", \"PDCD1\", \"CXCL13\", \n",
    "    \"FOXP3\", \"PRF1\", \n",
    "    \"CD79A\", \"MS4A1\",    \n",
    "    \"NCAM1\", \"MZB1\"\n",
    "]"
   ]
  },
  {
   "cell_type": "markdown",
   "metadata": {},
   "source": [
    "## load exp data"
   ]
  },
  {
   "cell_type": "code",
   "execution_count": 2,
   "metadata": {},
   "outputs": [],
   "source": [
    "raw_adata = pd.read_csv(expr_path, index_col=0)\n",
    "adata = sc.AnnData(raw_adata)\n",
    "adata.obs['dataset'] = [\"PRISM_HCC\"] * len(adata)"
   ]
  },
  {
   "cell_type": "markdown",
   "metadata": {},
   "source": [
    "## Preprocessing\n"
   ]
  },
  {
   "cell_type": "code",
   "execution_count": null,
   "metadata": {},
   "outputs": [],
   "source": [
    "# Preprocessing\n",
    "def adata_filter(adata, min_genes, min_counts, max_counts, min_cells):\n",
    "    sc.pp.filter_cells(adata, min_genes=min_genes)\n",
    "    sc.pp.filter_cells(adata, min_counts=min_counts)\n",
    "    sc.pp.filter_cells(adata, max_counts=max_counts)\n",
    "    sc.pp.filter_genes(adata, min_cells=min_cells)\n",
    "    return adata\n",
    "\n",
    "\n",
    "def QC_plot(adata, hue, min_counts='nan', max_counts='nan', min_genes='nan', min_cells='nan'):\n",
    "    g = sns.JointGrid(data=adata.obs, x=\"total_counts\", y=\"n_genes_by_counts\", height=5, ratio=2, hue=hue)\n",
    "    g.fig.suptitle(\"QC_by_{}, cell_num={}, gene_num={}\\nmin_counts={}, max_counts={}, min_genes={}, min_cells={}\\n\\n\\n\\n\\n\".format(\n",
    "                    hue,len(adata),len(adata.var.index),min_counts, max_counts, min_genes, min_cells))\n",
    "    g.plot_joint(sns.scatterplot, s=40, alpha=0.3)\n",
    "    g.plot_marginals(sns.kdeplot)\n",
    "    g.set_axis_labels(\"total_counts\", \"n_genes_by_counts\", fontsize=16)\n",
    "    g.fig.set_figwidth(6)\n",
    "    g.fig.set_figheight(6)\n",
    "    plt.show()\n",
    "\n",
    "\n",
    "def general_preprocess(adata, min_genes=2, min_counts=5, max_counts=1300, min_cells=3, auto_filter=False):\n",
    "    # Plot top 20 most expressed genes\n",
    "    sc.pl.highest_expr_genes(adata, n_top=10)\n",
    "    # Calculate QC metrics\n",
    "    sc.pp.calculate_qc_metrics(adata, percent_top=None, inplace=True)\n",
    "    \n",
    "    fig, ax = plt.subplots(figsize=(20,5))\n",
    "    a = adata.obs.total_counts\n",
    "    sns.histplot(a, bins=100, stat='density', alpha=1, kde=True, edgecolor='white', linewidth=0.5,\n",
    "                ax=ax, line_kws=dict(color='black', alpha=0.7, linewidth=1.5, label='KDE'),) # log=True, binrange=[0,100]\n",
    "    y = ax.get_lines()[0].get_ydata()\n",
    "    maxima = [float(_/len(y)*(max(a)-min(a))+min(a)) for _ in argrelextrema(-np.array(y), np.less)[0]]\n",
    "    print(f'maxima: {maxima}')\n",
    "    plt.show()\n",
    "\n",
    "    # QC plot\n",
    "    origin_cell_num = len(adata)\n",
    "    QC_plot(adata, hue='dataset')\n",
    "\n",
    "    # Filter\n",
    "    if auto_filter: min_counts = int(maxima[0]) - 1\n",
    "    adata = adata_filter(adata, min_genes, min_counts, max_counts, min_cells)\n",
    "    filtered_cell_num = len(adata)\n",
    "    QC_plot(adata, hue='dataset', min_genes=min_genes, min_counts=min_counts, max_counts=max_counts, min_cells=min_cells)\n",
    "    return adata, origin_cell_num, filtered_cell_num"
   ]
  },
  {
   "cell_type": "code",
   "execution_count": null,
   "metadata": {},
   "outputs": [],
   "source": [
    "# process of gene name\n",
    "adata.var.index = adata.var.index.str.upper()\n",
    "adata = adata[:, gene_list]\n",
    "\n",
    "# general preprocess\n",
    "adata, origin_cell_num, filtered_cell_num = general_preprocess(adata, min_genes=2, min_counts=5, max_counts=200, min_cells=1, auto_filter=False)\n",
    "\n",
    "# threshold for liver\n",
    "adata.obs[\"tissue\"] = [\"non_liver\"] * len(adata)\n",
    "adata_liver = adata[adata[:, \"HBV\"].X >= 5]\n",
    "adata.obs[\"tissue\"][adata_liver.obs.index] = [\"liver\"] * len(adata_liver)\n",
    "\n",
    "# copy the meta data of adata\n",
    "adata.raw = adata.copy()"
   ]
  },
  {
   "cell_type": "markdown",
   "metadata": {},
   "source": [
    "## direct leiden\n"
   ]
  },
  {
   "cell_type": "code",
   "execution_count": 125,
   "metadata": {},
   "outputs": [],
   "source": [
    "def preprocess_of_UMAP(adata, regress=True):\n",
    "    # Normalization scaling\n",
    "    sc.pp.normalize_total(adata)\n",
    "    # X = log(1+X)\n",
    "    sc.pp.log1p(adata)\n",
    "    if regress:\n",
    "        # regress using linear model\n",
    "        sc.pp.regress_out(adata, [\"total_counts\"])\n",
    "    # Scale data to unit variance and zero mean\n",
    "    sc.pp.scale(adata)\n",
    "    return adata\n",
    "\n",
    "\n",
    "# def preprocess_of_UMAP(adata, pseudo_count=1, regress=True):\n",
    "#     # Step 1: 每个细胞的总 counts 归一化\n",
    "#     sc.pp.normalize_total(adata, target_sum=1e4)\n",
    "    \n",
    "#     # Step 2: 对数变换并加伪 counts\n",
    "#     adata.X = np.log1p(adata.X + pseudo_count)\n",
    "    \n",
    "#     # Step 3: 基因层面的归一化（中位数归一化）\n",
    "#     gene_medians = np.median(adata.X, axis=0)  # 计算每个基因的中位数\n",
    "#     adata.X = adata.X / gene_medians  # 对每个基因进行归一化\n",
    "#     adata.X = np.nan_to_num(adata.X)  # 去除可能出现的NaN\n",
    "\n",
    "#     # Step 4: 如果需要，进行回归校正\n",
    "#     if regress: sc.pp.regress_out(adata, ['total_counts'])  # 校正总 counts 影响\n",
    "\n",
    "#     # Step 5: 数据标准化\n",
    "#     sc.pp.scale(adata)  # 对数据进行标准化，确保零均值和单位方差\n",
    "#     return adata\n",
    "\n",
    "\n",
    "def save_pos_on_UMAP(adata, out_dir):\n",
    "    try:\n",
    "        adata_coor = pd.DataFrame(adata.obsm[\"X_umap\"], columns=[\"Coor_X\", \"Coor_Y\"], index=adata.obs.index)\n",
    "        df = pd.concat([adata_coor[\"Coor_X\"], adata_coor[\"Coor_Y\"], pd.DataFrame(adata.obs.index), adata.obs.leiden], axis=1)\n",
    "        df.to_csv(out_dir)\n",
    "    except KeyError: print('X_umap not found, please perform umap first.')\n",
    "\n",
    "\n",
    "def save_cell_cluster(adata, out_path, st_point, cell_num, name=\"leiden\"):\n",
    "    raw_clu = dict(adata.obs[name])\n",
    "    cluster = dict()\n",
    "    for cell_num in raw_clu.keys(): cluster[cell_num] = -1\n",
    "    for cell in raw_clu.keys(): cluster[int(cell) - st_point] = int(raw_clu[cell])\n",
    "    with open(out_path, \"wb\") as handle: pickle.dump(cluster, handle)\n",
    "\n",
    "\n",
    "def UMAP_genes_plot(adata, FOI, size=0.1, show=True, save=False, out_path='./UMAP_genes.png', dpi=300, datatype='direct', dataset=[]):\n",
    "    n_pcs = len(adata.uns['pca']['variance'])\n",
    "    n_neighbors = adata.uns['neighbors']['params']['n_neighbors']\n",
    "    # resolution = adata.uns['leiden']['params']['resolution']\n",
    "    # Plot Gene distribution\n",
    "    ncols = int(-(-len(adata.var_names)**(1/2)//1))\n",
    "    nrows = -(-len(adata.var_names)//ncols)\n",
    "    fig, ax = plt.subplots(nrows=nrows, ncols=ncols, figsize=(ncols*4, nrows*4))\n",
    "    for pos, gene_name in enumerate(list(adata.var_names)):\n",
    "        sc.pl.umap(\n",
    "            adata[adata.obs.dataset.isin(dataset)],\n",
    "            ax=ax[pos // ncols][pos % ncols],\n",
    "            size=size, color=gene_name, legend_fontweight=100, legend_fontsize=20,\n",
    "            show=False, vmax=5, vmin=0)\n",
    "        ax[pos // ncols][pos % ncols].set_xticklabels(\"\")\n",
    "        ax[pos // ncols][pos % ncols].set_yticklabels(\"\")\n",
    "\n",
    "    fig.suptitle(\n",
    "        \"{}\\nexp:{}\\nUMAP:{}\\n\".format(\n",
    "        f\"{FOI}_{datatype}_{dataset}_UMAP\",\n",
    "        f\"cell_num={len(adata)}\",\n",
    "        f\"n_neighbors={n_neighbors}, n_pcs={n_pcs}\"),\n",
    "        fontsize=20,\n",
    "    )\n",
    "    plt.tight_layout()\n",
    "    if save:\n",
    "        if out_path.endswith('.png'): plt.savefig(f\"{out_path}\", bbox_inches = 'tight', dpi=dpi)\n",
    "        else: plt.savefig(f\"{out_path}\", bbox_inches = 'tight')\n",
    "    if show: plt.show()\n",
    "    plt.close()\n",
    "\n",
    "\n",
    "def UMAP_leiden_plot(adata, FOI='', color='leiden', show=True, save=False, out_path='./UMAP_leiden.png',dpi=300, datatype='direct', DOI=['PRISM_HCC'], legend_loc='on data',palette=False):\n",
    "    n_pcs = len(adata.uns['pca']['variance'])\n",
    "    n_neighbors = adata.uns['neighbors']['params']['n_neighbors']\n",
    "    resolution = adata.uns['leiden']['params']['resolution']\n",
    "    # Plot Cluster\n",
    "    fig, ax = plt.subplots(nrows=1, ncols=2, figsize=(20, 10))\n",
    "    if palette:\n",
    "        sc.pl.umap(adata[adata.obs.dataset.isin(DOI)], \n",
    "            color=color, palette=palette, legend_loc=legend_loc, legend_fontsize=7, \n",
    "            ax=ax[0], show=False)\n",
    "        sc.pl.umap(adata,\n",
    "            color=\"dataset\", legend_fontweight=100, legend_fontsize=20,\n",
    "            ax=ax[1], show=False)\n",
    "    else:\n",
    "        sc.pl.umap(adata[adata.obs.dataset.isin(DOI)],\n",
    "            color=color, legend_loc=legend_loc, legend_fontsize=7,\n",
    "            ax=ax[0], show=False)\n",
    "        sc.pl.umap(adata,\n",
    "            color=\"dataset\", legend_fontweight=100, legend_fontsize=20,\n",
    "            ax=ax[1], show=False)\n",
    "        \n",
    "    fig.suptitle(\n",
    "        \"{}\\nexp:{}\\nUMAP:{}\\n\".format(\n",
    "        f\"{FOI}_{datatype}_cluster\",\n",
    "        f\"cell_num={len(adata)}\",\n",
    "        f\"n_neighbors={n_neighbors}, n_pcs={n_pcs}, resolution={resolution}\"),\n",
    "        fontsize=20,\n",
    "    )\n",
    "    plt.tight_layout()\n",
    "    if save:\n",
    "        if out_path.endswith('.png'): plt.savefig(f\"{out_path}\", bbox_inches = 'tight', dpi=dpi)\n",
    "        else: plt.savefig(f\"{out_path}\", bbox_inches = 'tight')\n",
    "    if show: plt.show()\n",
    "    plt.close()\n",
    "\n",
    "\n",
    "def leiden_QC_plot(adata, color='leiden'):\n",
    "    # cluster QC\n",
    "    g = sns.JointGrid(data=adata.obs, x=\"total_counts\", y=\"n_genes_by_counts\", height=5, ratio=2, hue=color)\n",
    "    g.plot_joint(sns.scatterplot, s=40, alpha=0.3)\n",
    "    g.plot_marginals(sns.kdeplot)\n",
    "    g.set_axis_labels(\"total_counts\", \"n_genes_by_counts\", fontsize=8)\n",
    "    g.fig.set_figwidth(3)\n",
    "    g.fig.set_figheight(3)\n",
    "    plt.show()"
   ]
  },
  {
   "cell_type": "code",
   "execution_count": null,
   "metadata": {},
   "outputs": [],
   "source": [
    "# preprocess of UMAP\n",
    "adata = preprocess_of_UMAP(adata, regress=True)\n",
    "\n",
    "# compute pca\n",
    "sc.tl.pca(adata)\n",
    "sc.pl.pca_variance_ratio(adata, log=False)"
   ]
  },
  {
   "cell_type": "code",
   "execution_count": null,
   "metadata": {},
   "outputs": [],
   "source": [
    "# PCA with proper components\n",
    "sc.tl.pca(adata, n_comps=20)\n",
    "\n",
    "# Run UMAP                                                                                   \n",
    "sc.pp.neighbors(adata, n_neighbors=50)\n",
    "sc.tl.umap(adata)\n",
    "UMAP_genes_plot(adata, FOI='HCC', size=1, show=False, save=True, out_path=os.path.join(typ_path, 'Genes_UMAP.png'), datatype='direct', dataset=[\"PRISM_HCC\"])"
   ]
  },
  {
   "cell_type": "code",
   "execution_count": null,
   "metadata": {},
   "outputs": [],
   "source": [
    "# Run Leiden cluster\n",
    "leiden_resolution=1\n",
    "sc.tl.leiden(adata, resolution=leiden_resolution)\n",
    "\n",
    "fig, ax = plt.subplots(ncols=1, nrows=2, figsize=(10,4))\n",
    "adata_tmp = adata.copy()\n",
    "adata_tmp.write_h5ad(os.path.join(typ_path, f'adata_leiden_res_{leiden_resolution}.h5ad'))\n",
    "a=[len(adata_tmp[adata_tmp.obs.leiden == _]) for _ in adata_tmp.obs.leiden.unique()]\n",
    "sns.histplot(a, bins=100, stat='count', alpha=1, edgecolor='white', linewidth=0.5, ax=ax[0], \n",
    "            line_kws=dict(color='black', alpha=0.7, linewidth=1.5))# binrange=[0,100], log=True, \n",
    "ax[0].set_title(f'leiden_cluster_size_distribution_res={leiden_resolution}')\n",
    "\n",
    "leiden_threshold = 400\n",
    "adata_tmp = adata_tmp[adata_tmp.obs.leiden.isin([_ for _ in adata_tmp.obs.leiden.unique() if len(adata[adata.obs.leiden == _]) > leiden_threshold])]\n",
    "adata_tmp.write_h5ad(os.path.join(typ_path, f'adata_leiden_res_{leiden_resolution}_filtered_{leiden_threshold}.h5ad'))\n",
    "a=[len(adata_tmp[adata_tmp.obs.leiden == _]) for _ in adata_tmp.obs.leiden.unique()]\n",
    "sns.histplot(a, bins=100, stat='count', alpha=1, edgecolor='white', linewidth=0.5, ax=ax[1], \n",
    "            line_kws=dict(color='black', alpha=0.7, linewidth=1.5))# binrange=[0,100], log=True, \n",
    "ax[1].set_title(f'leiden_threshold={leiden_threshold}')\n",
    "plt.tight_layout()\n",
    "plt.savefig(os.path.join(typ_path, f'ClusterSize_hist.png'), bbox_inches = 'tight', dpi=300)\n",
    "plt.close()"
   ]
  },
  {
   "cell_type": "code",
   "execution_count": null,
   "metadata": {},
   "outputs": [],
   "source": [
    "# Plot Gene distribution\n",
    "UMAP_leiden_plot(adata, FOI='HCC', color='leiden', show=False, save=False, out_path=os.path.join(typ_path, 'leiden_UMAP.png'), datatype='direct')\n",
    "QC_plot(adata, hue='leiden')"
   ]
  },
  {
   "cell_type": "markdown",
   "metadata": {},
   "source": [
    "# Integration with scRNA-seq using Harmony\n"
   ]
  },
  {
   "cell_type": "markdown",
   "metadata": {},
   "source": [
    "## load and preprocess of sc data\n"
   ]
  },
  {
   "cell_type": "markdown",
   "metadata": {},
   "source": [
    "### load sc data1\n"
   ]
  },
  {
   "cell_type": "code",
   "execution_count": null,
   "metadata": {},
   "outputs": [],
   "source": [
    "# path\n",
    "sc_path = r\"F:\\spatial_data\\reference\\scRNAseq\"\n",
    "file = \"HCC_GSE151530\"\n",
    "\n",
    "# load sc-rna data\n",
    "adata_sc1_meta = sc.read_mtx(os.path.join(sc_path, file, \"matrix.mtx\"))\n",
    "adata_sc1_meta = adata_sc1_meta.T\n",
    "\n",
    "adata_temp_features = pd.read_csv(os.path.join(sc_path, file, \"genes.tsv\"), sep=\"\\t\", header=None)\n",
    "adata_sc1_meta.var[\"gene_name\"] = adata_temp_features[1].tolist()\n",
    "adata_sc1_meta.var.set_index(\"gene_name\", inplace=True)\n",
    "adata_sc1_meta.var_names_make_unique()\n",
    "\n",
    "info = pd.read_csv(os.path.join(sc_path,file,'Info.txt'), sep='\\t')\n",
    "adata_sc1_meta.obs['sample'] = list(info['Sample'])\n",
    "adata_sc1_meta.obs['type'] = list(info['Type'])\n",
    "adata_sc1_meta.obs['dataset'] = ['GSE151530'] * len(adata_sc1_meta)\n",
    "\n",
    "# general process\n",
    "adata_sc1 = adata_sc1_meta.copy()\n",
    "adata_sc1, _, _ = general_preprocess(adata=adata_sc1, min_genes=2000, min_counts=10000, max_counts=300000, min_cells=1,)"
   ]
  },
  {
   "cell_type": "markdown",
   "metadata": {},
   "source": [
    "### load sc data2\n"
   ]
  },
  {
   "cell_type": "code",
   "execution_count": null,
   "metadata": {},
   "outputs": [],
   "source": [
    "# load sc-rna data GSE140228\n",
    "sc_path = r\"F:\\spatial_data\\reference\\scRNAseq\"\n",
    "file = \"HCC_GSE140228_immune\"\n",
    "\n",
    "adata_sc2_meta = pd.read_csv(os.path.join(sc_path, file, \"GSE140228_read_counts_Smartseq2.csv\"), index_col=0)\n",
    "adata_sc2_meta = sc.AnnData(adata_sc2_meta.T)\n",
    "adata_sc2_meta.var_names_make_unique()\n",
    "\n",
    "info = pd.read_csv(os.path.join(sc_path, file, \"GSE140228_cell_info_Smartseq2.tsv\"), sep=\"\\t\")\n",
    "adata_sc2_meta.obs[\"type\"] = info[\"celltype_sub\"].tolist()\n",
    "adata_sc2_meta.obs[\"sample\"] = info[\"Sample\"].tolist()\n",
    "adata_sc2_meta.obs[\"tissue\"] = info[\"Tissue\"].tolist()\n",
    "adata_sc2_meta.obs['dataset'] = ['GSE140228'] * len(adata_sc2_meta)\n",
    "\n",
    "# general process\n",
    "adata_sc2 = adata_sc2_meta.copy()\n",
    "adata_sc2, _, _ = general_preprocess(adata=adata_sc2, min_genes=1000, min_counts=10000, max_counts=1500000, min_cells=1,)"
   ]
  },
  {
   "cell_type": "markdown",
   "metadata": {},
   "source": [
    "### load sc data3\n"
   ]
  },
  {
   "cell_type": "code",
   "execution_count": null,
   "metadata": {},
   "outputs": [],
   "source": [
    "sc_path = r\"F:\\spatial_data\\reference\\scRNAseq\"\n",
    "file = \"HCC_CNP0000650_CD45-\"\n",
    "sc_data_meta = pd.read_csv(os.path.join(sc_path, file, 'HCC_log_tpm_expression_matrix.txt'), sep='\\t', index_col=0)\n",
    "adata_sc3_meta = sc.AnnData(sc_data_meta.T)\n",
    "adata_sc3_meta.var_names_make_unique()\n",
    "\n",
    "info = pd.read_csv(os.path.join(sc_path, file,'HCC_cell_metadata.txt'), sep='\\t')\n",
    "adata_sc3_meta.obs['sample']=info['sample_name']\n",
    "adata_sc3_meta.obs['type']=info['cell_type']\n",
    "adata_sc3_meta.obs['tissue']=info['tissue_source']\n",
    "adata_sc3_meta.obs['dataset']=['CNP0000650']*len(adata_sc3_meta)\n",
    "\n",
    "# general process\n",
    "adata_sc3 = adata_sc3_meta.copy()\n",
    "adata_sc3, _, _ = general_preprocess(adata=adata_sc3, min_genes=2000, min_counts=1000, max_counts=25000, min_cells=1,)"
   ]
  },
  {
   "cell_type": "markdown",
   "metadata": {},
   "source": [
    "## harmony combine\n"
   ]
  },
  {
   "cell_type": "markdown",
   "metadata": {},
   "source": [
    "### preprocess of sc data"
   ]
  },
  {
   "cell_type": "code",
   "execution_count": null,
   "metadata": {},
   "outputs": [],
   "source": [
    "# adata.var.index = adata.var.index.str.upper()\n",
    "adata_sc1.var.index = adata_sc1.var.index.str.upper()\n",
    "adata_sc1.var_names_make_unique()\n",
    "adata_sc2.var.index = adata_sc2.var.index.str.upper()\n",
    "adata_sc2.var_names_make_unique()\n",
    "adata_sc3.var.index = adata_sc3.var.index.str.upper()\n",
    "adata_sc3.var_names_make_unique()\n",
    "\n",
    "list_of_variable_names = gene_list[1:]\n",
    "adata_subset = adata[:, list_of_variable_names]\n",
    "adata_subset.var.index = adata_subset.var.index.str.upper()"
   ]
  },
  {
   "cell_type": "code",
   "execution_count": null,
   "metadata": {},
   "outputs": [],
   "source": [
    "adata_sc1_subset = adata_sc1.copy()\n",
    "# adata_sc_subset = adata_sc[:, list_of_variable_names]\n",
    "# Normalization scaling sc\n",
    "sc.pp.normalize_total(adata_sc1_subset)\n",
    "sc.pp.log1p(adata_sc1_subset)\n",
    "# Calculate QC metrics\n",
    "sc.pp.calculate_qc_metrics(adata_sc1_subset, percent_top=None, inplace=True)\n",
    "# Scale data to unit variance and zero mean\n",
    "sc.pp.regress_out(adata_sc1_subset, [\"total_counts\"])\n",
    "sc.pp.scale(adata_sc1_subset)"
   ]
  },
  {
   "cell_type": "code",
   "execution_count": null,
   "metadata": {},
   "outputs": [],
   "source": [
    "adata_sc2_subset = adata_sc2.copy()\n",
    "# adata_sc2_subset = adata_sc2[adata_sc2[:,'CPA3'].X > 0][:, list_of_variable_names]\n",
    "# adata_sc2_subset = adata_sc2[:, list_of_variable_names]\n",
    "# Normalization scaling sc\n",
    "sc.pp.normalize_total(adata_sc2_subset)\n",
    "sc.pp.log1p(adata_sc2_subset)\n",
    "# Calculate QC metrics\n",
    "sc.pp.calculate_qc_metrics(adata_sc2_subset, percent_top=None, inplace=True)\n",
    "# Scale data to unit variance and zero mean\n",
    "sc.pp.regress_out(adata_sc2_subset, [\"total_counts\"])\n",
    "sc.pp.scale(adata_sc2_subset)"
   ]
  },
  {
   "cell_type": "code",
   "execution_count": null,
   "metadata": {},
   "outputs": [],
   "source": [
    "adata_sc3_subset = adata_sc3.copy()\n",
    "# adata_sc2_subset = adata_sc2[adata_sc2[:,'CPA3'].X > 0][:, list_of_variable_names]\n",
    "# adata_sc2_subset = adata_sc2[:, list_of_variable_names]\n",
    "# Normalization scaling sc\n",
    "sc.pp.normalize_total(adata_sc3_subset)\n",
    "sc.pp.log1p(adata_sc3_subset)\n",
    "# Calculate QC metrics\n",
    "sc.pp.calculate_qc_metrics(adata_sc3_subset, percent_top=None, inplace=True)\n",
    "# Scale data to unit variance and zero mean\n",
    "sc.pp.regress_out(adata_sc3_subset, [\"total_counts\"])\n",
    "sc.pp.scale(adata_sc3_subset)"
   ]
  },
  {
   "cell_type": "markdown",
   "metadata": {},
   "source": [
    "### harmony"
   ]
  },
  {
   "cell_type": "code",
   "execution_count": null,
   "metadata": {},
   "outputs": [],
   "source": [
    "combine_adata = adata_subset.concatenate(adata_sc1_subset, adata_sc2_subset, adata_sc3_subset, batch_key=\"dataset\", batch_categories=[\"PRISM_HCC\", \"GSE151530\", \"GSE140228\", \"CNP0000650\"])\n",
    "# combine_adata = adata_subset.concatenate(adata_sc1_subset, batch_key=\"dataset\", batch_categories=[\"st\", \"scrna1\"])\n",
    "# sc.pp.combat(combine_adata, key=\"dataset\")\n",
    "\n",
    "print(\"origin_gene:\", adata.var.index)\n",
    "print(\"origin_gene_num:\", len(adata.var.index))\n",
    "print(\"combine_gene:\", combine_adata.var.index)\n",
    "print(\"combine_gene_num:\", len(combine_adata.var.index))\n",
    "print(\"Genes_not_matched:\", set(adata.var.index) - set(combine_adata.var.index))"
   ]
  },
  {
   "cell_type": "code",
   "execution_count": null,
   "metadata": {},
   "outputs": [],
   "source": [
    "sc.tl.pca(combine_adata)\n",
    "sc.pl.pca_variance_ratio(combine_adata, log=False)"
   ]
  },
  {
   "cell_type": "code",
   "execution_count": null,
   "metadata": {},
   "outputs": [],
   "source": [
    "h_pcs = 29\n",
    "sc.tl.pca(combine_adata, n_comps=h_pcs)\n",
    "sc_cell_num = len(combine_adata) - len(adata)\n",
    "print(combine_adata)"
   ]
  },
  {
   "cell_type": "code",
   "execution_count": null,
   "metadata": {},
   "outputs": [],
   "source": [
    "import scanpy.external as sce\n",
    "import random\n",
    "\n",
    "np.random.seed(42)\n",
    "random.seed(42)\n",
    "sce.pp.harmony_integrate(combine_adata, \"dataset\", \"X_pca\", \"X_pca_harmony\", max_iter_harmony=30) # max_iter_kmeans=30,"
   ]
  },
  {
   "cell_type": "markdown",
   "metadata": {},
   "source": [
    "## umap and leiden\n"
   ]
  },
  {
   "cell_type": "code",
   "execution_count": null,
   "metadata": {},
   "outputs": [],
   "source": [
    "neighbor = 50\n",
    "sc.pp.neighbors(combine_adata, n_neighbors=neighbor, use_rep=\"X_pca_harmony\")\n",
    "sc.tl.umap(combine_adata)"
   ]
  },
  {
   "cell_type": "code",
   "execution_count": null,
   "metadata": {},
   "outputs": [],
   "source": [
    "leiden_resolution=4\n",
    "sc.tl.leiden(combine_adata, resolution=leiden_resolution)\n",
    "\n",
    "a=[len(combine_adata[combine_adata.obs.leiden == _]) for _ in combine_adata.obs.leiden.unique()]\n",
    "fig, ax = plt.subplots(figsize=(10,2))\n",
    "sns.histplot(a, bins=100, stat='count', alpha=1, kde=True, edgecolor='white', linewidth=0.5,ax=ax,\n",
    "            line_kws=dict(color='black', alpha=0.7, linewidth=1.5, label='KDE')) # log=True, # binrange=[0,100]\n",
    "plt.show()\n",
    "\n",
    "combine_adata = combine_adata[combine_adata.obs.leiden.isin([_ for _ in combine_adata.obs.leiden.unique() if len(combine_adata[combine_adata.obs.leiden == _]) > len(combine_adata)/200])]\n",
    "a=[len(combine_adata[combine_adata.obs.leiden == _]) for _ in combine_adata.obs.leiden.unique()]\n",
    "fig, ax = plt.subplots(figsize=(10,2))\n",
    "sns.histplot(a, bins=100, stat='count', alpha=1, kde=True, edgecolor='white', linewidth=0.5,\n",
    "            ax=ax, line_kws=dict(color='black', alpha=0.7, linewidth=1.5, label='KDE')) # log=True, # binrange=[0,100]\n",
    "plt.show()\n",
    "\n",
    "UMAP_genes_plot(combine_adata, FOI, dataset=['PRISM_HCC'], datatype='harmony', size=1, show=False, save=True, out_path=os.path.join(typ_path,'UMAP_genes.png'))\n",
    "UMAP_leiden_plot(combine_adata, FOI, color='leiden', datatype='harmony', show=False, save=True, out_path=os.path.join(typ_path,'UMAP_leiden.png'))"
   ]
  },
  {
   "cell_type": "code",
   "execution_count": null,
   "metadata": {},
   "outputs": [],
   "source": [
    "leiden_resolution=8\n",
    "sc.tl.leiden(combine_adata, resolution=leiden_resolution)\n",
    "UMAP_leiden_plot(combine_adata, FOI, color='leiden', save=True, out_path=os.path.join(typ_path,f'UMAP_leiden_res={leiden_resolution}.png'), datatype='harmony')"
   ]
  },
  {
   "cell_type": "code",
   "execution_count": null,
   "metadata": {},
   "outputs": [],
   "source": [
    "combine_adata.write_h5ad(os.path.join(typ_path, 'combine_adata_leiden_res=8.h5ad'))"
   ]
  },
  {
   "cell_type": "code",
   "execution_count": null,
   "metadata": {},
   "outputs": [],
   "source": [
    "leiden_list = [str(i) for i in sorted([int(_) for _ in combine_adata.obs.leiden.unique()])]\n",
    "\n",
    "fig, ax = plt.subplots(ncols=1, nrows=len(leiden_list),figsize =(25, 1.5*len(leiden_list)))\n",
    "for _ in range(len(leiden_list)):\n",
    "    cluster_num = leiden_list[_]\n",
    "    data = combine_adata[combine_adata.obs['leiden'] == cluster_num].X\n",
    "    ax[_].boxplot(data, flierprops={'marker': 'o', 'markersize': 2, 'markerfacecolor': 'fuchsia'})\n",
    "    ax[_].set_xticklabels(list(combine_adata.var_names))\n",
    "    ax[_].set_ylabel(f'cluster{cluster_num}')\n",
    "    ax[_].set_ylim(-2, 5)\n",
    "plt.savefig(os.path.join(typ_path,'leiden_boxplot_res=8.png'), bbox_inches='tight',dpi=300)\n",
    "plt.close()"
   ]
  },
  {
   "cell_type": "code",
   "execution_count": null,
   "metadata": {},
   "outputs": [],
   "source": [
    "# combine_adata = sc.read_h5ad(r'E:\\TMC\\cell_typing\\results\\cluster\\2023.8.29_HCC_all\\GSE151530\\HCC_GSE_harmony.h5ad')\n",
    "# combine_adata = sc.read_h5ad(r'E:\\TMC\\cell_typing\\results\\cluster\\2023.9.6_harmony-cluster_and_thre-in-cluster\\without_CLEC9A, MS4A1\\harmony_GSE151530_without_CLEC9A, MS4A1.h5ad')\n",
    "# combine_adata = sc.read_h5ad(r'E:\\TMC\\cell_typing\\results/cluster/2023.9.6_harmony-cluster_and_thre-in-cluster/without_CLEC9A, MS4A1/harmony_GSE151530&GSE140228_without_CLEC9A, MS4A1.h5ad')\n",
    "# combine_adata = sc.read_h5ad(r'E:\\TMC\\cell_typing\\results\\cluster\\2023.9.6_harmony-cluster_and_thre-in-cluster\\without_CLEC9A, MS4A1, CPA3\\combine_adata.h5ad')\n",
    "# combine_adata = sc.read_h5ad(r'E:\\TMC\\cell_typing\\results\\cluster\\2023.9.7_HCC_harmony_loose_filter\\sc_GSE151530_30genes\\combine_adata_with_GSE151530_30genes.h5ad')\n",
    "# combine_adata = sc.read_h5ad(r'E:\\TMC\\cell_typing\\results\\cluster\\2023.9.7_HCC_harmony_loose_filter\\sc_GSE151530&GSE140228&CNP0000650_30genes\\combine_adata_with_GSE151530&GSE140228&CNP0000650_30genes.h5ad')\n",
    "# combine_adata = sc.read_h5ad(r'E:\\TMC\\cell_typing\\results\\cluster\\2023.9.10\\combine_adata_with_GSE151530&GSE140228&CNP0000650_30genes_res=5.5.h5ad')\n",
    "# combine_adata = sc.read_h5ad(r'E:\\TMC\\cell_typing\\results\\cluster\\2023.9.12\\combine_adata_with_GSE151530&GSE140228&CNP0000650_30genes.h5ad')\n",
    "# combine_adata = sc.read_h5ad(r'E:\\TMC\\cell_typing\\results\\cluster\\2023.9.12\\combine_adata_with_GSE151530&GSE140228&CNP0000650_30genes, res=5.5.h5ad')\n",
    "# combine_adata = sc.read_h5ad(r'E:\\TMC\\cell_typing\\results\\cluster\\2023.9.13\\combine_adata_res=5.5, filtered, typed.h5ad')"
   ]
  },
  {
   "cell_type": "markdown",
   "metadata": {},
   "source": [
    "# Threshold for interested cluster\n"
   ]
  },
  {
   "cell_type": "code",
   "execution_count": null,
   "metadata": {},
   "outputs": [],
   "source": [
    "adata = sc.read_h5ad(os.path.join(typ_path,'adata_leiden_res_1_filtered_400.h5ad'))\n",
    "combine_adata = sc.read_h5ad(os.path.join(typ_path, 'combine_adata_leiden.h5ad'))"
   ]
  },
  {
   "cell_type": "markdown",
   "metadata": {},
   "source": [
    "## interested clusters"
   ]
  },
  {
   "cell_type": "code",
   "execution_count": 58,
   "metadata": {},
   "outputs": [],
   "source": [
    "import yaml\n",
    "\n",
    "with open(os.path.join(typ_path, 'leiden_annotation.yaml'), 'r') as f:\n",
    "    leiden_annotation = yaml.load(f, Loader=yaml.FullLoader)\n",
    "\n",
    "leiden_type_dict = {}\n",
    "leiden_subtype_dict = {}\n",
    "for type_key, subtypes in leiden_annotation.items():\n",
    "    type_values = []\n",
    "    for subtype_key, values in subtypes.items():\n",
    "        type_values.extend(values)\n",
    "        leiden_subtype_dict[subtype_key] = values\n",
    "    leiden_type_dict[type_key] = type_values"
   ]
  },
  {
   "cell_type": "markdown",
   "metadata": {},
   "source": [
    "## threshold"
   ]
  },
  {
   "cell_type": "code",
   "execution_count": 59,
   "metadata": {},
   "outputs": [],
   "source": [
    "def threshold_in_cluster(adata, marker_gene=[], thre_gene=['AFP','GPC3','ACTA2','PECAM1'], type_name=[], cluster_dict={}):\n",
    "# for cluster_gene in cluster_to_filter:\n",
    "    thre_min = [True] * len(marker_gene) + [False] * len(thre_gene)\n",
    "    gene_list = marker_gene + thre_gene\n",
    "    minima_dict = {}\n",
    "    for _ in gene_list:\n",
    "        minima_dict[_] = ''\n",
    "\n",
    "    cluster_list_temp=[]\n",
    "    for _ in cluster_dict.keys():\n",
    "        for name in type_name:\n",
    "            if name in _:\n",
    "                cluster_list_temp += [str(_) for _ in cluster_dict[_]]\n",
    "\n",
    "    cluster = adata[adata.obs.leiden.isin(cluster_list_temp)]\n",
    "\n",
    "    fig, ax = plt.subplots(nrows=1,ncols=len(thre_min),figsize=(24, 4))\n",
    "    for i, gene in enumerate(gene_list):\n",
    "        a = [float(_) for _ in cluster[:, gene].X]\n",
    "        sns.histplot(a, bins=20, stat='density', alpha= 1, kde=True, \n",
    "                     edgecolor='white', linewidth=0.5, ax=ax[i],\n",
    "                    line_kws=dict(color='black', alpha=0.7, linewidth=1.5, label='KDE')) # log=True, \n",
    "        ax[i].get_lines()[0].set_color('red') # edit line color due to bug in sns v 0.11.0\n",
    "        ax[i].set_xlabel(gene)\n",
    "\n",
    "        y = ax[i].get_lines()[0].get_ydata()\n",
    "        minima_dict[gene] = [float(_/len(y)*(max(a)-min(a))+min(a)) for _ in argrelextrema(np.array(y), np.less)[0]]\n",
    "        # print(f'{gene}_minima: {minima_dict[gene]}')\n",
    "        fig.subplots_adjust(hspace=0.4)\n",
    "        fig.subplots_adjust(wspace=0.4)\n",
    "        fig.suptitle(f'distribution of cluster, marker gene={marker_gene}')\n",
    "    plt.show()\n",
    "\n",
    "    cluster.obs['tmp_leiden'] = ['-1']*len(cluster)\n",
    "    for _, gene in enumerate(gene_list):\n",
    "        minima = minima_dict[gene]\n",
    "        while True:\n",
    "            if len(minima) == 0:\n",
    "                minima = [0]\n",
    "                break\n",
    "            if minima[0] > 0.5:\n",
    "                minima[0] = 0\n",
    "                break\n",
    "            if minima[0] < -0.5:\n",
    "                minima.pop(0)\n",
    "                continue\n",
    "            break\n",
    "        \n",
    "        print(f'{gene}_thre: {minima[0]}')\n",
    "\n",
    "        if thre_min[_]:\n",
    "            tmp = cluster[cluster[:, gene].X > minima[0]]\n",
    "            cluster.obs['tmp_leiden'][tmp.obs.index] = ['1']*len(tmp)\n",
    "        else:\n",
    "            tmp = cluster[cluster[:, gene].X > minima[0]]\n",
    "            cluster.obs['tmp_leiden'][tmp.obs.index] = ['-1']*len(tmp)\n",
    "    \n",
    "    tmp = cluster[cluster.obs['tmp_leiden']=='-1']\n",
    "    adata.obs['tmp_leiden'][tmp.obs.index] = ['-2']*len(tmp)\n",
    "\n",
    "    cell_to_plot = len(cluster[cluster.obs['tmp_leiden']=='1'])\n",
    "    print(f'marker_gene={marker_gene}, {cell_to_plot} cells of {len(cluster)} cells left\\n')\n",
    "    return adata\n",
    "\n",
    "\n",
    "def collect_liver(combine_adata_st, tissue_obs='tissue', in_out_leiden='tmp_leiden'):\n",
    "    other_cluster = combine_adata_st[combine_adata_st.obs[in_out_leiden]=='-2']\n",
    "    liver = other_cluster[other_cluster.obs[tissue_obs] == \"liver\"]\n",
    "    combine_adata_st.obs[in_out_leiden] = list(combine_adata_st.obs[in_out_leiden])\n",
    "    combine_adata_st.obs[in_out_leiden][liver.obs.index] = [\"-1\"] * len(liver)\n",
    "    return combine_adata_st\n",
    "\n",
    "\n",
    "def re_num_leiden(combine_adata_st, cluster_dict, in_leiden='tmp_leiden', out_leiden='new_leiden', out_type='type'):\n",
    "    combine_adata_st.obs[out_leiden] = [\"-2\"] * len(combine_adata_st)\n",
    "    combine_adata_st.obs[out_type] = [\"other\"] * len(combine_adata_st)\n",
    "    for cluster_num, cluster_name in enumerate(cluster_dict.keys()):\n",
    "        for sub_cluster in cluster_dict[cluster_name]:\n",
    "            temp = combine_adata_st[combine_adata_st.obs[in_leiden] == str(sub_cluster)]\n",
    "            combine_adata_st.obs[out_leiden][temp.obs.index] = [str(cluster_num)] * len(temp)\n",
    "            combine_adata_st.obs[out_type][temp.obs.index] = [str(cluster_name)] * len(temp)\n",
    "    temp = combine_adata_st[combine_adata_st.obs[out_leiden] == '-2']\n",
    "    combine_adata_st.obs[out_type][temp.obs.index] = ['other'] * len(temp)\n",
    "    return combine_adata_st"
   ]
  },
  {
   "cell_type": "code",
   "execution_count": null,
   "metadata": {},
   "outputs": [],
   "source": [
    "# initialization of combine_adata_st and cluster_to_plot\n",
    "combine_adata_st = combine_adata[combine_adata.obs.dataset == 'PRISM_HCC']\n",
    "# rename obs index\n",
    "sub = [_.replace('-PRISM_HCC','') for _ in combine_adata_st.obs.index]\n",
    "combine_adata_st.obs.index = sub\n",
    "# collect liver\n",
    "adata = adata[combine_adata_st.obs.index]\n",
    "combine_adata_st.obs.tissue = adata.obs.tissue\n",
    "combine_adata_st.write_h5ad(os.path.join(typ_path, 'combine_adata_st.h5ad'))"
   ]
  },
  {
   "cell_type": "code",
   "execution_count": null,
   "metadata": {},
   "outputs": [],
   "source": [
    "# # threshold for marker gene clusters\n",
    "# # combine_adata_st = threshold_in_cluster(combine_adata_st, marker_gene=['AFP', 'GPC3'], thre_gene=[], type_name=['Tumor'], cluster_dict=cluster_dict)\n",
    "# cluster_to_filter = ['CPA3', 'LYVE1', 'SLC4A10', 'CLEC9A', 'CD1C']\n",
    "# for marker_gene in cluster_to_filter:\n",
    "#     combine_adata_st = threshold_in_cluster(combine_adata_st, [marker_gene], thre_gene=['AFP','GPC3','ACTA2','PECAM1'], type_name=[marker_gene], cluster_dict=cluster_dict)"
   ]
  },
  {
   "cell_type": "code",
   "execution_count": 61,
   "metadata": {},
   "outputs": [],
   "source": [
    "combine_adata_st = sc.read_h5ad(os.path.join(typ_path, 'combine_adata_st.h5ad'))\n",
    "# not in cluster_dict is other\n",
    "combine_adata_st.obs['tmp_leiden'] = ['-2']*len(combine_adata_st)\n",
    "defined_leiden = [str(_) for j in leiden_subtype_dict.values() for _ in j]\n",
    "defined_adata = combine_adata_st[combine_adata_st.obs.leiden.isin(defined_leiden)]\n",
    "combine_adata_st.obs.loc[defined_adata.obs.index, 'tmp_leiden'] = defined_adata.obs['leiden']\n",
    "# liver cells\n",
    "combine_adata_st = collect_liver(combine_adata_st, tissue_obs='tissue', in_out_leiden='tmp_leiden')\n",
    "\n",
    "# rename leidens based on cluster_dict\n",
    "combine_adata_st = re_num_leiden(combine_adata_st, leiden_subtype_dict, in_leiden='tmp_leiden', out_leiden='leiden_subtype', out_type='subtype')\n",
    "combine_adata_st = re_num_leiden(combine_adata_st, leiden_type_dict, in_leiden='tmp_leiden', out_leiden='leiden_type', out_type='type')"
   ]
  },
  {
   "cell_type": "code",
   "execution_count": 62,
   "metadata": {},
   "outputs": [],
   "source": [
    "combine_adata_st.write_h5ad(os.path.join(typ_path, 'combine_adata_st.h5ad'))"
   ]
  },
  {
   "cell_type": "markdown",
   "metadata": {},
   "source": [
    "# Plot: dotplot, umap"
   ]
  },
  {
   "cell_type": "code",
   "execution_count": 126,
   "metadata": {},
   "outputs": [],
   "source": [
    "adata = sc.read_h5ad(os.path.join(typ_path, 'adata_leiden_res_1_filtered_400.h5ad'))\n",
    "combine_adata_st = sc.read_h5ad(os.path.join(typ_path, 'combine_adata_st.h5ad'))\n",
    "adata = adata[combine_adata_st.obs.index]\n",
    "adata.obs = combine_adata_st.obs.copy()\n",
    "adata.raw = None"
   ]
  },
  {
   "cell_type": "markdown",
   "metadata": {},
   "source": [
    "## dotplot"
   ]
  },
  {
   "cell_type": "code",
   "execution_count": 110,
   "metadata": {},
   "outputs": [
    {
     "name": "stdout",
     "output_type": "stream",
     "text": [
      "not_drown: {'other'}\n",
      "not_in: set()\n"
     ]
    }
   ],
   "source": [
    "tmp_var_names=[\n",
    "    'HBV', 'AFP', 'GPC3', 'MKI67', 'PECAM1', 'EPCAM', 'ACTA2',\n",
    "    'FOXP3',    \n",
    "    'CD3D', 'CD4', 'PDCD1', 'CTLA4', 'CXCL13', 'NCAM1', 'GZMA', 'GZMB', 'PRF1', \n",
    "    'CD8A',\n",
    "    'CD79A', 'MS4A1', 'MZB1',\n",
    "    'LILRA4', \n",
    "    'CLEC9A', 'CD1C', 'LYVE1',\n",
    "    'C1QA', 'FCGR3A', 'S100A8', 'CSF3R',    \n",
    "    'SLC4A10', 'CPA3',\n",
    "    ]\n",
    "\n",
    "tmp_category = [\n",
    "    'Liver', 'Tumor', 'other_cell_proliferation', 'Endo', 'Ep', 'CAF',\n",
    "    'T_reg', 'NK', 'CD4+', 'CD8+', \n",
    "    'B', 'DC', 'Macrophage','Monocyte','Neutrophil',\n",
    "    'Mait','Mast', \n",
    "    ]\n",
    "\n",
    "tmp = adata[combine_adata_st.obs.type!='other']\n",
    "tmp.obs.type = pd.Categorical(tmp.obs.type, categories=tmp_category)\n",
    "                                                                                                                                                                                                \n",
    "fig,ax = plt.subplots(figsize=(12,10))\n",
    "sc.pl.dotplot(tmp, var_names=tmp_var_names, groupby='type', ax=ax, show=False)\n",
    "plt.tight_layout()\n",
    "plt.savefig(os.path.join(figure_path, 'cell_type_dotplot.pdf'))\n",
    "plt.savefig(os.path.join(figure_path, 'cell_type_dotplot.png'))\n",
    "plt.close()\n",
    "print('not_drown:', set(combine_adata_st.obs.type.unique())-set(tmp_category))\n",
    "print('not_in:', set(tmp_category)-set(combine_adata_st.obs.type.unique()))"
   ]
  },
  {
   "cell_type": "code",
   "execution_count": 111,
   "metadata": {},
   "outputs": [
    {
     "name": "stdout",
     "output_type": "stream",
     "text": [
      "not_drown: {'other'}\n",
      "not_in: set()\n"
     ]
    }
   ],
   "source": [
    "tmp_var_names=[\n",
    "    'HBV', 'AFP', 'GPC3', 'MKI67', 'PECAM1', 'EPCAM', 'ACTA2',\n",
    "    'FOXP3',\n",
    "    'CD3D', 'CD4', 'PDCD1', 'CTLA4', 'CXCL13', 'NCAM1', 'GZMA', 'GZMB','PRF1',\n",
    "    'CD8A',\n",
    "    'CD79A', 'MS4A1', 'MZB1',\n",
    "    'LILRA4',\n",
    "    'CLEC9A', 'CD1C', 'LYVE1',\n",
    "    'C1QA', 'FCGR3A', 'S100A8','CSF3R',    \n",
    "    'SLC4A10', 'CPA3',\n",
    "    ]\n",
    "\n",
    "tmp_category = [\n",
    "    'Liver',\n",
    "    'Tumor_AFP+', 'Tumor_GPC3+', 'Tumor_proliferation', 'other_cell_proliferation', \n",
    "    'Endo_PECAM1+', 'Ep_EPCAM+', 'CAF_ACTA2+',\n",
    "    'T_reg', \n",
    "    'T_CD4+, PD1+', 'T_CD4+, PD1+, CTLA4+',\n",
    "    'T_CD4+, CTLA4+','T_CD4+, CXCL13+', 'Cyto_T_CD4+',\n",
    "    'NK_NCAM1+',\n",
    "    'Cyto_T_CD8+', 'T_CD8+, PD1+', 'T_CD8+, GZMA+, CXCL13+', 'T_CD8+, CTLA4+',\n",
    "    'B_CD79A+', 'B_CD79A+, MS4A1+', 'B_MS4A1+', 'Plasma_B_CD79A+, MZB1+',\n",
    "    'pDC_LILRA4+', 'cDC1_CLEC9A+', 'cDC2_CD1C+',\n",
    "    'Macrophage_LYVE1+', 'Macrophage_C1QA+',\n",
    "    'Monocyte_CD16+', 'Monocyte_CD14+, CD16+', 'Monocyte_CD14+',\n",
    "    'Neutrophil_CSF3R+, S100A8+', 'Neutrophil_CSF3R+',\n",
    "    'Mait_SLC4A10+', 'Mast_CPA3+',\n",
    "]\n",
    "\n",
    "tmp = adata[combine_adata_st.obs.subtype!='other']\n",
    "tmp.obs.subtype = pd.Categorical(tmp.obs.subtype, categories=tmp_category)\n",
    "\n",
    "fig,ax = plt.subplots(figsize=(14,12))\n",
    "sc.pl.dotplot(tmp, var_names=tmp_var_names, groupby='subtype', ax=ax, show=False)\n",
    "plt.tight_layout()\n",
    "plt.savefig(os.path.join(figure_path, 'cell_subtype_dotplot.pdf'))\n",
    "plt.savefig(os.path.join(figure_path, 'cell_subtype_dotplot.png'))\n",
    "plt.close()\n",
    "print('not_drown:', set(combine_adata_st.obs.subtype.unique())-set(tmp_category))\n",
    "print('not_in:', set(tmp_category)-set(combine_adata_st.obs.subtype.unique()))"
   ]
  },
  {
   "cell_type": "markdown",
   "metadata": {},
   "source": [
    "## umap"
   ]
  },
  {
   "cell_type": "code",
   "execution_count": 127,
   "metadata": {},
   "outputs": [],
   "source": [
    "type_colormap = {\n",
    "    'Liver':(1,0.392,0),\n",
    "    'Tumor':(0.751,0.491,0),\n",
    "    'other_cell_proliferation': (0,0.5,0.636),\n",
    "    'Endo':(1,0,1),\n",
    "    'Ep':(0,1,0),\n",
    "    'CAF':(0,0,1),\n",
    "    'DC':(1,0.259,0),\n",
    "    'Mait':(1,0,0.434),\n",
    "    'Mast':(1,0,0),\n",
    "    'Monocyte':(0,0.471,1),\n",
    "    'Neutrophil':(1,1,0),\n",
    "    'Macrophage':(0.5,0.8,0),\n",
    "    'CD4+':(0.5,0.5,0.5),\n",
    "    'CD8+':(1,0.8,0),\n",
    "    'T_reg':(0,1,0.672),\n",
    "    'B':(0,1,1),\n",
    "    'NK':(1,0,0),\n",
    "    'other':(0.9,0.9,0.9),\n",
    "}\n",
    "\n",
    "subtype_colormap = dict()\n",
    "for subtype in leiden_subtype_dict.keys():\n",
    "    for rough_type in type_colormap.keys():\n",
    "        if rough_type in subtype:\n",
    "            subtype_colormap[subtype] = type_colormap[rough_type]\n",
    "            break"
   ]
  },
  {
   "cell_type": "code",
   "execution_count": 128,
   "metadata": {},
   "outputs": [],
   "source": [
    "tmp = combine_adata_st[~combine_adata_st.obs['type'].isin(['other'])]\n",
    "UMAP_leiden_plot(adata=tmp, DOI=['PRISM_HCC'], datatype='harmony', color='type', FOI='HCC', palette=type_colormap, legend_loc='right margin', \n",
    "                 show=False, save=True, out_path=os.path.join(figure_path, 'cell_type_UMAP.png'))\n",
    "# UMAP_genes_plot(adata=tmp, FOI='HCC', dataset=['PRISM_HCC'], datatype='harmony', size=1, \n",
    "#                 show=False, save=True, out_path=os.path.join(figure_path, 'genes_UMAP.png'))"
   ]
  },
  {
   "cell_type": "markdown",
   "metadata": {},
   "source": [
    "# Plot: heatmap"
   ]
  },
  {
   "cell_type": "code",
   "execution_count": 119,
   "metadata": {},
   "outputs": [],
   "source": [
    "def UMAP_genes_plot(adata, FOI, size=0.1, show=True, save=False, out_path='./UMAP_genes.png', dpi=300, datatype='direct', dataset=[]):\n",
    "    n_pcs = len(adata.uns['pca']['variance'])\n",
    "    n_neighbors = adata.uns['neighbors']['params']['n_neighbors']\n",
    "    # resolution = adata.uns['leiden']['params']['resolution']\n",
    "    # Plot Gene distribution\n",
    "    ncols = int(-(-len(adata.var_names)**(1/2)//1))\n",
    "    nrows = -(-len(adata.var_names)//ncols)\n",
    "    fig, ax = plt.subplots(nrows=nrows, ncols=ncols, figsize=(ncols*4, nrows*4))\n",
    "    for pos, gene_name in enumerate(list(adata.var_names)):\n",
    "        sc.pl.umap(\n",
    "            adata[adata.obs.dataset.isin(dataset)],\n",
    "            ax=ax[pos // ncols][pos % ncols],\n",
    "            size=size, color=gene_name, legend_fontweight=100, legend_fontsize=20,\n",
    "            show=False, vmax=5, vmin=0)\n",
    "        ax[pos // ncols][pos % ncols].set_xticklabels(\"\")\n",
    "        ax[pos // ncols][pos % ncols].set_yticklabels(\"\")\n",
    "\n",
    "    fig.suptitle(\n",
    "        \"{}\\nexp:{}\\nUMAP:{}\\n\".format(\n",
    "        f\"{FOI}_{datatype}_{dataset}_UMAP\",\n",
    "        f\"cell_num={len(adata)}\",\n",
    "        f\"n_neighbors={n_neighbors}, n_pcs={n_pcs}\"),\n",
    "        fontsize=20,\n",
    "    )\n",
    "    plt.tight_layout()\n",
    "    if save:\n",
    "        if out_path.endswith('.png'): plt.savefig(f\"{out_path}\", bbox_inches = 'tight', dpi=dpi)\n",
    "        else: plt.savefig(f\"{out_path}\", bbox_inches = 'tight')\n",
    "    if show: plt.show()\n",
    "    plt.close()\n",
    "\n",
    "\n",
    "def UMAP_leiden_plot(adata, FOI='', color='leiden', show=True, save=False, out_path='./UMAP_leiden.png',dpi=300, datatype='direct', DOI=['PRISM_HCC'], legend_loc='on data',palette=False):\n",
    "    n_pcs = len(adata.uns['pca']['variance'])\n",
    "    n_neighbors = adata.uns['neighbors']['params']['n_neighbors']\n",
    "    resolution = adata.uns['leiden']['params']['resolution']\n",
    "    # Plot Cluster\n",
    "    fig, ax = plt.subplots(nrows=1, ncols=2, figsize=(20, 10))\n",
    "    if palette:\n",
    "        sc.pl.umap(adata[adata.obs.dataset.isin(DOI)], \n",
    "            color=color, palette=palette, legend_loc=legend_loc, legend_fontsize=7, \n",
    "            ax=ax[0], show=False)\n",
    "        sc.pl.umap(adata,\n",
    "            color=\"dataset\", legend_fontweight=100, legend_fontsize=20,\n",
    "            ax=ax[1], show=False)\n",
    "    else:\n",
    "        sc.pl.umap(adata[adata.obs.dataset.isin(DOI)],\n",
    "            color=color, legend_loc=legend_loc, legend_fontsize=7,\n",
    "            ax=ax[0], show=False)\n",
    "        sc.pl.umap(adata,\n",
    "            color=\"dataset\", legend_fontweight=100, legend_fontsize=20,\n",
    "            ax=ax[1], show=False)\n",
    "        \n",
    "    fig.suptitle(\n",
    "        \"{}\\nexp:{}\\nUMAP:{}\\n\".format(\n",
    "        f\"{FOI}_{datatype}_cluster\",\n",
    "        f\"cell_num={len(adata)}\",\n",
    "        f\"n_neighbors={n_neighbors}, n_pcs={n_pcs}, resolution={resolution}\"),\n",
    "        fontsize=20,\n",
    "    )\n",
    "    plt.tight_layout()\n",
    "    if save:\n",
    "        if out_path.endswith('.png'): plt.savefig(f\"{out_path}\", bbox_inches = 'tight', dpi=dpi)\n",
    "        else: plt.savefig(f\"{out_path}\", bbox_inches = 'tight')\n",
    "    if show: plt.show()\n",
    "    plt.close()\n",
    "\n",
    "\n",
    "def leiden_QC_plot(adata, color='leiden'):\n",
    "    # cluster QC\n",
    "    g = sns.JointGrid(data=adata.obs, x=\"total_counts\", y=\"n_genes_by_counts\", height=5, ratio=2, hue=color)\n",
    "    g.plot_joint(sns.scatterplot, s=40, alpha=0.3)\n",
    "    g.plot_marginals(sns.kdeplot)\n",
    "    g.set_axis_labels(\"total_counts\", \"n_genes_by_counts\", fontsize=8)\n",
    "    g.fig.set_figwidth(3)\n",
    "    g.fig.set_figheight(3)\n",
    "    plt.show()"
   ]
  },
  {
   "cell_type": "code",
   "execution_count": 118,
   "metadata": {},
   "outputs": [],
   "source": [
    "def matrix_for_heatmap(adata_1, adata_2, adata_ori, obs_1=\"leiden_type\", obs_2=\"leiden\", \n",
    "                       cluster_of_intere=list, sc_cluster_of_intere=list, save=False, whole=False):\n",
    "    raw_cluster_num = len(cluster_of_intere)\n",
    "    sc_cluster_num = len(sc_cluster_of_intere)\n",
    "    raw_data_matrix = np.array([])\n",
    "    raw_data_whole_matrix = np.array([])\n",
    "    sc_data_matrix = np.array([])\n",
    "\n",
    "    for cluster_num in cluster_of_intere:\n",
    "        raw_add_whole = np.array([np.mean(adata_ori.X[adata_1.obs[obs_1] == str(cluster_num)], axis=0)])\n",
    "        if raw_data_whole_matrix.size == 0: raw_data_whole_matrix = raw_add_whole\n",
    "        else: raw_data_whole_matrix = np.concatenate((raw_data_whole_matrix, raw_add_whole), axis=0)\n",
    "\n",
    "        raw_add = np.array([np.mean(adata_1.X[adata_1.obs[obs_1] == str(cluster_num)], axis=0)])\n",
    "        if raw_data_matrix.size == 0: raw_data_matrix = raw_add\n",
    "        else: raw_data_matrix = np.concatenate((raw_data_matrix, raw_add), axis=0)\n",
    "\n",
    "    for cluster_num in sc_cluster_of_intere:\n",
    "        sc_add = np.array([np.mean(adata_2.X[adata_2.obs[obs_2] == str(cluster_num)], axis=0)])\n",
    "        if sc_data_matrix.size == 0: sc_data_matrix = sc_add\n",
    "        else: sc_data_matrix = np.concatenate((sc_data_matrix, sc_add), axis=0)\n",
    "\n",
    "    matrix = np.concatenate((raw_data_matrix, sc_data_matrix), axis=0)\n",
    "    corr_matrix = np.corrcoef(matrix)\n",
    "    if whole: return raw_data_whole_matrix, sc_data_matrix, corr_matrix[0 : raw_cluster_num, raw_cluster_num : raw_cluster_num + sc_cluster_num]\n",
    "    else: return raw_data_matrix, sc_data_matrix, corr_matrix[0 : raw_cluster_num, raw_cluster_num : raw_cluster_num + sc_cluster_num]"
   ]
  },
  {
   "cell_type": "markdown",
   "metadata": {},
   "source": [
    "## cluster of sc data"
   ]
  },
  {
   "cell_type": "code",
   "execution_count": null,
   "metadata": {},
   "outputs": [],
   "source": [
    "adata_sc_subset = adata_sc1_subset.concatenate(adata_sc2_subset, adata_sc3_subset, batch_key=\"dataset\", batch_categories=[\"GSE151530\", \"GSE140228\", \"CNP0000650\"])\n",
    "# adata_sc_subset = combine_adata[combine_adata.obs.dataset.isin(['GSE151530','GSE140228','CNP0000650'])]"
   ]
  },
  {
   "cell_type": "code",
   "execution_count": null,
   "metadata": {},
   "outputs": [],
   "source": [
    "adata_sc_subset = adata_sc_subset[:, list_of_variable_names]\n",
    "sc.tl.pca(adata_sc_subset, n_comps=29)\n",
    "sc.pl.pca_variance_ratio(adata_sc_subset, log=False)\n",
    "\n",
    "h_pcs = 29\n",
    "sc.tl.pca(adata_sc_subset, n_comps=h_pcs)\n",
    "print(adata_sc_subset)\n",
    "\n",
    "import scanpy.external as sce\n",
    "sce.pp.harmony_integrate(adata_sc_subset, \"dataset\", \"X_pca\", \"X_pca_harmony\", max_iter_harmony=30) # max_iter_kmeans=30,\n",
    "\n",
    "neighbor = 50\n",
    "sc.pp.neighbors(adata_sc_subset, n_neighbors=neighbor, use_rep=\"X_pca_harmony\")\n",
    "sc.tl.umap(adata_sc_subset)"
   ]
  },
  {
   "cell_type": "code",
   "execution_count": null,
   "metadata": {},
   "outputs": [],
   "source": [
    "leiden_resolution=4\n",
    "sc.tl.leiden(adata_sc_subset, resolution=leiden_resolution)"
   ]
  },
  {
   "cell_type": "code",
   "execution_count": null,
   "metadata": {},
   "outputs": [],
   "source": [
    "UMAP_genes_plot(adata=adata_sc_subset, size=1, FOI=FOI, save=False, out_path=typ_path, datatype='sc_harmony', dataset=['GSE151530','GSE140228','CNP0000650'])\n",
    "UMAP_leiden_plot(adata=adata_sc_subset, FOI=FOI, color='leiden', save=True, out_path='./UMAP.pdf', datatype='sc_harmony', \n",
    "                #  legend_loc='right margin', \n",
    "                 DOI=['GSE151530','GSE140228','CNP0000650'])"
   ]
  },
  {
   "cell_type": "code",
   "execution_count": null,
   "metadata": {},
   "outputs": [],
   "source": [
    "tmp = adata_sc_subset.copy()\n",
    "leiden_list = [str(i) for i in sorted([int(_) for _ in tmp.obs.leiden.unique()])]\n",
    "\n",
    "fig, ax = plt.subplots(ncols=1, nrows=len(leiden_list),figsize =(20, 3*len(leiden_list)))\n",
    "for _ in range(len(leiden_list)):\n",
    "    cluster_num = leiden_list[_]\n",
    "    data = tmp[tmp.obs['leiden'] == cluster_num].X\n",
    "    ax[_].boxplot(data,\n",
    "                  flierprops={'marker': 'o', 'markersize': 2, 'markerfacecolor': 'fuchsia'})\n",
    "    ax[_].set_xticklabels(list(tmp.var_names))\n",
    "    ax[_].set_title(f'cluster{cluster_num}')\n",
    "    # show plot\n",
    "# plt.close()\n",
    "plt.show()"
   ]
  },
  {
   "cell_type": "code",
   "execution_count": null,
   "metadata": {},
   "outputs": [],
   "source": [
    "fig, ax = plt.subplots(figsize=(13, 15))\n",
    "\n",
    "sc.tl.dendrogram(adata_sc_subset, groupby='leiden', linkage_method='single')\n",
    "sc.pl.dotplot(adata_sc_subset, var_names=list_of_variable_names, \n",
    "              groupby='leiden', vmax=5, ax=ax, dendrogram=True, show=False)\n",
    "plt.show()"
   ]
  },
  {
   "cell_type": "code",
   "execution_count": 25,
   "metadata": {},
   "outputs": [],
   "source": [
    "sc_cluster_dict = {\n",
    "    \"Tumor_AFP+\":[67,12,54,11],\n",
    "    \"Tumor_GPC3+\":[69,37,21,24,29,41,47],\n",
    "    \"Tumor_proliferation\":[2],\n",
    "    \"Endo_PECAM1+\":[35],\n",
    "    \"Ep_EPCAM+\":[10],\n",
    "    \"CAF_ACTA2+\":[5],\n",
    "\n",
    "    \"T_reg\":[28,31],\n",
    "    \"T_CD4+, CTLA4+\":[25],\n",
    "    \"T_CD4+, PD1+, CTLA4+\":[],\n",
    "    \"T_CD4+, PD1+\":[30],\n",
    "    \"T_CD4+, PD1+, CXCL13+\":[],\n",
    "    \"T_CD4+, CXCL13+\":[],\n",
    "    \"Cyto_T_CD4+\":[16,53],\n",
    "    \"T_CD4+_other\":[60],\n",
    "\n",
    "    \"T_CD8+_other\":[20],\n",
    "    \"T_CD8+, PD1+\":[42,44],\n",
    "    \"T_CD8+, GZMA+, CXCL13+\":[0,46],\n",
    "    \"Cyto_T_CD8+\":[27,17,20,23,33],\n",
    "    \n",
    "    \"T_proliferation\":[],\n",
    "    \"NK_NCAM1+\":[9],\n",
    "\n",
    "    \"B_CD79A+\": [58,38,70,14],\n",
    "    \"B_MS4A1+\": [32],\n",
    "    \"B_CD79A+, MS4A1+\": [7],\n",
    "    \"B_proliferation\":[],\n",
    "\n",
    "    \"cDC1_CLEC9A+\":[39],\n",
    "    \"cDC2_CD1C+\":[3],\n",
    "    \"pDC_LILRA4+\":[36],\n",
    "    \n",
    "    \"Mait_SLC4A10+\":[6],\n",
    "    \"Mast_CPA3+\":[45],\n",
    "    \"Monocyte_CD14+\":[50],\n",
    "    \"Monocyte_CD14+, CD16+\":[],\n",
    "    \"Monocyte_CD16+\":[64,51,8,15,18],\n",
    "    \"Neutrophil_CSF3R+, S100A8+\":[1],\n",
    "    \"Neutrophil_CSF3R+\":[4,56],\n",
    "\n",
    "    \"Macrophage_C1QA+\":[40,55],\n",
    "    \"Macrophage_LYVE1+\":[13],\n",
    "\n",
    "    \"others_or_ILCs_MZB1+\":[],\n",
    "    \"others\":[],\n",
    "}\n",
    "\n",
    "sc_cluster_rough_dict = {\n",
    "    \"Liver\": [],\n",
    "    \"Tumor\": [],\n",
    "    # \"Tumor_AFP+\": [],\n",
    "    # \"Tumor_GPC3+\": [],\n",
    "    # \"Tumor_proliferation\": [],\n",
    "    \"Endo\": [],\n",
    "    \"Ep\": [],\n",
    "    \"CAF\": [],\n",
    "    \"DC\": [],\n",
    "    \"Mait\": [],\n",
    "    \"Mast\": [],\n",
    "    \"Monocyte\": [],\n",
    "    \"Neutrophil\": [],\n",
    "    \"Macrophage\": [],\n",
    "    \"CD4+\": [],\n",
    "    \"CD8+\": [],\n",
    "    \"T_reg\": [],\n",
    "    \"T_proliferation\": [],\n",
    "    \"B\": [],\n",
    "    \"NK\": [],\n",
    "    #   'MZB1+':[],\n",
    "}\n",
    "for rough_type in sc_cluster_rough_dict.keys():\n",
    "    for fine_type in sc_cluster_dict.keys():\n",
    "        if rough_type in fine_type:\n",
    "            sc_cluster_rough_dict[rough_type] += sc_cluster_dict[fine_type]"
   ]
  },
  {
   "cell_type": "code",
   "execution_count": null,
   "metadata": {},
   "outputs": [],
   "source": [
    "# initialization of combine_adata_st and cluster_to_plot\n",
    "adata_sc_subset.obs['tmp_leiden'] = list(adata_sc_subset.obs['leiden'])\n",
    "\n",
    "# rename leidens based on cluster_dict\n",
    "adata_sc_subset = re_num_leiden(adata_sc_subset, sc_cluster_dict, in_leiden='tmp_leiden', out_leiden='leiden_subtype', out_type='subtype')\n",
    "adata_sc_subset = re_num_leiden(adata_sc_subset, sc_cluster_rough_dict, in_leiden='tmp_leiden', out_leiden='leiden_type', out_type='type')"
   ]
  },
  {
   "cell_type": "code",
   "execution_count": null,
   "metadata": {},
   "outputs": [],
   "source": [
    "tmp_var_names=[\n",
    "    # 'HBV',\n",
    "    'AFP', 'GPC3', 'MKI67', 'PECAM1', 'EPCAM', 'ACTA2', 'FOXP3',\n",
    "    'CD3D', 'CD4', 'PDCD1', 'CTLA4', 'CXCL13', 'NCAM1', 'GZMA', 'GZMB', 'PRF1',\n",
    "    'CD8A', 'CD79A', 'MS4A1','MZB1', \n",
    "    'LILRA4', 'CLEC9A', 'CD1C', 'LYVE1', 'C1QA', 'FCGR3A', 'S100A8', 'CSF3R', 'SLC4A10', 'CPA3',\n",
    "    ]\n",
    "\n",
    "tmp_category = [\n",
    "    # 'Liver',\n",
    "    'Tumor', 'Endo', 'Ep', 'CAF', 'T_reg', 'proliferation', 'NK',\n",
    "    'CD4+', 'CD8+',  'B', 'DC', 'Macrophage', 'Monocyte', 'Neutrophil', 'Mait', 'Mast',\n",
    "    ]\n",
    "\n",
    "tmp = adata_sc_subset[adata_sc_subset.obs.type!='other']\n",
    "tmp.obs.type = pd.Categorical(tmp.obs.type, categories=tmp_category)                                                                                                                                                                                                \n",
    "fig,ax = plt.subplots(figsize=(12,10))\n",
    "sc.pl.dotplot(tmp, var_names=tmp_var_names, show=False, groupby='type', vmax=5, ax=ax)\n",
    "plt.show()"
   ]
  },
  {
   "cell_type": "code",
   "execution_count": null,
   "metadata": {},
   "outputs": [],
   "source": [
    "adata_sc_subset.write(r'e:\\TMC\\cell_typing\\results\\2023.8.21-_PRISM_HCC_one_layer\\2023.10.12_leiden_final_typed\\adata_sc_subset_res=4,retyped_by_zch.h5ad')"
   ]
  },
  {
   "cell_type": "markdown",
   "metadata": {},
   "source": [
    "## calculation of corr matrix"
   ]
  },
  {
   "cell_type": "code",
   "execution_count": 114,
   "metadata": {},
   "outputs": [
    {
     "data": {
      "text/plain": [
       "View of AnnData object with n_obs × n_vars = 30628 × 30\n",
       "    obs: 'sample', 'type', 'dataset', 'n_genes_by_counts', 'log1p_n_genes_by_counts', 'total_counts', 'log1p_total_counts', 'n_genes', 'n_counts', 'tissue', 'leiden', 'tmp_leiden', 'leiden_subtype', 'subtype', 'leiden_type'\n",
       "    var: 'n_cells_by_counts-CNP0000650', 'mean_counts-CNP0000650', 'log1p_mean_counts-CNP0000650', 'pct_dropout_by_counts-CNP0000650', 'total_counts-CNP0000650', 'log1p_total_counts-CNP0000650', 'n_cells-CNP0000650', 'mean-CNP0000650', 'std-CNP0000650', 'n_cells_by_counts-GSE140228', 'mean_counts-GSE140228', 'log1p_mean_counts-GSE140228', 'pct_dropout_by_counts-GSE140228', 'total_counts-GSE140228', 'log1p_total_counts-GSE140228', 'n_cells-GSE140228', 'mean-GSE140228', 'std-GSE140228', 'n_cells_by_counts-GSE151530', 'mean_counts-GSE151530', 'log1p_mean_counts-GSE151530', 'pct_dropout_by_counts-GSE151530', 'total_counts-GSE151530', 'log1p_total_counts-GSE151530', 'n_cells-GSE151530', 'mean-GSE151530', 'std-GSE151530'\n",
       "    uns: 'dataset_colors', 'dendrogram_leiden', 'leiden', 'neighbors', 'pca', 'umap'\n",
       "    obsm: 'X_pca', 'X_pca_harmony', 'X_umap'\n",
       "    varm: 'PCs'\n",
       "    obsp: 'connectivities', 'distances'"
      ]
     },
     "execution_count": 114,
     "metadata": {},
     "output_type": "execute_result"
    }
   ],
   "source": [
    "adata_sc_subset = sc.read_h5ad(os.path.join(typ_path, 'adata_sc_subset_res=4,retyped_by_zch.h5ad'))\n",
    "adata_sc_subset[adata_sc_subset.obs.type != 'other']"
   ]
  },
  {
   "cell_type": "markdown",
   "metadata": {},
   "source": [
    "## corr type"
   ]
  },
  {
   "cell_type": "code",
   "execution_count": 120,
   "metadata": {},
   "outputs": [],
   "source": [
    "list_of_variable_names = gene_list[1:]\n",
    "combine_adata_st = combine_adata_st[:,list_of_variable_names]\n",
    "adata_sc_subset = adata_sc_subset[:,list_of_variable_names]\n",
    "\n",
    "cluster_of_intere = list(leiden_type_dict.keys())\n",
    "raw_data_matrix, sc_data_matrix, corr_matrix = matrix_for_heatmap(\n",
    "    combine_adata_st, adata_sc_subset, combine_adata_st, \n",
    "    obs_1=\"type\", obs_2=\"type\", \n",
    "    cluster_of_intere=cluster_of_intere, sc_cluster_of_intere=cluster_of_intere, \n",
    "    save=False, whole=False)"
   ]
  },
  {
   "cell_type": "code",
   "execution_count": 121,
   "metadata": {},
   "outputs": [],
   "source": [
    "# map_plot of raw vs. sc cluster\n",
    "map_plot = pd.DataFrame(corr_matrix, columns=cluster_of_intere, index=cluster_of_intere)\n",
    "plt.figure(figsize=(24, 18))\n",
    "heatmap = sns.heatmap(map_plot, cmap=\"coolwarm\", annot=False)\n",
    "plt.savefig(os.path.join(figure_path, 'corr_sc_type.pdf'), bbox_inches = 'tight')\n",
    "plt.close()"
   ]
  },
  {
   "cell_type": "markdown",
   "metadata": {},
   "source": [
    "## corr subtype"
   ]
  },
  {
   "cell_type": "code",
   "execution_count": 122,
   "metadata": {},
   "outputs": [],
   "source": [
    "combine_adata_st = combine_adata_st[:,list_of_variable_names]\n",
    "adata_sc_subset = adata_sc_subset[:,list_of_variable_names]\n",
    "\n",
    "cluster_of_intere = list(leiden_subtype_dict.keys())\n",
    "raw_data_matrix, sc_data_matrix, corr_matrix = matrix_for_heatmap(\n",
    "    combine_adata_st, adata_sc_subset, combine_adata_st, \n",
    "    obs_1=\"subtype\", obs_2=\"subtype\", \n",
    "    cluster_of_intere=cluster_of_intere, sc_cluster_of_intere=cluster_of_intere, \n",
    "    save=False, whole=False)"
   ]
  },
  {
   "cell_type": "code",
   "execution_count": 123,
   "metadata": {},
   "outputs": [],
   "source": [
    "# map_plot of raw vs. sc cluster\n",
    "map_plot = pd.DataFrame(corr_matrix, columns=cluster_of_intere, index=cluster_of_intere)\n",
    "df = map_plot.copy()\n",
    "all_nan_columns = df.columns[df.isna().all()].tolist()\n",
    "all_nan_rows = df.index[df.isna().all(axis=1)].tolist()\n",
    "union_set = set(all_nan_columns).union(all_nan_rows)\n",
    "df = df.drop(union_set, axis=0)\n",
    "df = df.drop(union_set, axis=1)\n",
    "\n",
    "plt.figure(figsize=(24, 18))\n",
    "heatmap = sns.heatmap(df, cmap=\"coolwarm\", annot=False)\n",
    "plt.savefig(os.path.join(figure_path, 'corr_sc_subtype.pdf'), bbox_inches = 'tight')\n",
    "plt.close()"
   ]
  }
 ],
 "metadata": {
  "kernelspec": {
   "display_name": "PRISM",
   "language": "python",
   "name": "python3"
  },
  "language_info": {
   "codemirror_mode": {
    "name": "ipython",
    "version": 3
   },
   "file_extension": ".py",
   "mimetype": "text/x-python",
   "name": "python",
   "nbconvert_exporter": "python",
   "pygments_lexer": "ipython3",
   "version": "3.11.9"
  }
 },
 "nbformat": 4,
 "nbformat_minor": 4
}
