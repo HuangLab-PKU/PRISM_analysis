{
 "cells": [
  {
   "cell_type": "code",
   "execution_count": 1,
   "metadata": {},
   "outputs": [],
   "source": [
    "# Loading the Packages\n",
    "%reload_ext autoreload\n",
    "%autoreload 2\n",
    "\n",
    "# basic\n",
    "import warnings\n",
    "warnings.filterwarnings('ignore')\n",
    "import os\n",
    "from pathlib import Path\n",
    "from tqdm import tqdm\n",
    "\n",
    "# data process\n",
    "import numpy as np\n",
    "import pandas as pd\n",
    "import scanpy as sc\n",
    "\n",
    "# visualization\n",
    "import seaborn as sns\n",
    "import matplotlib.pyplot as plt\n",
    "plt.rcParams.update({\n",
    "    \"pgf.texsystem\": \"xelatex\",      # 使用 XeLaTeX，如果不需要 LaTeX 公式渲染，可以省略\n",
    "    'font.family': 'serif',          # 字体设置为衬线字体\n",
    "    'text.usetex': False,            # 禁用 LaTeX，使用 Matplotlib 内置文字渲染\n",
    "    'pgf.rcfonts': False,            # 禁用 pgf 的默认字体管理\n",
    "    'pdf.fonttype': 42,              # 确保字体为 TrueType 格式，可被 Illustrator 编辑\n",
    "    'ps.fonttype': 42,               # EPS 文件也使用 TrueType 格式\n",
    "    'figure.dpi': 300,               # 设置图形分辨率\n",
    "    'savefig.dpi': 300,              # 保存的图形文件分辨率\n",
    "    'axes.unicode_minus': False,     # 避免负号问题\n",
    "})"
   ]
  },
  {
   "cell_type": "code",
   "execution_count": 2,
   "metadata": {},
   "outputs": [],
   "source": [
    "# workdir \n",
    "BASE_DIR = Path(r'G:\\spatial_data')\n",
    "RUN_ID = '20230523_HCC_PRISM_probe_refined'\n",
    "src_path = BASE_DIR / 'processed' / f'{RUN_ID}'\n",
    "analysis_path = BASE_DIR / 'analysis' / f'{RUN_ID}'\n",
    "\n",
    "# Load one slide exp\n",
    "segmend_path = src_path / \"segmented\"\n",
    "typ_path = analysis_path / \"cell_typing\"\n",
    "output_path = analysis_path / \"roi_variation\"\n",
    "output_path.mkdir(exist_ok=True)"
   ]
  },
  {
   "cell_type": "markdown",
   "metadata": {},
   "source": [
    "# ROI define"
   ]
  },
  {
   "cell_type": "code",
   "execution_count": 3,
   "metadata": {},
   "outputs": [],
   "source": [
    "from skimage import io, transform, morphology\n",
    "\n",
    "def ROI_mask_load(input_path, out_path, show=True, save=False):\n",
    "    ROI_mask = {}\n",
    "    for mask_file in os.listdir(input_path):\n",
    "        image = io.imread(os.path.join(input_path, mask_file))\n",
    "        image = transform.rotate(image, angle=90, resize=True)\n",
    "        image = morphology.binary_dilation(image, footprint=morphology.disk(5))\n",
    "        ROI_mask[mask_file.replace('.tif','').replace('Mask', 'ROI')] = image\n",
    "        \n",
    "    ncols = int(-(-len(ROI_mask)**(1/2)//1))\n",
    "    nrows = -(-len(ROI_mask)//ncols)\n",
    "    fig, ax = plt.subplots(nrows=nrows, ncols=ncols, figsize=(ncols*4, nrows*4))\n",
    "    for pos, mask_name in enumerate(list(ROI_mask.keys())):\n",
    "        ax[pos // ncols][pos % ncols].imshow(ROI_mask[mask_name], cmap='gray')\n",
    "        ax[pos // ncols][pos % ncols].set_title(mask_name)\n",
    "        ax[pos // ncols][pos % ncols].set_xlabel(\"\")\n",
    "        ax[pos // ncols][pos % ncols].set_ylabel(\"\")\n",
    "    fig.suptitle('Mask_of_ROIs', fontsize=20)\n",
    "    plt.tight_layout()\n",
    "\n",
    "    if save: plt.savefig(out_path)\n",
    "    elif show: plt.show()\n",
    "    plt.close()\n",
    "\n",
    "    return ROI_mask"
   ]
  },
  {
   "cell_type": "code",
   "execution_count": 4,
   "metadata": {},
   "outputs": [],
   "source": [
    "ROI_mask = ROI_mask_load(input_path=os.path.join(output_path, 'roi_mask'), \n",
    "                         show=False, save=True, out_path=os.path.join(output_path, 'roi_mask.png'))"
   ]
  },
  {
   "cell_type": "code",
   "execution_count": 6,
   "metadata": {},
   "outputs": [
    {
     "name": "stderr",
     "output_type": "stream",
     "text": [
      "ROI_1: 100%|██████████| 80396/80396 [00:01<00:00, 53902.23it/s]\n",
      "ROI_2: 100%|██████████| 80396/80396 [00:01<00:00, 56511.72it/s]\n",
      "ROI_3: 100%|██████████| 80396/80396 [00:01<00:00, 59343.69it/s]\n",
      "ROI_4: 100%|██████████| 80396/80396 [00:01<00:00, 65010.42it/s]\n",
      "ROI_5: 100%|██████████| 80396/80396 [00:01<00:00, 60161.11it/s]\n"
     ]
    },
    {
     "data": {
      "text/plain": [
       "View of AnnData object with n_obs × n_vars = 60329 × 31\n",
       "    obs: 'dataset', 'n_genes', 'n_counts', 'leiden_type', 'type', 'leiden_subtype', 'subtype', 'Y_pos', 'X_pos', 'ROI'\n",
       "    var: 'n_cells_by_counts', 'mean_counts', 'log1p_mean_counts', 'pct_dropout_by_counts', 'total_counts', 'log1p_total_counts', 'n_cells', 'mean', 'std'\n",
       "    uns: 'leiden', 'log1p', 'neighbors', 'pca', 'umap'\n",
       "    obsm: 'X_pca', 'X_umap', 'spatial'\n",
       "    varm: 'PCs'\n",
       "    obsp: 'connectivities', 'distances'"
      ]
     },
     "execution_count": 6,
     "metadata": {},
     "output_type": "execute_result"
    }
   ],
   "source": [
    "adata = sc.read_h5ad(typ_path / 'adata.h5ad')\n",
    "ROI_mask = ROI_mask_load(input_path=output_path/'roi_mask', show=False, save=False, out_path=None)\n",
    "adata.obs['Y_pos'] = adata.obsm['spatial'][:, 0]\n",
    "adata.obs['X_pos'] = adata.obsm['spatial'][:, 1]\n",
    "adata.obs['ROI'] = pd.Categorical(['other']*len(adata), categories=list(ROI_mask.keys()) + ['other'], ordered=False)    \n",
    "for _, mask in ROI_mask.items():\n",
    "    yrange = mask.shape[0]\n",
    "    for cell in tqdm(adata.obs.index, desc=_):\n",
    "        if mask[yrange - int(adata.obs['Y_pos'].loc[cell]/100), int(adata.obs['X_pos'].loc[cell]/100)]:\n",
    "            adata.obs['ROI'].loc[cell] = _\n",
    "adata = adata[adata.obs['type'] != 'other']\n",
    "adata"
   ]
  },
  {
   "cell_type": "markdown",
   "metadata": {},
   "source": [
    "# ROI gene exp"
   ]
  },
  {
   "cell_type": "code",
   "execution_count": 7,
   "metadata": {},
   "outputs": [],
   "source": [
    "import pandas as pd\n",
    "# from scipy.sparse import isspparse\n",
    "\n",
    "# 确认目标基因存在于adata.raw中\n",
    "target_genes = ['AFP', 'GPC3', 'MKI67', 'HBV']\n",
    "missing_genes = [gene for gene in target_genes if gene not in adata.raw.var_names]\n",
    "if missing_genes:\n",
    "    raise ValueError(f\"Genes not found in adata.raw: {missing_genes}\")\n",
    "\n",
    "# 获取所有唯一ROI\n",
    "rois = adata.obs['ROI'].unique()\n",
    "\n",
    "# 存储结果的字典\n",
    "mean_exp_dict = {}\n",
    "\n",
    "for roi in rois:\n",
    "    # 获取当前ROI的细胞掩码\n",
    "    mask = adata.obs['ROI'] == roi\n",
    "    # 提取对应细胞和基因的表达数据\n",
    "    roi_data = adata.raw[mask, target_genes].X\n",
    "    \n",
    "    # 计算均值（处理稀疏矩阵）\n",
    "    # if issparse(roi_data):\n",
    "    #     mean_exp = roi_data.mean(axis=0).A1  # 转换为numpy数组\n",
    "    # else:\n",
    "    mean_exp = roi_data.mean(axis=0)\n",
    "    \n",
    "    mean_exp_dict[roi] = mean_exp\n",
    "\n",
    "# 转换为DataFrame\n",
    "result_df = pd.DataFrame.from_dict(\n",
    "    mean_exp_dict, \n",
    "    orient='index', \n",
    "    columns=target_genes\n",
    ")\n",
    "result_df = result_df.loc[['ROI_1', 'ROI_2', 'ROI_3', 'ROI_4', 'ROI_5']]\n",
    "# normalize by gene\n",
    "result_df = result_df.div(result_df.sum(axis=1), axis=0)"
   ]
  },
  {
   "cell_type": "code",
   "execution_count": 16,
   "metadata": {},
   "outputs": [],
   "source": [
    "plt.figure(figsize=(5, 2))\n",
    "sns.heatmap(result_df.T, cmap='coolwarm', vmax=0.7)\n",
    "plt.savefig(os.path.join(output_path, 'mean_exp.pdf'))\n",
    "plt.close()"
   ]
  },
  {
   "cell_type": "markdown",
   "metadata": {},
   "source": [
    "# ROI_cell type"
   ]
  },
  {
   "cell_type": "code",
   "execution_count": 29,
   "metadata": {},
   "outputs": [],
   "source": [
    "import yaml\n",
    "\n",
    "with open(analysis_path / \"cell_typing_params.yaml\") as f:\n",
    "    params = yaml.load(f, Loader=yaml.FullLoader)\n",
    "\n",
    "cell_type_dict = {key: list(value.keys()) for key, value in params['leiden_annotation'].items()}\n",
    "type_colormap = params['type_colormap']"
   ]
  },
  {
   "cell_type": "code",
   "execution_count": 30,
   "metadata": {},
   "outputs": [],
   "source": [
    "from collections import Counter\n",
    "\n",
    "ROI_cluster = pd.DataFrame(index=list(type_colormap.keys())[:-1])\n",
    "\n",
    "for _, mask in ROI_mask.items():\n",
    "    yrange = mask.shape[0]\n",
    "    tmp_adata_st = adata[adata.obs.ROI == _]\n",
    "    tmp = Counter(tmp_adata_st.obs.type)\n",
    "    df = pd.DataFrame(tmp, index=[0]).T\n",
    "    df.columns = [_]\n",
    "    ROI_cluster = pd.concat([ROI_cluster, df], axis=1)"
   ]
  },
  {
   "cell_type": "code",
   "execution_count": 31,
   "metadata": {},
   "outputs": [],
   "source": [
    "import matplotlib.ticker as mtick\n",
    "from matplotlib import cm\n",
    "from matplotlib.colors import LinearSegmentedColormap\n",
    "\n",
    "colors = [_ for _ in type_colormap.values()][:-1]\n",
    "cmap = LinearSegmentedColormap.from_list('my_colormap', colors)\n",
    "\n",
    "fig, ax = plt.subplots(ncols=2, nrows=1, figsize=(15, 7))\n",
    "sc.pl.umap(adata, size=2, show=False, palette=type_colormap, \n",
    "           color=\"type\", legend_loc=\"on data\", legend_fontweight=50, legend_fontsize=10, ax=ax[0])\n",
    "\n",
    "df = ROI_cluster.T\n",
    "df = df.div(df.sum(axis=1), axis=0) * 100\n",
    "ax[1] = df.plot(kind='bar', stacked=True, colormap=cmap, ax=ax[1])\n",
    "ax[1].yaxis.set_major_formatter(mtick.PercentFormatter())\n",
    "ax[1].set_title('content of different cluster on ROIs')\n",
    "\n",
    "plt.legend(loc='upper center', bbox_to_anchor=(1.2, 1), ncols=1)\n",
    "plt.tight_layout()\n",
    "plt.savefig(os.path.join(output_path, 'roi_type_cell_comp.png'))\n",
    "plt.close()"
   ]
  },
  {
   "cell_type": "code",
   "execution_count": 32,
   "metadata": {},
   "outputs": [],
   "source": [
    "ROI_cluster_immune = ROI_cluster[ROI_cluster.index.isin(['Liver','Tumor','Endo','Ep','CAF'])]\n",
    "ROI_cluster_nonimmune = ROI_cluster[~ROI_cluster.index.isin(['Liver','Tumor','Endo','Ep','CAF'])]"
   ]
  },
  {
   "cell_type": "code",
   "execution_count": 33,
   "metadata": {},
   "outputs": [],
   "source": [
    "import matplotlib.ticker as mtick\n",
    "from matplotlib.colors import LinearSegmentedColormap\n",
    "\n",
    "\n",
    "fig, ax = plt.subplots(ncols=2, nrows=1, figsize=(30, 10))\n",
    "\n",
    "colors = [_ for _ in type_colormap.values()][:-1]\n",
    "cmap1 = LinearSegmentedColormap.from_list('my_colormap', colors[:5])\n",
    "cmap2 = LinearSegmentedColormap.from_list('my_colormap', colors[5:])\n",
    "\n",
    "df = ROI_cluster_immune.T\n",
    "df = df.div(df.sum(axis=1), axis=0) * 100\n",
    "df.plot(kind='bar', stacked=True, figsize=(20,10), colormap=cmap1, ax=ax[0])\n",
    "ax[0].yaxis.set_major_formatter(mtick.PercentFormatter())\n",
    "ax[0].set_title('content of different cluster on ROIs')\n",
    "\n",
    "df = ROI_cluster_nonimmune.T\n",
    "df = df.div(df.sum(axis=1), axis=0) * 100\n",
    "df.plot(kind='bar', stacked=True, figsize=(20,10), colormap=cmap2, ax=ax[1])\n",
    "ax[1].yaxis.set_major_formatter(mtick.PercentFormatter())\n",
    "ax[1].set_title('content of different cluster on ROIs')\n",
    "plt.savefig(os.path.join(output_path, 'roi_type_cell_comp_div.png'))\n",
    "plt.close()"
   ]
  },
  {
   "cell_type": "markdown",
   "metadata": {},
   "source": [
    "# Ro/e"
   ]
  },
  {
   "cell_type": "code",
   "execution_count": 34,
   "metadata": {},
   "outputs": [
    {
     "data": {
      "text/plain": [
       "View of AnnData object with n_obs × n_vars = 60329 × 31\n",
       "    obs: 'dataset', 'n_genes_by_counts', 'log1p_n_genes_by_counts', 'total_counts', 'log1p_total_counts', 'n_genes', 'n_counts', 'tissue', 'leiden', 'type', 'sample', 'tmp_leiden', 'leiden_subtype', 'subtype', 'leiden_type', 'Y_pos', 'X_pos', 'ROI'\n",
       "    var: 'n_cells_by_counts', 'mean_counts', 'log1p_mean_counts', 'pct_dropout_by_counts', 'total_counts', 'log1p_total_counts', 'n_cells', 'mean', 'std'\n",
       "    uns: 'leiden', 'log1p', 'neighbors', 'pca', 'umap', 'type_colors'\n",
       "    obsm: 'X_pca', 'X_umap'\n",
       "    varm: 'PCs'\n",
       "    obsp: 'connectivities', 'distances'"
      ]
     },
     "execution_count": 34,
     "metadata": {},
     "output_type": "execute_result"
    }
   ],
   "source": [
    "adata = adata[adata.obs['type'] != 'other']\n",
    "adata"
   ]
  },
  {
   "cell_type": "code",
   "execution_count": 35,
   "metadata": {},
   "outputs": [],
   "source": [
    "with open(output_path/'params.yaml') as f:\n",
    "    params = yaml.load(f, Loader=yaml.FullLoader)\n",
    "    type_of_interest = params['type_of_interest']\n",
    "# type_of_interest = [[subtype] for subtype_list in cell_type_dict.values() for subtype in subtype_list]\n",
    "\n",
    "ROIs = [f'ROI_{i}' for i in [1, 2, 3, 4, 5]]\n",
    "R_oe = pd.DataFrame(columns=ROIs)\n",
    "R_oe['type_of_in'] = [', '.join(_) for _ in type_of_interest]\n",
    "R_oe.set_index('type_of_in', inplace = True)\n",
    "\n",
    "adata_for_ROE = adata[adata.obs.ROI.isin(ROIs)]\n",
    "total_cell_num = len(adata_for_ROE)\n",
    "\n",
    "for subtype_list in type_of_interest:\n",
    "    for region in ROIs:\n",
    "        adata_for_ROI = adata_for_ROE[adata_for_ROE.obs.ROI == region]\n",
    "        adata_for_ROI_subtype = adata_for_ROI[adata_for_ROI.obs.subtype.isin(subtype_list)]\n",
    "\n",
    "        observed_num = len(adata_for_ROI_subtype)\n",
    "        expect_num = (len(adata_for_ROE[adata_for_ROE.obs.ROI==region]) * len(adata_for_ROE[adata_for_ROE.obs.subtype.isin(subtype_list)]))/total_cell_num\n",
    "        if expect_num == 0:\n",
    "            R_oe.loc[', '.join(subtype_list), region] = 0\n",
    "            continue\n",
    "\n",
    "        R_oe.loc[', '.join(subtype_list), region] = observed_num/expect_num\n",
    "\n",
    "plt.figure(figsize=(7, 10))\n",
    "sns.heatmap([list(_) for _ in np.array(R_oe)], cmap=\"coolwarm\", \n",
    "            xticklabels=R_oe.columns, yticklabels=R_oe.index, vmax=2.5) # vmin=-0.5,\n",
    "plt.title(f\"R observed/expected\")\n",
    "plt.tight_layout()\n",
    "plt.savefig(output_path / 'roe.pdf')\n",
    "plt.close()"
   ]
  }
 ],
 "metadata": {
  "kernelspec": {
   "display_name": "PRISM",
   "language": "python",
   "name": "python3"
  },
  "language_info": {
   "codemirror_mode": {
    "name": "ipython",
    "version": 3
   },
   "file_extension": ".py",
   "mimetype": "text/x-python",
   "name": "python",
   "nbconvert_exporter": "python",
   "pygments_lexer": "ipython3",
   "version": "3.11.9"
  }
 },
 "nbformat": 4,
 "nbformat_minor": 2
}
