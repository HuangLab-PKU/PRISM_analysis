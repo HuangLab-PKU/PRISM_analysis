{
 "cells": [
  {
   "cell_type": "code",
   "execution_count": 7,
   "id": "0329f411",
   "metadata": {},
   "outputs": [],
   "source": [
    "%load_ext autoreload\n",
    "%autoreload 2"
   ]
  },
  {
   "cell_type": "code",
   "execution_count": 8,
   "id": "a0455c1e",
   "metadata": {},
   "outputs": [],
   "source": [
    "import warnings\n",
    "warnings.filterwarnings('ignore')\n",
    "import os\n",
    "import sys\n",
    "from pathlib import Path\n",
    "from tqdm import tqdm\n",
    "\n",
    "import pandas as pd\n",
    "import numpy as np\n",
    "import matplotlib.pyplot as plt\n",
    "plt.rcParams.update({\n",
    "    \"pgf.texsystem\": \"xelatex\",\n",
    "    'font.family': 'serif',\n",
    "    'text.usetex': False,\n",
    "    'pgf.rcfonts': False,\n",
    "    'figure.dpi': 300,\n",
    "})\n",
    "import seaborn as sns"
   ]
  },
  {
   "cell_type": "code",
   "execution_count": 39,
   "id": "393e1ab8",
   "metadata": {},
   "outputs": [],
   "source": [
    "exp_mtx = pd.read_csv(r'g:\\spatial_data\\processed\\20230705_PRISM3D_mousebrain_HT_confocal\\segmented\\expression_matrix.csv', index_col=0)\n",
    "gene_list = [_.upper() for _ in exp_mtx.columns]"
   ]
  },
  {
   "cell_type": "code",
   "execution_count": 10,
   "id": "04f6fdca",
   "metadata": {},
   "outputs": [],
   "source": [
    "mapped_genes_raw = pd.read_csv('detected_transcripts_S2R1.csv', index_col=0)"
   ]
  },
  {
   "cell_type": "code",
   "execution_count": 40,
   "id": "571cfc28",
   "metadata": {},
   "outputs": [
    {
     "name": "stdout",
     "output_type": "stream",
     "text": [
      "['Gad1' 'Slc17a7' 'Gfap' 'Cx3cr1' 'Aqp4']\n"
     ]
    }
   ],
   "source": [
    "mapped_genes = mapped_genes_raw[mapped_genes_raw['gene'].map(lambda x: x.upper()).isin(gene_list)]\n",
    "print(mapped_genes['gene'].unique())"
   ]
  },
  {
   "cell_type": "code",
   "execution_count": 41,
   "id": "59385791",
   "metadata": {},
   "outputs": [
    {
     "data": {
      "text/html": [
       "<div>\n",
       "<style scoped>\n",
       "    .dataframe tbody tr th:only-of-type {\n",
       "        vertical-align: middle;\n",
       "    }\n",
       "\n",
       "    .dataframe tbody tr th {\n",
       "        vertical-align: top;\n",
       "    }\n",
       "\n",
       "    .dataframe thead th {\n",
       "        text-align: right;\n",
       "    }\n",
       "</style>\n",
       "<table border=\"1\" class=\"dataframe\">\n",
       "  <thead>\n",
       "    <tr style=\"text-align: right;\">\n",
       "      <th></th>\n",
       "      <th>barcode_id</th>\n",
       "      <th>global_x</th>\n",
       "      <th>global_y</th>\n",
       "      <th>global_z</th>\n",
       "      <th>x</th>\n",
       "      <th>y</th>\n",
       "      <th>fov</th>\n",
       "      <th>gene</th>\n",
       "    </tr>\n",
       "  </thead>\n",
       "  <tbody>\n",
       "    <tr>\n",
       "      <th>5</th>\n",
       "      <td>379</td>\n",
       "      <td>64.45234</td>\n",
       "      <td>3482.4714</td>\n",
       "      <td>0.0</td>\n",
       "      <td>176.20090</td>\n",
       "      <td>139.73760</td>\n",
       "      <td>1</td>\n",
       "      <td>Gad1</td>\n",
       "    </tr>\n",
       "    <tr>\n",
       "      <th>32</th>\n",
       "      <td>379</td>\n",
       "      <td>299.31070</td>\n",
       "      <td>3092.4124</td>\n",
       "      <td>0.0</td>\n",
       "      <td>419.14548</td>\n",
       "      <td>227.97830</td>\n",
       "      <td>9</td>\n",
       "      <td>Gad1</td>\n",
       "    </tr>\n",
       "    <tr>\n",
       "      <th>54</th>\n",
       "      <td>384</td>\n",
       "      <td>266.33380</td>\n",
       "      <td>3595.0205</td>\n",
       "      <td>0.0</td>\n",
       "      <td>195.38359</td>\n",
       "      <td>1155.00680</td>\n",
       "      <td>11</td>\n",
       "      <td>Slc17a7</td>\n",
       "    </tr>\n",
       "    <tr>\n",
       "      <th>55</th>\n",
       "      <td>384</td>\n",
       "      <td>275.34300</td>\n",
       "      <td>3597.0708</td>\n",
       "      <td>1.0</td>\n",
       "      <td>278.80200</td>\n",
       "      <td>1173.99010</td>\n",
       "      <td>11</td>\n",
       "      <td>Slc17a7</td>\n",
       "    </tr>\n",
       "    <tr>\n",
       "      <th>74</th>\n",
       "      <td>420</td>\n",
       "      <td>241.69711</td>\n",
       "      <td>4290.3150</td>\n",
       "      <td>0.0</td>\n",
       "      <td>144.36629</td>\n",
       "      <td>154.38948</td>\n",
       "      <td>15</td>\n",
       "      <td>Gfap</td>\n",
       "    </tr>\n",
       "  </tbody>\n",
       "</table>\n",
       "</div>"
      ],
      "text/plain": [
       "    barcode_id   global_x   global_y  global_z          x           y  fov  \\\n",
       "5          379   64.45234  3482.4714       0.0  176.20090   139.73760    1   \n",
       "32         379  299.31070  3092.4124       0.0  419.14548   227.97830    9   \n",
       "54         384  266.33380  3595.0205       0.0  195.38359  1155.00680   11   \n",
       "55         384  275.34300  3597.0708       1.0  278.80200  1173.99010   11   \n",
       "74         420  241.69711  4290.3150       0.0  144.36629   154.38948   15   \n",
       "\n",
       "       gene  \n",
       "5      Gad1  \n",
       "32     Gad1  \n",
       "54  Slc17a7  \n",
       "55  Slc17a7  \n",
       "74     Gfap  "
      ]
     },
     "execution_count": 41,
     "metadata": {},
     "output_type": "execute_result"
    }
   ],
   "source": [
    "mapped_genes.to_csv('detected_transcripts_S2R1_overlap.csv')\n",
    "mapped_genes.head()"
   ]
  },
  {
   "cell_type": "code",
   "execution_count": 42,
   "id": "ae76ba2c",
   "metadata": {},
   "outputs": [],
   "source": [
    "mapped_genes['Y'] = mapped_genes['global_y']\n",
    "mapped_genes['X'] = mapped_genes['global_x']"
   ]
  },
  {
   "cell_type": "code",
   "execution_count": 43,
   "id": "a035276d",
   "metadata": {},
   "outputs": [
    {
     "name": "stdout",
     "output_type": "stream",
     "text": [
      "(7454, 9495)\n"
     ]
    },
    {
     "name": "stderr",
     "output_type": "stream",
     "text": [
      "100%|██████████| 5/5 [00:01<00:00,  2.75it/s]\n"
     ]
    }
   ],
   "source": [
    "from glob import glob\n",
    "from tifffile import imwrite\n",
    "\n",
    "density_dir = Path('density')\n",
    "density_dir.mkdir(exist_ok=True)\n",
    "\n",
    "\n",
    "im_shape = int(mapped_genes['Y'].max())+2, int(mapped_genes['X'].max())+2\n",
    "print(im_shape)\n",
    "\n",
    "def plot_density_downsample(df, fac=20):\n",
    "    y = (im_shape[0] // fac) + 1\n",
    "    x = (im_shape[1] // fac) + 1\n",
    "    coordinates = df[['Y','X']].to_numpy()\n",
    "    canvas = np.zeros((y*fac, x*fac),dtype=np.uint16)\n",
    "    canvas[coordinates[:,0], coordinates[:,1]] = 1\n",
    "    canvas_down = canvas.reshape(y,fac,x,fac).sum(-1).sum(1)\n",
    "    return canvas_down\n",
    "\n",
    "for gene in tqdm(mapped_genes['gene'].unique()):\n",
    "    # if glob(str(density_dir / f'{gene}.tif')): continue\n",
    "    # else: \n",
    "    image = plot_density_downsample(mapped_genes[mapped_genes['gene']==gene][['Y', 'X']].astype(int))\n",
    "    imwrite(density_dir/f'{gene}.tif', image.astype(np.uint16))"
   ]
  }
 ],
 "metadata": {
  "kernelspec": {
   "display_name": "PRISM",
   "language": "python",
   "name": "python3"
  },
  "language_info": {
   "codemirror_mode": {
    "name": "ipython",
    "version": 3
   },
   "file_extension": ".py",
   "mimetype": "text/x-python",
   "name": "python",
   "nbconvert_exporter": "python",
   "pygments_lexer": "ipython3",
   "version": "3.11.9"
  }
 },
 "nbformat": 4,
 "nbformat_minor": 5
}
