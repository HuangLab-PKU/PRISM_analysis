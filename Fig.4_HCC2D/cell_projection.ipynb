{
 "cells": [
  {
   "cell_type": "code",
   "execution_count": 1,
   "metadata": {},
   "outputs": [],
   "source": [
    "# Loading the Packages\n",
    "%reload_ext autoreload\n",
    "%autoreload 2\n",
    "\n",
    "import warnings\n",
    "warnings.filterwarnings('ignore')\n",
    "import os\n",
    "from pathlib import Path\n",
    "import pickle\n",
    "from tqdm import tqdm\n",
    "\n",
    "import numpy as np\n",
    "import pandas as pd\n",
    "import scanpy as sc\n",
    "\n",
    "from tifffile import imread, imwrite\n",
    "import seaborn as sns\n",
    "import matplotlib.pyplot as plt\n",
    "plt.rcParams.update({\n",
    "    \"pgf.texsystem\": \"xelatex\",      # 使用 XeLaTeX，如果不需要 LaTeX 公式渲染，可以省略\n",
    "    'font.family': 'serif',          # 字体设置为衬线字体\n",
    "    'text.usetex': False,            # 禁用 LaTeX，使用 Matplotlib 内置文字渲染\n",
    "    'pgf.rcfonts': False,            # 禁用 pgf 的默认字体管理\n",
    "    'pdf.fonttype': 42,              # 确保字体为 TrueType 格式，可被 Illustrator 编辑\n",
    "    'ps.fonttype': 42,               # EPS 文件也使用 TrueType 格式\n",
    "    'figure.dpi': 300,               # 设置图形分辨率\n",
    "    'savefig.dpi': 300,              # 保存的图形文件分辨率\n",
    "    'axes.unicode_minus': False,     # 避免负号问题\n",
    "})"
   ]
  },
  {
   "cell_type": "code",
   "execution_count": 2,
   "metadata": {},
   "outputs": [],
   "source": [
    "# workdir \n",
    "BASE_DIR = Path(r'G:\\spatial_data')\n",
    "RUN_ID = '20230523_HCC_PRISM_probe_refined'\n",
    "src_path = BASE_DIR / 'processed' / f'{RUN_ID}'\n",
    "analysis_path = BASE_DIR / 'analysis' / f'{RUN_ID}'\n",
    "\n",
    "# Load one slide exp\n",
    "segmend_path = src_path / \"segmented\"\n",
    "typ_path = analysis_path / \"cell_typing\"\n",
    "projection_path = analysis_path / \"projection\"\n",
    "os.makedirs(projection_path, exist_ok=True)"
   ]
  },
  {
   "cell_type": "code",
   "execution_count": 3,
   "metadata": {},
   "outputs": [],
   "source": [
    "def show_cluster(hulls, type_indices, cluster_list, COI='', cluster_colormap=[\"red\"] * 200, ax='', linewidth=0.1, name='projection', show=True, save=False, outpath='',showname=True, verbose=True):\n",
    "    cell = 0\n",
    "    for ind in cluster_list:\n",
    "        for idx in tqdm(type_indices[ind], desc=f'cell for cluster_{ind}', disable=not verbose):\n",
    "            idx = int(idx)\n",
    "            try:\n",
    "                ax.fill(hulls[idx][:, 1], hulls[idx][:, 0],color=cluster_colormap[ind], linewidth=linewidth, alpha=1)\n",
    "                if cluster_colormap[ind] != (0.9,0.9,0.9):\n",
    "                    cell += 1\n",
    "            except KeyError: pass\n",
    "    ax.set_xlim([0, 37500])\n",
    "    ax.set_ylim([0, 35000])\n",
    "    if showname: ax.set_title(f\"{COI}, cell_num={cell}, linewidth={linewidth}\")\n",
    "    else: ax.set_title(f\"cell_num={cell}\")\n",
    "    if verbose: print(f'{cell} cells have been ploted.')\n",
    "    \n",
    "    if save: plt.savefig(outpath)\n",
    "    elif show: plt.show()\n",
    "    else: pass"
   ]
  },
  {
   "cell_type": "markdown",
   "metadata": {},
   "source": [
    "# create hulls"
   ]
  },
  {
   "cell_type": "code",
   "execution_count": null,
   "metadata": {},
   "outputs": [],
   "source": [
    "# cell show\n",
    "import pandas as pd\n",
    "import numpy as np\n",
    "from scipy.spatial import ConvexHull\n",
    "import matplotlib.pyplot as plt\n",
    "\n",
    "def create_hull(rna_pos):\n",
    "    hulls = {}\n",
    "    df_group = rna_pos.groupby(\"Cell Index\")\n",
    "    for group in tqdm(df_group, desc=\"hull\"):\n",
    "        coordinates = group[1][[\"Y\", \"X\"]].values\n",
    "        try: hull = ConvexHull(coordinates)\n",
    "        except: continue\n",
    "        coordinate_path = np.vstack((coordinates[hull.vertices, 0], coordinates[hull.vertices, 1])).T\n",
    "        hulls[group[0]] = coordinate_path\n",
    "    return hulls"
   ]
  },
  {
   "cell_type": "code",
   "execution_count": null,
   "metadata": {},
   "outputs": [],
   "source": [
    "rna_pos = pd.read_csv(segmend_path / 'rna_labeled.csv')\n",
    "hulls = create_hull(rna_pos)\n",
    "pickle.dump(hulls, open(projection_path / 'hulls.pkl', 'wb'))"
   ]
  },
  {
   "cell_type": "markdown",
   "metadata": {},
   "source": [
    "# cell type"
   ]
  },
  {
   "cell_type": "code",
   "execution_count": 4,
   "metadata": {},
   "outputs": [
    {
     "data": {
      "text/plain": [
       "AnnData object with n_obs × n_vars = 80396 × 31\n",
       "    obs: 'dataset', 'n_genes', 'n_counts', 'leiden_type', 'type', 'leiden_subtype', 'subtype'\n",
       "    var: 'n_cells_by_counts', 'mean_counts', 'log1p_mean_counts', 'pct_dropout_by_counts', 'total_counts', 'log1p_total_counts', 'n_cells', 'mean', 'std'\n",
       "    uns: 'leiden', 'log1p', 'neighbors', 'pca', 'umap'\n",
       "    obsm: 'X_pca', 'X_umap', 'spatial'\n",
       "    varm: 'PCs'\n",
       "    obsp: 'connectivities', 'distances'"
      ]
     },
     "execution_count": 4,
     "metadata": {},
     "output_type": "execute_result"
    }
   ],
   "source": [
    "adata = sc.read_h5ad(os.path.join(typ_path, 'adata.h5ad'))\n",
    "adata"
   ]
  },
  {
   "cell_type": "code",
   "execution_count": 5,
   "metadata": {},
   "outputs": [],
   "source": [
    "with open(projection_path / 'hulls_type.pkl', 'rb') as f: hulls = pickle.load(f)"
   ]
  },
  {
   "cell_type": "code",
   "execution_count": 6,
   "metadata": {},
   "outputs": [],
   "source": [
    "import yaml\n",
    "cell_typing_params = yaml.safe_load(open(os.path.join(analysis_path, 'cell_typing_params.yaml'), 'r'))\n",
    "type_colormap = cell_typing_params['type_colormap']\n",
    "subtype_colormap = dict()\n",
    "\n",
    "leiden_annotation = cell_typing_params['leiden_annotation']\n",
    "leiden_subtype_annotation = {}\n",
    "for type_key, subtypes in leiden_annotation.items():\n",
    "    type_values = []\n",
    "    type_color = type_colormap[type_key]\n",
    "    for subtype_key, values in subtypes.items():\n",
    "        type_values.extend(values)\n",
    "        leiden_subtype_annotation[subtype_key] = values\n",
    "        subtype_colormap[subtype_key] = type_color\n",
    "    leiden_annotation[type_key] = type_values"
   ]
  },
  {
   "cell_type": "markdown",
   "metadata": {},
   "source": [
    "## plot differnent liver"
   ]
  },
  {
   "cell_type": "code",
   "execution_count": null,
   "metadata": {},
   "outputs": [],
   "source": [
    "UMAP_leiden_plot(adata=adata[~adata.obs['type'].isin(['other'])], DOI=['PRISM_HCC'], datatype='harmony', color='type', FOI='HCC', palette=type_colormap, legend_loc='right margin', \n",
    "                 show=False, save=True, out_path=os.path.join(figure_path, 'cell_type_UMAP.png'))"
   ]
  },
  {
   "cell_type": "code",
   "execution_count": null,
   "metadata": {},
   "outputs": [],
   "source": [
    "liver_cells = adata[adata.obs['type']=='Liver']\n",
    "print(liver_cells.obs.leiden.unique())\n",
    "liver_cells"
   ]
  },
  {
   "cell_type": "code",
   "execution_count": null,
   "metadata": {},
   "outputs": [],
   "source": [
    "cancer_liver_leiden = [str(_) for _ in [11,20,32,90,77,70,65,74,42]]\n",
    "cancer_liver = liver_cells[liver_cells.obs.leiden.isin(cancer_liver_leiden)]\n",
    "other_liver_leiden = [str(_) for _ in [40,62,7,73,92,57]]\n",
    "other_liver = liver_cells[liver_cells.obs.leiden.isin(other_liver_leiden)]\n",
    "\n",
    "liver_cells.obs['liver_subtype'] = ['-1']*len(liver_cells)\n",
    "liver_cells.obs.loc[cancer_liver.obs.index, 'liver_subtype'] = ['cancer_liver']*len(cancer_liver)\n",
    "liver_cells.obs.loc[other_liver.obs.index, 'liver_subtype'] = ['other_liver']*len(other_liver)"
   ]
  },
  {
   "cell_type": "code",
   "execution_count": null,
   "metadata": {},
   "outputs": [],
   "source": [
    "tmp_adata = liver_cells.copy()\n",
    "tmp_adata.obs.index = [_.split('-')[0] for _ in tmp_adata.obs.index]\n",
    "hulls, type_indices = create_hull(tmp_adata, clus_obs=\"liver_subtype\", cont_thre=5, \n",
    "                                rna_pos = pd.read_csv(os.path.join(base_path, 'segmented', \"rna_labeled_0818_HCC.csv\")))"
   ]
  },
  {
   "cell_type": "code",
   "execution_count": null,
   "metadata": {},
   "outputs": [],
   "source": [
    "fig, ax = plt.subplots(figsize=(10, 10))\n",
    "show_cluster(hulls, type_indices, cluster_list=['cancer_liver', 'other_liver'], \n",
    "             cluster_colormap={\"cancer_liver\":(1,0,0), \"other_liver\":(0,0,1)}, \n",
    "            linewidth=2, ax=ax, show=False, save=False)\n",
    "cell_num_ = len(tmp_adata)\n",
    "fig.suptitle(f'2D_Projection, cell_num={cell_num_}\\n\\n', fontsize=20)\n",
    "plt.tight_layout()\n",
    "plt.savefig(os.path.join(figure_path, 'projection_dif_type_Liver.png'), dpi=300)\n",
    "plt.close()"
   ]
  },
  {
   "cell_type": "markdown",
   "metadata": {},
   "source": [
    "## type"
   ]
  },
  {
   "cell_type": "code",
   "execution_count": null,
   "metadata": {},
   "outputs": [],
   "source": [
    "import pickle\n",
    "\n",
    "# plot type cluster if not exist\n",
    "if not os.path.exists(os.path.join(typ_path, 'hulls_type.pkl')) or not os.path.exists(os.path.join(typ_path, 'type_indices.pkl')):\n",
    "    # plot type cluster\n",
    "    tmp_adata = adata[adata.obs.type != 'other']\n",
    "    tmp_adata.obs.index = [_.split('-')[0] for _ in tmp_adata.obs.index]\n",
    "    hulls, type_indices = create_hull(tmp_adata, clus_obs=\"type\", cont_thre=5, \n",
    "                                    rna_pos = pd.read_csv(os.path.join(base_path, 'segmented', \"rna_labeled_0818_HCC.csv\")))\n",
    "    # save hulls and type_indices\n",
    "    with open(os.path.join(typ_path, 'hulls_type.pkl'), 'wb') as f: pickle.dump(hulls, f)\n",
    "    with open(os.path.join(typ_path, 'type_indices.pkl'), 'wb') as f: pickle.dump(type_indices, f)\n",
    "\n",
    "else:\n",
    "    with open(os.path.join(typ_path, 'hulls_type.pkl'), 'rb') as f: hulls = pickle.load(f)\n",
    "    with open(os.path.join(typ_path, 'type_indices.pkl'), 'rb') as f: type_indices = pickle.load(f)"
   ]
  },
  {
   "cell_type": "markdown",
   "metadata": {},
   "source": [
    "### all in one"
   ]
  },
  {
   "cell_type": "code",
   "execution_count": 10,
   "metadata": {},
   "outputs": [],
   "source": [
    "from skimage.draw import polygon\n",
    "from PIL import Image\n",
    "from copy import deepcopy\n",
    "\n",
    "downsize = 0.25\n",
    "# 参数设置\n",
    "pixel_resolution = 1  # 调整此值以提高分辨率（例如10.0）\n",
    "background_color = (255, 255, 255)  # 背景色（白色）\n",
    "\n",
    "adata_tmp = adata.copy()\n",
    "adata_tmp.obs['X_pos'] = adata_tmp.obsm['spatial'][:, 1] * downsize\n",
    "adata_tmp.obs['Y_pos'] = adata_tmp.obsm['spatial'][:, 0] * downsize\n",
    "\n",
    "# 获取坐标范围\n",
    "xmin, xmax = adata_tmp.obs['X_pos'].min(), adata_tmp.obs['X_pos'].max()\n",
    "ymin, ymax = adata_tmp.obs['Y_pos'].min(), adata_tmp.obs['Y_pos'].max()\n",
    "\n",
    "# 计算画布尺寸（增加边界避免坐标溢出）\n",
    "width_px = int((xmax - xmin) * pixel_resolution) + 200\n",
    "height_px = int((ymax - ymin) * pixel_resolution) + 200\n",
    "\n",
    "# 创建RGB画布\n",
    "canvas = np.full((height_px, width_px, 3), background_color, dtype=np.uint8)\n",
    "\n",
    "# 坐标转换函数（确保x,y顺序正确）\n",
    "def coord_to_px(x, y):\n",
    "    px = int((x - xmin) * pixel_resolution) + 100\n",
    "    py = int((y - ymin) * pixel_resolution) + 100\n",
    "    return np.clip(px, 0, width_px-1), np.clip(py, 0, height_px-1)\n",
    "\n",
    "# 遍历细胞并绘制\n",
    "for idx, row in adata_tmp.obs.iterrows():\n",
    "    idx = int(idx)\n",
    "    try:\n",
    "        if idx not in hulls:\n",
    "            print(f\"Warning: {idx} not in hulls, skipping.\")\n",
    "            continue\n",
    "        hull = hulls[idx] * downsize\n",
    "        celltype = row['type']\n",
    "        color = type_colormap[celltype]\n",
    "        color = tuple(int(255 * x) for x in color)\n",
    "        if isinstance(color, str):\n",
    "            if color.startswith('#'):\n",
    "                color = color.lstrip('#')\n",
    "                color = tuple(int(color[i:i+2], 16) for i in (0, 2, 4))\n",
    "            else:\n",
    "                # 处理命名颜色（如'red'需映射到RGB）\n",
    "                from matplotlib.colors import to_rgb\n",
    "                color = tuple(int(255 * x) for x in to_rgb(color))\n",
    "        # 如果hull格式为[y, x]，需转换为[x, y]\n",
    "        hull_xy = hull[:, [1, 0]]  # 假设hull原始格式为[y, x]x\n",
    "        # 转换坐标到像素空间\n",
    "        coords = np.array([coord_to_px(x, y) for x, y in hull_xy])\n",
    "        # 生成多边形像素坐标\n",
    "        rr, cc = polygon(coords[:, 1], coords[:, 0], (height_px, width_px))\n",
    "        canvas[rr, cc, 0] = color[0]  # 红\n",
    "        canvas[rr, cc, 1] = color[1]  # 绿\n",
    "        canvas[rr, cc, 2] = color[2]  # 蓝\n",
    "    except KeyError: continue\n",
    "\n",
    "imwrite(str(projection_path / f'cell_type.tiff'), np.flipud(canvas), photometric='rgb')\n",
    "# img = Image.fromarray(canvas)\n",
    "# img.save(str(projection_path / f\"DC_tumor.png\"), format='PNG')"
   ]
  },
  {
   "cell_type": "code",
   "execution_count": null,
   "metadata": {},
   "outputs": [],
   "source": [
    "# tmp_adata = adata[adata.obs.type!='other']\n",
    "# linewidth = 0.1\n",
    "# fig, ax = plt.subplots(figsize=(10, 10))\n",
    "# show_cluster(hulls, type_indices, cluster_list=list(leiden_type_dict.keys()), cluster_colormap=type_colormap, \n",
    "#               linewidth=linewidth, ax=ax, show=False, save=False, verbose=False)\n",
    "# cell_num_ = len(tmp_adata)\n",
    "# fig.suptitle(f'2D_Projection, cell_num={cell_num_}\\n\\n', fontsize=20)\n",
    "# plt.tight_layout()\n",
    "# plt.savefig(os.path.join(figure_path, f'projection_type_linewidth={linewidth}.pdf'))\n",
    "# plt.close()"
   ]
  },
  {
   "cell_type": "code",
   "execution_count": null,
   "metadata": {},
   "outputs": [],
   "source": [
    "# from IPython.display import clear_output\n",
    "\n",
    "# cluster_all = [_ for _ in leiden_type_dict.keys()]\n",
    "# cluster_of_interest = cluster_all\n",
    "# dpi = 100\n",
    "# linewidth = 1.5\n",
    "# projection_path = os.path.join(figure_path, 'projection_type_brown')\n",
    "# if not os.path.exists(projection_path): os.makedirs(projection_path)\n",
    "# for cluster_num, cluster_type in enumerate(cluster_of_interest):\n",
    "#     clear_output()\n",
    "#     print('{:.1f}%: {}'.format((cluster_num+1)/len(cluster_of_interest)*100, cluster_type))\n",
    "#     tmp_colormap = {_:(0.9,0.9,0.9) for _ in cluster_all}\n",
    "#     # tmp_colormap[cluster_type] = type_colormap[cluster_type]\n",
    "#     tmp_colormap[cluster_type] = 'brown'\n",
    "#     tmp_TOI = [_ for _ in cluster_all]\n",
    "#     tmp_TOI.remove(cluster_type)\n",
    "#     tmp_TOI = tmp_TOI + [cluster_type]\n",
    "#     fig, ax = plt.subplots(figsize=(10, 10))\n",
    "#     show_cluster(hulls, type_indices, cluster_list = tmp_TOI, cluster_colormap=tmp_colormap, COI=cluster_type,\n",
    "#                 ax=ax, show=False, save=False, linewidth=linewidth, name=cluster_type, verbose=False)\n",
    "#     fig.suptitle(f'2D_Projection, cell_num={len(tmp_adata)}\\n\\n', fontsize=20)\n",
    "#     plt.tight_layout()\n",
    "#     plt.savefig(os.path.join(projection_path, rf'{cluster_num}_{cluster_type}_linewidth={linewidth}_dpi={dpi}.png'), dpi=dpi, bbox_inches='tight')\n",
    "#     plt.close()"
   ]
  },
  {
   "cell_type": "markdown",
   "metadata": {},
   "source": [
    "### non-immune"
   ]
  },
  {
   "cell_type": "markdown",
   "metadata": {},
   "source": [
    "#### projection all in one"
   ]
  },
  {
   "cell_type": "code",
   "execution_count": null,
   "metadata": {},
   "outputs": [],
   "source": [
    "tmp_adata = adata[adata.obs.type!='other']\n",
    "tmp_adata[tmp_adata.obs.type.isin(['Tumor', 'CAF', 'Liver', 'Endo', 'Ep'])]"
   ]
  },
  {
   "cell_type": "code",
   "execution_count": null,
   "metadata": {},
   "outputs": [],
   "source": [
    "non_immune_colormap = dict()\n",
    "for type_name in type_colormap.keys():\n",
    "  if type_name in ['Tumor', 'CAF', 'Liver', 'Endo', 'Ep']: non_immune_colormap[type_name]=type_colormap[type_name]\n",
    "  else: non_immune_colormap[type_name]=(0.9,0.9,0.9)  \n",
    "non_immune_colormap"
   ]
  },
  {
   "cell_type": "code",
   "execution_count": null,
   "metadata": {},
   "outputs": [],
   "source": [
    "non_immune_colormap = dict()\n",
    "for type_name in type_colormap.keys():\n",
    "  if type_name in ['Tumor', 'CAF', 'Liver', 'Endo', 'Ep']: non_immune_colormap[type_name]=type_colormap[type_name]\n",
    "  else: non_immune_colormap[type_name]=(0.9,0.9,0.9)  \n",
    "\n",
    "linewidth = 1.5\n",
    "dpi = 100\n",
    "tmp_adata = adata[adata.obs.type!='other']\n",
    "fig, ax = plt.subplots(figsize=(10, 10))\n",
    "show_cluster(hulls, type_indices, cluster_list=list(leiden_type_dict.keys())[5:]+['Tumor', 'CAF', 'Endo', 'Ep', 'Liver'], cluster_colormap=non_immune_colormap, \n",
    "             linewidth=linewidth, ax=ax, show=False, save=False, verbose=False)\n",
    "cell_num_ = len(tmp_adata[tmp_adata.obs.type.isin(['Tumor', 'CAF', 'Liver', 'Endo', 'Ep'])])\n",
    "fig.suptitle(f'2D_Projection, cell_num={cell_num_}\\n\\n', fontsize=20)\n",
    "plt.tight_layout()\n",
    "plt.savefig(os.path.join(figure_path, f'projection_type_non-immune_linewidth={linewidth}_dpi={dpi}.png'), dpi=dpi)\n",
    "plt.close()"
   ]
  },
  {
   "cell_type": "markdown",
   "metadata": {},
   "source": [
    "#### Type separate"
   ]
  },
  {
   "cell_type": "code",
   "execution_count": null,
   "metadata": {},
   "outputs": [],
   "source": [
    "linewidth = 1.5\n",
    "dpi = 100\n",
    "projection_path = os.path.join(figure_path, 'projection_type_color')\n",
    "if not os.path.exists(projection_path): os.makedirs(projection_path)\n",
    "for type_of_i in ['Tumor', 'CAF', 'Endo', 'Ep', 'Liver',]:\n",
    "    non_immune_colormap = dict()\n",
    "    for type_name in type_colormap.keys():\n",
    "        if type_name in [type_of_i]: non_immune_colormap[type_name]=type_colormap[type_name]\n",
    "        else: non_immune_colormap[type_name]=(0.9,0.9,0.9)  \n",
    "    tmp_list = ['Endo', 'Ep', 'Liver', 'Tumor', 'CAF', ]\n",
    "    tmp_list.remove(type_of_i)\n",
    "    fig, ax = plt.subplots(figsize=(10, 10))\n",
    "    show_cluster(hulls, type_indices, cluster_list=list(leiden_type_dict.keys())[5:]+tmp_list+[type_of_i], \n",
    "                cluster_colormap=non_immune_colormap, linewidth=linewidth, ax=ax, show=False, save=False, name=type_of_i, verbose=False)\n",
    "\n",
    "    cell_num_ = len(tmp_adata[tmp_adata.obs.type.isin(['Tumor', 'CAF', 'Liver', 'Endo', 'Ep'])])\n",
    "    fig.suptitle(f'2D_Projection, cell_num={cell_num_}\\n\\n', fontsize=20)\n",
    "    plt.savefig(os.path.join(projection_path, f'projection_type_non-immune_{type_of_i}_width={linewidth}_dpi={dpi}.png'), dpi=dpi)\n",
    "    plt.close()"
   ]
  },
  {
   "cell_type": "markdown",
   "metadata": {},
   "source": [
    "### immune"
   ]
  },
  {
   "cell_type": "markdown",
   "metadata": {},
   "source": [
    "#### projection all in one"
   ]
  },
  {
   "cell_type": "code",
   "execution_count": null,
   "metadata": {},
   "outputs": [],
   "source": [
    "immune_colormap = dict()\n",
    "for type_name in type_colormap.keys():\n",
    "  if type_name not in ['Tumor', 'CAF', 'Liver', 'Endo', 'Ep']: immune_colormap[type_name]=type_colormap[type_name]\n",
    "  else: immune_colormap[type_name]=(0.9,0.9,0.9)\n",
    "\n",
    "linewidth = 1.5\n",
    "dpi = 100\n",
    "projection_path = os.path.join(figure_path, 'projection_type_color')\n",
    "if not os.path.exists(projection_path): os.makedirs(projection_path)\n",
    "fig, ax = plt.subplots(figsize=(10, 10))\n",
    "show_cluster(hulls, type_indices, cluster_list=list(leiden_type_dict.keys()), \n",
    "             cluster_colormap=immune_colormap, linewidth=linewidth, ax=ax, show=False, save=False, name=cluster_type)\n",
    "cell_num_ = len(tmp_adata[~tmp_adata.obs.type.isin(['Tumor', 'CAF', 'Liver', 'Endo', 'Ep'])])\n",
    "fig.suptitle(f'2D_Projection, cell_num={cell_num_}\\n\\n', fontsize=20)\n",
    "plt.savefig(os.path.join(projection_path, f'projection_type_immune_width={linewidth}_dpi={dpi}.pdf'))\n",
    "plt.close()"
   ]
  },
  {
   "cell_type": "markdown",
   "metadata": {},
   "source": [
    "#### Type Of Interest"
   ]
  },
  {
   "cell_type": "code",
   "execution_count": null,
   "metadata": {},
   "outputs": [],
   "source": [
    "from IPython.display import clear_output\n",
    "\n",
    "cluster_all = [_ for _ in leiden_type_dict.keys()]\n",
    "cluster_of_interest = ['Neutrophil', 'Macrophage']\n",
    "ncols = int(-(-len(cluster_of_interest)**(1/2)//1))\n",
    "nrows = -(-len(cluster_of_interest)//ncols)\n",
    "fig, ax = plt.subplots(nrows=nrows, ncols=ncols, figsize=(ncols*4, nrows*4))\n",
    "# for cluster_num, cluster_type in enumerate(cluster_of_interest):\n",
    "for cluster_num, cluster_type in enumerate(cluster_of_interest):\n",
    "    clear_output()\n",
    "    print('{:.1f}%: {}'.format((cluster_num+1)/len(cluster_of_interest)*100, cluster_type))\n",
    "    tmp_colormap = {_:(0.9,0.9,0.9) for _ in cluster_all}\n",
    "    tmp_colormap[cluster_type] = type_colormap[cluster_type]\n",
    "    tmp_TOI = [_ for _ in cluster_all]\n",
    "    tmp_TOI.remove(cluster_type)\n",
    "    tmp_TOI = tmp_TOI + [cluster_type]\n",
    "    ax_tmp = ax[cluster_num]\n",
    "    # ax_tmp = ax[cluster_num // ncols][cluster_num % ncols],\n",
    "    show_cluster(hulls, type_indices, cluster_list=tmp_TOI, cluster_colormap=tmp_colormap, COI=cluster_type, \n",
    "                 ax=ax_tmp, show=False, save=False, linewidth=1.5, name=cluster_type)\n",
    "    ax_tmp.set_xlabel(\"\")\n",
    "    ax_tmp.set_ylabel(\"\")\n",
    "    ax_tmp.set_xticks([])\n",
    "    ax_tmp.set_yticks([])\n",
    "fig.suptitle(f'2D_Projection, cell_num={len(tmp_adata)}\\n\\n', fontsize=20)\n",
    "plt.tight_layout()\n",
    "plt.savefig(os.path.join(figure_path,'projection_type_Neutro-Macro.png'), bbox_inches = 'tight')\n",
    "plt.savefig(os.path.join(figure_path,'projection_type_Neutro-Macro.pdf'), bbox_inches = 'tight')\n",
    "plt.close()"
   ]
  },
  {
   "cell_type": "code",
   "execution_count": null,
   "metadata": {},
   "outputs": [],
   "source": [
    "# fig, ax = plt.subplots(figsize=(10, 10))\n",
    "# show_cluster(hulls, type_indices, cluster_list = list(leiden_type_dict.keys()), cluster_colormap = type_colormap, \n",
    "#               linewidth=0.1, ax=ax, show=False, save=False, name=cluster_type)\n",
    "# fig.suptitle(f'2D_Projection, cell_num={len(tmp_adata)}\\n\\n', fontsize=20)\n",
    "# plt.show()"
   ]
  },
  {
   "cell_type": "code",
   "execution_count": null,
   "metadata": {},
   "outputs": [],
   "source": [
    "projection_path = os.path.join(figure_path, 'projection_type_color')\n",
    "if not os.path.exists(projection_path): os.makedirs(projection_path)\n",
    "immune_interest = ['Monocyte', 'NK', 'CD8+', 'Neutrophil', 'Mast']\n",
    "linewidth = 1.5\n",
    "dpi = 100\n",
    "for immune_type in immune_interest:\n",
    "  immune_colormap = dict()\n",
    "  for type_name in type_colormap.keys():\n",
    "    if type_name != immune_type: immune_colormap[type_name]=(0.9,0.9,0.9)  \n",
    "    else: immune_colormap[type_name]=type_colormap[type_name]\n",
    "\n",
    "  plot_type = list(leiden_type_dict.keys())\n",
    "  plot_type.remove(immune_type)\n",
    "  plot_type +=[immune_type]\n",
    "\n",
    "  fig, ax = plt.subplots(figsize=(10, 10))\n",
    "  show_cluster(hulls, type_indices, cluster_list=plot_type, \n",
    "                cluster_colormap = immune_colormap, linewidth=linewidth, ax=ax, show=False, save=False, name=immune_type, verbose=False)\n",
    "  fig.suptitle(f'2D_Projection\\n\\n', fontsize=20)\n",
    "  plt.savefig(os.path.join(projection_path, f'type_immune_{immune_type}_spatial_projection_merged_width={linewidth}_dpi={dpi}.png'), dpi=dpi)\n",
    "  plt.close()"
   ]
  },
  {
   "cell_type": "markdown",
   "metadata": {},
   "source": [
    "### DC and Tumor"
   ]
  },
  {
   "cell_type": "code",
   "execution_count": null,
   "metadata": {},
   "outputs": [],
   "source": [
    "from copy import deepcopy\n",
    "type_colormap_tmp = deepcopy(type_colormap)\n",
    "for key in type_colormap_tmp.keys():\n",
    "    if key not in ['Tumor', 'DC']: type_colormap_tmp[key] = (0.9,0.9,0.9)\n",
    "    else: type_colormap_tmp[key] = type_colormap[key]"
   ]
  },
  {
   "cell_type": "code",
   "execution_count": null,
   "metadata": {},
   "outputs": [],
   "source": [
    "type_colormap_tmp"
   ]
  },
  {
   "cell_type": "code",
   "execution_count": null,
   "metadata": {},
   "outputs": [],
   "source": [
    "from skimage.draw import polygon\n",
    "from PIL import Image\n",
    "\n",
    "# 参数设置\n",
    "pixel_resolution = 1  # 调整此值以提高分辨率（例如10.0）\n",
    "background_color = (255, 255, 255)  # 背景色（白色）\n",
    "\n",
    "adata_tmp = adata.copy()\n",
    "adata_tmp.obs['X_pos'] = adata_tmp.obsm['spatial'][:, 1]\n",
    "adata_tmp.obs['Y_pos'] = adata_tmp.obsm['spatial'][:, 0]\n",
    "\n",
    "# 获取坐标范围\n",
    "xmin, xmax = adata_tmp.obs['X_pos'].min(), adata_tmp.obs['X_pos'].max()\n",
    "ymin, ymax = adata_tmp.obs['Y_pos'].min(), adata_tmp.obs['Y_pos'].max()\n",
    "\n",
    "# 计算画布尺寸（增加边界避免坐标溢出）\n",
    "width_px = int((xmax - xmin) * pixel_resolution) + 200\n",
    "height_px = int((ymax - ymin) * pixel_resolution) + 200\n",
    "\n",
    "# 创建RGB画布\n",
    "canvas = np.full((height_px, width_px, 3), background_color, dtype=np.uint8)\n",
    "\n",
    "# 坐标转换函数（确保x,y顺序正确）\n",
    "def coord_to_px(x, y):\n",
    "    px = int((x - xmin) * pixel_resolution) + 100\n",
    "    py = int((y - ymin) * pixel_resolution) + 100\n",
    "    return np.clip(px, 0, width_px-1), np.clip(py, 0, height_px-1)\n",
    "\n",
    "# 遍历细胞并绘制\n",
    "for idx, row in adata_tmp.obs.iterrows():\n",
    "    idx = int(idx)\n",
    "    try:\n",
    "        if idx not in hulls:\n",
    "            print(f\"Warning: {idx} not in hulls, skipping.\")\n",
    "            continue\n",
    "        hull = hulls[idx]\n",
    "        celltype = row['type']\n",
    "        color = type_colormap_tmp[celltype]\n",
    "        color = tuple(int(255 * x) for x in color)\n",
    "        if isinstance(color, str):\n",
    "            if color.startswith('#'):\n",
    "                color = color.lstrip('#')\n",
    "                color = tuple(int(color[i:i+2], 16) for i in (0, 2, 4))\n",
    "            else:\n",
    "                # 处理命名颜色（如'red'需映射到RGB）\n",
    "                from matplotlib.colors import to_rgb\n",
    "                color = tuple(int(255 * x) for x in to_rgb(color))\n",
    "        # 如果hull格式为[y, x]，需转换为[x, y]\n",
    "        hull_xy = hull[:, [1, 0]]  # 假设hull原始格式为[y, x]\n",
    "        # 转换坐标到像素空间\n",
    "        coords = np.array([coord_to_px(x, y) for x, y in hull_xy])\n",
    "        # 生成多边形像素坐标\n",
    "        rr, cc = polygon(coords[:, 1], coords[:, 0], (height_px, width_px))\n",
    "        canvas[rr, cc, 0] = color[0]  # 红\n",
    "        canvas[rr, cc, 1] = color[1]  # 绿\n",
    "        canvas[rr, cc, 2] = color[2]  # 蓝\n",
    "    except KeyError: continue\n",
    "\n",
    "imwrite(str(projection_path / 'DC_tumor.tiff'), np.flipud(canvas), photometric='rgb')\n",
    "# img = Image.fromarray(canvas)\n",
    "# img.save(str(projection_path / f\"DC_tumor.png\"), format='PNG')"
   ]
  },
  {
   "cell_type": "markdown",
   "metadata": {},
   "source": [
    "## subtype"
   ]
  },
  {
   "cell_type": "code",
   "execution_count": null,
   "metadata": {},
   "outputs": [],
   "source": [
    "adata = sc.read_h5ad(os.path.join(typ_path, 'adata.h5ad'))"
   ]
  },
  {
   "cell_type": "markdown",
   "metadata": {},
   "source": [
    "### subtype all in one"
   ]
  },
  {
   "cell_type": "code",
   "execution_count": null,
   "metadata": {},
   "outputs": [],
   "source": [
    "from IPython.display import clear_output\n",
    "\n",
    "cluster_of_interest = list(leiden_subtype_dict.keys())\n",
    "ncols = int(-(-len(cluster_of_interest)**(1/2)//1))\n",
    "nrows = -(-len(cluster_of_interest)//ncols)\n",
    "linewidth = 1.5\n",
    "dpi = 100\n",
    "fig, ax = plt.subplots(nrows=nrows, ncols=ncols, figsize=(ncols*4, nrows*4))\n",
    "for cluster_num, cluster_type in enumerate(cluster_of_interest):\n",
    "    clear_output()\n",
    "    ax_tmp = ax[cluster_num // ncols][cluster_num % ncols]\n",
    "    ax_tmp.set_xlabel(\"\")\n",
    "    ax_tmp.set_ylabel(\"\")\n",
    "    ax_tmp.set_xticks([])\n",
    "    ax_tmp.set_yticks([])\n",
    "    print('{:.1f}%: {}'.format((cluster_num+1)/len(cluster_of_interest)*100, cluster_type))\n",
    "    tmp_colormap = {_:(0.9,0.9,0.9) for _ in cluster_of_interest}\n",
    "    tmp_colormap[cluster_type] = subtype_colormap[cluster_type]\n",
    "    tmp_TOI = [_ for _ in cluster_of_interest]\n",
    "    tmp_TOI.remove(cluster_type)\n",
    "    tmp_TOI = tmp_TOI + [cluster_type]\n",
    "    show_cluster(hulls, type_indices, cluster_list=tmp_TOI, COI=cluster_type,\n",
    "                 cluster_colormap=tmp_colormap, linewidth=linewidth, ax=ax_tmp, show=False, save=False, name=cluster_type, verbose=False) \n",
    "\n",
    "fig.suptitle(f'2D_Projection, cell_num={len(tmp_adata)}\\n\\n', fontsize=20)\n",
    "plt.tight_layout()\n",
    "plt.savefig(os.path.join(figure_path, f'projection_subtype_linewidth={linewidth}_dpi={dpi}.png'), dpi=dpi, bbox_inches = 'tight')\n",
    "plt.close()"
   ]
  },
  {
   "cell_type": "markdown",
   "metadata": {},
   "source": [
    "### subtype separate"
   ]
  },
  {
   "cell_type": "code",
   "execution_count": null,
   "metadata": {},
   "outputs": [],
   "source": [
    "from IPython.display import clear_output\n",
    "\n",
    "projection_path = os.path.join(figure_path, 'projection_subtype_brown')\n",
    "if not os.path.exists(projection_path): os.makedirs(projection_path)\n",
    "cluster_all = [_ for _ in leiden_subtype_dict.keys()]\n",
    "cluster_of_interest = cluster_all\n",
    "linewidth = 1.5\n",
    "dpi = 100\n",
    "for cluster_num, cluster_type in enumerate(cluster_of_interest):\n",
    "    clear_output()\n",
    "    print('{:.1f}%: {}'.format((cluster_num+1)/len(cluster_of_interest)*100, cluster_type))\n",
    "    tmp_colormap = {_:(0.9,0.9,0.9) for _ in cluster_all}\n",
    "    tmp_colormap[cluster_type] = 'brown'\n",
    "    tmp_TOI = [_ for _ in cluster_all]\n",
    "    tmp_TOI.remove(cluster_type)\n",
    "    tmp_TOI = tmp_TOI + [cluster_type]\n",
    "    fig, ax = plt.subplots(figsize=(10, 10))\n",
    "    show_cluster(hulls, type_indices, cluster_list=tmp_TOI, \n",
    "                cluster_colormap=tmp_colormap, COI=cluster_type, linewidth=linewidth, ax=ax, show=False, save=False, name=cluster_type, verbose=False)\n",
    "    fig.suptitle(f'2D_Projection, cell_num={len(tmp_adata)}\\n\\n', fontsize=20)\n",
    "    plt.savefig(os.path.join(projection_path, rf'{cluster_num}_{cluster_type}_linewidth_{linewidth}_dpi={dpi}.png'), dpi=dpi, bbox_inches='tight')\n",
    "    plt.close()"
   ]
  },
  {
   "cell_type": "markdown",
   "metadata": {},
   "source": [
    "### Tumor"
   ]
  },
  {
   "cell_type": "code",
   "execution_count": null,
   "metadata": {},
   "outputs": [],
   "source": [
    "# type_colormap = {\n",
    "#     'Liver':(1,0.392,0), 'Tumor':(0.751,0.491,0), 'Endo':(1,0,1), 'Ep':(0,1,0), 'CAF':(0,0,1),\n",
    "#     'DC':(1,0.259,0), 'Mait':(1,0,0.434), 'Mast':(1,0,0), \n",
    "#     'Monocyte':(0,0.471,1), 'Neutrophil':(0.6,0.6,0), 'Macrophage':(0.2,0.6,0),\n",
    "#     'CD4+':(0.5,0.5,0.5), 'CD8+':(1,0.8,0), 'T_reg':(0,1,0.672), \n",
    "#     'proliferation':(0,1,0.636), 'B':(0,1,1), 'NK':(1,0,0), 'other':(0.9,0.9,0.9)}"
   ]
  },
  {
   "cell_type": "code",
   "execution_count": null,
   "metadata": {},
   "outputs": [],
   "source": [
    "tmp_colormap = dict()\n",
    "for type_name in type_colormap.keys(): tmp_colormap[type_name]=(0.9,0.9,0.9)\n",
    "tmp_colormap['Tumor'] = type_colormap['Tumor']\n",
    "\n",
    "fig, ax = plt.subplots(ncols=1, nrows=1, figsize=(5, 5))\n",
    "sc.pl.umap(adata[adata.obs.subtype!='other'], \n",
    "           color='type', palette=tmp_colormap, legend_fontsize=7, ax=ax, show=False)\n",
    "plt.tight_layout()\n",
    "plt.savefig(os.path.join(figure_path, 'type_nonimmune_tumor_UMAP.png'), bbox_inches = 'tight')\n",
    "plt.close()\n",
    "\n",
    "\n",
    "Subtype_of_interest = ['Tumor_proliferation', 'Tumor_AFP+', 'Tumor_GPC3+']\n",
    "tumor_colormap = dict()\n",
    "for type_name in subtype_colormap.keys(): tumor_colormap[type_name]=(0.9,0.9,0.9)  \n",
    "\n",
    "tumor_colormap['Tumor_AFP+']='#FF8B40'\n",
    "tumor_colormap['Tumor_GPC3+']=\"#A468D5\"\n",
    "tumor_colormap['Tumor_proliferation']='#5CCDC9'\n",
    "\n",
    "linewidth = 1.5\n",
    "dpi = 100\n",
    "plot_type = list(leiden_subtype_dict.keys())\n",
    "for _ in Subtype_of_interest:\n",
    "  plot_type.remove(_)\n",
    "plot_type += Subtype_of_interest\n",
    "\n",
    "fig, ax = plt.subplots(ncols=2, nrows=1, figsize=(20, 10))\n",
    "show_cluster(hulls, type_indices, cluster_list=plot_type, cluster_colormap=tumor_colormap, \n",
    "              linewidth=1.5, ax=ax[0], show=False, save=False, name=cluster_type, showname=False, verbose=False)\n",
    "sc.pl.umap(\n",
    "  adata[adata.obs.subtype!='other'], color='subtype', \n",
    "  palette=tumor_colormap, legend_fontsize=7, ax=ax[1], show=False)\n",
    "\n",
    "fig.suptitle(f'2D_Projection_and_UMAP\\n\\n', fontsize=20)\n",
    "plt.savefig(os.path.join(figure_path, f'subtype_non-immune_tumor_projection_and_UMAP_linewidth={linewidth}_dpi={dpi}.png'), dpi=dpi, bbox_inches='tight')\n",
    "plt.close()"
   ]
  },
  {
   "cell_type": "markdown",
   "metadata": {},
   "source": [
    "### Monocyte"
   ]
  },
  {
   "cell_type": "code",
   "execution_count": null,
   "metadata": {},
   "outputs": [],
   "source": [
    "tmp_colormap = dict()\n",
    "for type_name in type_colormap.keys(): tmp_colormap[type_name]=(0.9,0.9,0.9)\n",
    "tmp_colormap['Monocyte'] = type_colormap['Monocyte']\n",
    "\n",
    "fig, ax = plt.subplots(ncols=1, nrows=1, figsize=(5, 5))\n",
    "sc.pl.umap(adata[adata.obs.subtype!='other'], \n",
    "           color='type', palette=tmp_colormap, legend_fontsize=7, ax=ax, show=False)\n",
    "plt.savefig(os.path.join(figure_path, 'type_nonimmune_Monocyte_UMAP.png'), bbox_inches='tight')\n",
    "plt.close()"
   ]
  },
  {
   "cell_type": "code",
   "execution_count": null,
   "metadata": {},
   "outputs": [],
   "source": [
    "Subtype_of_interest = ['Monocyte_CD14+', 'Monocyte_CD14+, CD16+', 'Monocyte_CD16+']\n",
    "monocyte_colormap = dict()\n",
    "for type_name in subtype_colormap.keys():\n",
    "  monocyte_colormap[type_name]=(0.9,0.9,0.9)  \n",
    "monocyte_colormap['Monocyte_CD14+']=(0.9,0,1)\n",
    "monocyte_colormap['Monocyte_CD14+, CD16+']=(0,0,1)\n",
    "monocyte_colormap['Monocyte_CD16+']=(0,0.9,1)\n",
    "\n",
    "plot_type = list(leiden_subtype_dict.keys())\n",
    "for _ in Subtype_of_interest:\n",
    "  plot_type.remove(_)\n",
    "plot_type += Subtype_of_interest\n",
    "\n",
    "linewidth = 1.5\n",
    "dpi = 100\n",
    "fig, ax = plt.subplots(ncols=2, nrows=1, figsize=(20, 10))\n",
    "show_cluster(hulls, type_indices, cluster_list=plot_type, \n",
    "              cluster_colormap = monocyte_colormap, linewidth=linewidth, ax=ax[0], show=False, save=False, name=cluster_type, showname=False, verbose=False)\n",
    "sc.pl.umap(adata[adata.obs.subtype!='other'], color='subtype',\n",
    "           palette=monocyte_colormap, legend_fontsize=7, ax=ax[1], show=False)\n",
    "fig.suptitle(f'2D_Projection_and_UMAP\\n\\n', fontsize=20)\n",
    "plt.savefig(os.path.join(figure_path, f'subtype_immune_monocyte_projection_and_UMAP_linewidth={linewidth}_dpi={dpi}.png'), dpi=dpi, bbox_inches = 'tight')\n",
    "plt.close()"
   ]
  },
  {
   "cell_type": "markdown",
   "metadata": {},
   "source": [
    "### CD8+"
   ]
  },
  {
   "cell_type": "code",
   "execution_count": null,
   "metadata": {},
   "outputs": [],
   "source": [
    "tmp_colormap = dict()\n",
    "for type_name in type_colormap.keys(): tmp_colormap[type_name]=(0.9,0.9,0.9)\n",
    "tmp_colormap['CD8+'] = type_colormap['CD8+']\n",
    "\n",
    "fig, ax = plt.subplots(ncols=1, nrows=1, figsize=(5, 5))\n",
    "sc.pl.umap(adata[adata.obs.subtype!='other'], \n",
    "           color='type', palette=tmp_colormap, legend_fontsize=7, ax=ax, show=False)\n",
    "plt.savefig(os.path.join(figure_path, 'type_nonimmune_CD8+_UMAP.png'), bbox_inches = 'tight')\n",
    "plt.close()"
   ]
  },
  {
   "cell_type": "code",
   "execution_count": null,
   "metadata": {},
   "outputs": [],
   "source": [
    "Subtype_of_interest = ['T_CD8+, GZMA+, CXCL13+', 'T_CD8+, CTLA4+', 'T_CD8+, PD1+', 'Cyto_T_CD8+']\n",
    "CD8_colormap = dict()\n",
    "for type_name in subtype_colormap.keys():\n",
    "  CD8_colormap[type_name]=(0.9,0.9,0.9)  \n",
    "\n",
    "CD8_colormap['T_CD8+, GZMA+, CXCL13+']=(1,0.8,0)\n",
    "CD8_colormap['T_CD8+, CTLA4+']=(0.5,0.5,1)\n",
    "CD8_colormap['T_CD8+, PD1+']=(1,0.4,0)\n",
    "CD8_colormap['Cyto_T_CD8+']=(0.67,0.92,0.49)\n",
    "\n",
    "plot_type = list(leiden_subtype_dict.keys())\n",
    "for _ in Subtype_of_interest: plot_type.remove(_)\n",
    "plot_type += Subtype_of_interest\n",
    "\n",
    "linewidth = 1.5\n",
    "dpi = 100\n",
    "fig, ax = plt.subplots(ncols=2, nrows=1, figsize=(20, 10))\n",
    "show_cluster(hulls, type_indices, cluster_list=plot_type, \n",
    "              cluster_colormap=CD8_colormap, linewidth=linewidth, ax=ax[0], show=False , save=False, name=cluster_type, showname=False, verbose=False)\n",
    "sc.pl.umap(adata[adata.obs.subtype!='other'], color='subtype',\n",
    "           palette=CD8_colormap, legend_fontsize=7, ax=ax[1], show=False)\n",
    "fig.suptitle(f'2D_Projection_and_UMAP\\n\\n', fontsize=20)\n",
    "plt.savefig(os.path.join(figure_path, f'subtype_immune_CD8_projection_and_UMAP_linewidth={linewidth}_dpi={dpi}.png'), dpi=dpi, bbox_inches = 'tight')\n",
    "plt.close()"
   ]
  },
  {
   "cell_type": "markdown",
   "metadata": {},
   "source": [
    "### Neutrophil"
   ]
  },
  {
   "cell_type": "code",
   "execution_count": null,
   "metadata": {},
   "outputs": [],
   "source": [
    "Subtype_of_interest = ['Neutrophil_CSF3R+, S100A8+', 'Neutrophil_CSF3R+']\n",
    "Neu_colormap = dict()\n",
    "for type_name in subtype_colormap.keys():\n",
    "  Neu_colormap[type_name]=(0.9,0.9,0.9)  \n",
    "\n",
    "Neu_colormap['Neutrophil_CSF3R+, S100A8+']=(1,0,1)\n",
    "Neu_colormap['Neutrophil_CSF3R+']=(1,0.5,0)\n",
    "\n",
    "plot_type = list(leiden_subtype_dict.keys())\n",
    "for _ in Subtype_of_interest: plot_type.remove(_)\n",
    "plot_type += Subtype_of_interest\n",
    "\n",
    "linewidth = 1.5\n",
    "dpi = 100\n",
    "fig, ax = plt.subplots(ncols=2, nrows=1, figsize=(20, 10))\n",
    "show_cluster(hulls, type_indices, cluster_list=plot_type, \n",
    "              cluster_colormap = Neu_colormap, linewidth=linewidth, ax=ax[0], show=False, save=False, name=cluster_type, showname=False, verbose=False)\n",
    "sc.pl.umap(adata[adata.obs.subtype!='other'], color='subtype',\n",
    "           palette=Neu_colormap, legend_fontsize=7, ax=ax[1], show=False)\n",
    "\n",
    "fig.suptitle(f'2D_Projection_and_UMAP\\n\\n', fontsize=20)\n",
    "plt.savefig(os.path.join(figure_path, f'subtype_immune_Neutrophil_projection_and_UMAP_linewidth={linewidth}_dpi={dpi}.png'), dpi=dpi, bbox_inches = 'tight')\n",
    "plt.close()"
   ]
  },
  {
   "cell_type": "markdown",
   "metadata": {},
   "source": [
    "### plot cDC subtypes"
   ]
  },
  {
   "cell_type": "code",
   "execution_count": null,
   "metadata": {},
   "outputs": [],
   "source": [
    "cDC1_adata = adata[adata.obs['leiden'].isin(['34'])]\n",
    "cDC2_adata = adata[adata.obs['leiden'].isin(['31', '88'])]\n",
    "\n",
    "tmp_adata = adata[adata.obs.type!='other']\n",
    "hulls, type_indices = create_hull(tmp_adata, clus_obs=\"leiden\", cont_thre=5, \n",
    "                                rna_pos = pd.read_csv(os.path.join(base_path, 'segmented', \"rna_labeled_0818_HCC.csv\")))"
   ]
  },
  {
   "cell_type": "code",
   "execution_count": null,
   "metadata": {},
   "outputs": [],
   "source": [
    "fig, ax = plt.subplots(figsize=(10, 10))\n",
    "show_cluster(hulls, type_indices, cluster_list=['34'], \n",
    "             cluster_colormap={\"34\":\"brown\"}, \n",
    "            linewidth=2, ax=ax, show=False, save=False)\n",
    "cell_num_ = len(tmp_adata)\n",
    "fig.suptitle(f'2D_Projection, cell_num={cell_num_}\\n\\n', fontsize=20)\n",
    "plt.tight_layout()\n",
    "plt.tight_layout()\n",
    "plt.savefig(os.path.join(figure_path, 'projection_cDC1_leiden_34.png'), dpi=300)\n",
    "plt.close()\n",
    "\n",
    "fig, ax = plt.subplots(figsize=(10, 10))\n",
    "show_cluster(hulls, type_indices, cluster_list=['31','88'], \n",
    "             cluster_colormap={\"31\":\"brown\", \"88\":\"brown\"}, \n",
    "            linewidth=2, ax=ax, show=False, save=False)\n",
    "cell_num_ = len(tmp_adata)\n",
    "fig.suptitle(f'2D_Projection, cell_num={cell_num_}\\n\\n', fontsize=20)\n",
    "plt.tight_layout()\n",
    "plt.savefig(os.path.join(figure_path, 'projection_cDC2_leiden_31,88.png'), dpi=300)\n",
    "plt.close()"
   ]
  },
  {
   "cell_type": "markdown",
   "metadata": {},
   "source": [
    "### AFP+ Tumor colocalize with others"
   ]
  },
  {
   "cell_type": "code",
   "execution_count": null,
   "metadata": {},
   "outputs": [],
   "source": [
    "from skimage.draw import polygon\n",
    "from PIL import Image\n",
    "from copy import deepcopy\n",
    "\n",
    "downsize = 0.25\n",
    "celltype_candidate_list = ['pDC_LILRA4+', 'T_CD4+, CXCL13+', 'B_MS4A1+', 'Plasma_B_CD79A+, MZB1+', 'Liver', 'other_cell_proliferation', 'Mast_CPA3+']\n",
    "for celltype_candidate in celltype_candidate_list:\n",
    "    subtype_colormap_tmp = deepcopy(subtype_colormap)\n",
    "    for key in subtype_colormap_tmp.keys():\n",
    "        if key not in ['Tumor_AFP+', celltype_candidate]: subtype_colormap_tmp[key] = (0.9,0.9,0.9)\n",
    "        else: subtype_colormap_tmp[key] = subtype_colormap_tmp[key]\n",
    "\n",
    "    # 参数设置\n",
    "    pixel_resolution = 1  # 调整此值以提高分辨率（例如10.0）\n",
    "    background_color = (255, 255, 255)  # 背景色（白色）\n",
    "\n",
    "    adata_tmp = adata.copy()\n",
    "    adata_tmp.obs['X_pos'] = adata_tmp.obsm['spatial'][:, 1] * downsize\n",
    "    adata_tmp.obs['Y_pos'] = adata_tmp.obsm['spatial'][:, 0] * downsize\n",
    "\n",
    "    # 获取坐标范围\n",
    "    xmin, xmax = adata_tmp.obs['X_pos'].min(), adata_tmp.obs['X_pos'].max()\n",
    "    ymin, ymax = adata_tmp.obs['Y_pos'].min(), adata_tmp.obs['Y_pos'].max()\n",
    "\n",
    "    # 计算画布尺寸（增加边界避免坐标溢出）\n",
    "    width_px = int((xmax - xmin) * pixel_resolution) + 200\n",
    "    height_px = int((ymax - ymin) * pixel_resolution) + 200\n",
    "\n",
    "    # 创建RGB画布\n",
    "    canvas = np.full((height_px, width_px, 3), background_color, dtype=np.uint8)\n",
    "\n",
    "    # 坐标转换函数（确保x,y顺序正确）\n",
    "    def coord_to_px(x, y):\n",
    "        px = int((x - xmin) * pixel_resolution) + 100\n",
    "        py = int((y - ymin) * pixel_resolution) + 100\n",
    "        return np.clip(px, 0, width_px-1), np.clip(py, 0, height_px-1)\n",
    "\n",
    "    # 遍历细胞并绘制\n",
    "    for idx, row in adata_tmp.obs.iterrows():\n",
    "        idx = int(idx)\n",
    "        try:\n",
    "            if idx not in hulls:\n",
    "                print(f\"Warning: {idx} not in hulls, skipping.\")\n",
    "                continue\n",
    "            hull = hulls[idx] * downsize\n",
    "            celltype = row['subtype']\n",
    "            color = subtype_colormap_tmp[celltype]\n",
    "            color = tuple(int(255 * x) for x in color)\n",
    "            if isinstance(color, str):\n",
    "                if color.startswith('#'):\n",
    "                    color = color.lstrip('#')\n",
    "                    color = tuple(int(color[i:i+2], 16) for i in (0, 2, 4))\n",
    "                else:\n",
    "                    # 处理命名颜色（如'red'需映射到RGB）\n",
    "                    from matplotlib.colors import to_rgb\n",
    "                    color = tuple(int(255 * x) for x in to_rgb(color))\n",
    "            # 如果hull格式为[y, x]，需转换为[x, y]\n",
    "            hull_xy = hull[:, [1, 0]]  # 假设hull原始格式为[y, x]x\n",
    "            # 转换坐标到像素空间\n",
    "            coords = np.array([coord_to_px(x, y) for x, y in hull_xy])\n",
    "            # 生成多边形像素坐标\n",
    "            rr, cc = polygon(coords[:, 1], coords[:, 0], (height_px, width_px))\n",
    "            canvas[rr, cc, 0] = color[0]  # 红\n",
    "            canvas[rr, cc, 1] = color[1]  # 绿\n",
    "            canvas[rr, cc, 2] = color[2]  # 蓝\n",
    "        except KeyError: continue\n",
    "\n",
    "    imwrite(str(projection_path / f'tumor_afp_{celltype_candidate}.tiff'), np.flipud(canvas), photometric='rgb')\n",
    "    # img = Image.fromarray(canvas)\n",
    "    # img.save(str(projection_path / f\"DC_tumor.png\"), format='PNG')"
   ]
  },
  {
   "cell_type": "markdown",
   "metadata": {},
   "source": [
    "# ROI"
   ]
  },
  {
   "cell_type": "code",
   "execution_count": null,
   "metadata": {},
   "outputs": [],
   "source": [
    "ROI_path = projection_path / 'ROI'\n",
    "ROI_path.mkdir(exist_ok=True)"
   ]
  },
  {
   "cell_type": "code",
   "execution_count": null,
   "metadata": {},
   "outputs": [],
   "source": [
    "from skimage import io, transform, morphology\n",
    "\n",
    "def ROI_mask_load(input_path, out_path='ROI_mask.png', show=True, save=False):\n",
    "    ROI_mask = {}\n",
    "    for mask_file in os.listdir(input_path):\n",
    "        image = io.imread(os.path.join(input_path, mask_file))\n",
    "        image = transform.rotate(image, angle=90, resize=True)\n",
    "        image = morphology.binary_dilation(image, footprint=morphology.disk(5))\n",
    "        ROI_mask[mask_file.replace('.tif','').replace('Mask', 'ROI')] = image\n",
    "        \n",
    "    ncols = int(-(-len(ROI_mask)**(1/2)//1))\n",
    "    nrows = -(-len(ROI_mask)//ncols)\n",
    "    fig, ax = plt.subplots(nrows=nrows, ncols=ncols, figsize=(ncols*4, nrows*4))\n",
    "    for pos, mask_name in enumerate(list(ROI_mask.keys())):\n",
    "        ax[pos // ncols][pos % ncols].imshow(ROI_mask[mask_name], cmap='gray')\n",
    "        ax[pos // ncols][pos % ncols].set_title(mask_name)\n",
    "        ax[pos // ncols][pos % ncols].set_xlabel(\"\")\n",
    "        ax[pos // ncols][pos % ncols].set_ylabel(\"\")\n",
    "    fig.suptitle('Mask_of_ROIs', fontsize=20)\n",
    "    plt.tight_layout()\n",
    "\n",
    "    if save: plt.savefig(out_path)\n",
    "    elif show: plt.show()\n",
    "    plt.close()\n",
    "\n",
    "    return ROI_mask"
   ]
  },
  {
   "cell_type": "code",
   "execution_count": null,
   "metadata": {},
   "outputs": [],
   "source": [
    "adata = sc.read_h5ad(os.path.join(typ_path, 'adata.h5ad'))\n",
    "ROI_mask = ROI_mask_load(input_path=analysis_path/'roi_variation'/'roi_mask', show=False, save=False)\n",
    "adata.obs['ROI'] = pd.Categorical(['other']*len(adata), categories=list(ROI_mask.keys()) + ['other'], ordered=False)    \n",
    "adata.obs['Y_pos'] = adata.obsm['spatial'][:, 0]\n",
    "adata.obs['X_pos'] = adata.obsm['spatial'][:, 1]\n",
    "for _, mask in ROI_mask.items():\n",
    "    yrange = mask.shape[0]\n",
    "    for cell in tqdm(adata.obs.index, desc=_):\n",
    "        if mask[yrange - int(adata.obs['Y_pos'].loc[cell]/100), int(adata.obs['X_pos'].loc[cell]/100)]:\n",
    "            adata.obs['ROI'].loc[cell] = _\n",
    "adata"
   ]
  },
  {
   "cell_type": "code",
   "execution_count": null,
   "metadata": {},
   "outputs": [],
   "source": [
    "hulls = pickle.load(open(projection_path / 'hulls.pkl', 'rb'))\n",
    "print(len(hulls))"
   ]
  },
  {
   "cell_type": "markdown",
   "metadata": {},
   "source": [
    "## ROI overview"
   ]
  },
  {
   "cell_type": "code",
   "execution_count": null,
   "metadata": {},
   "outputs": [],
   "source": [
    "from skimage.draw import polygon\n",
    "\n",
    "# 参数设置\n",
    "pixel_resolution = 1  # 调整此值以提高分辨率（例如10.0）\n",
    "background_color = (255, 255, 255)  # 背景色（白色）\n",
    "\n",
    "rois = [f'ROI_{i}' for i in range(1, 6)]\n",
    "roi_colormap = {'ROI_1': (0.8, 0.2, 0.8), 'ROI_2': (0.2, 0.8, 0.2), 'ROI_3': (0.8, 0.6, 0.2), 'ROI_4': (0.8, 0.8, 0.2), 'ROI_5': (0.2, 0.8, 0.8), 'other': (0.8, 0.8, 0.8)}"
   ]
  },
  {
   "cell_type": "code",
   "execution_count": null,
   "metadata": {},
   "outputs": [],
   "source": [
    "\n",
    "# 获取坐标范围\n",
    "xmin, xmax = adata.obs['X_pos'].min(), adata.obs['X_pos'].max()\n",
    "ymin, ymax = adata.obs['Y_pos'].min(), adata.obs['Y_pos'].max()\n",
    "\n",
    "# 计算画布尺寸（增加边界避免坐标溢出）\n",
    "width_px = int((xmax - xmin) * pixel_resolution) + 200\n",
    "height_px = int((ymax - ymin) * pixel_resolution) + 200\n",
    "\n",
    "# 创建RGB画布\n",
    "canvas = np.full((height_px, width_px, 3), background_color, dtype=np.uint8)\n",
    "\n",
    "# 坐标转换函数（确保x,y顺序正确）\n",
    "def coord_to_px(x, y):\n",
    "    px = int((x - xmin) * pixel_resolution) + 100\n",
    "    py = int((y - ymin) * pixel_resolution) + 100\n",
    "    return np.clip(px, 0, width_px-1), np.clip(py, 0, height_px-1)\n",
    "\n",
    "# 遍历细胞并绘制\n",
    "for idx, row in tqdm(adata.obs.iterrows()):\n",
    "    idx = int(idx)\n",
    "    try:\n",
    "        # 关键修正1：检查hulls键是否匹配\n",
    "        if idx not in hulls:\n",
    "            print(f\"Warning: {idx} not in hulls, skipping.\")\n",
    "            continue\n",
    "        \n",
    "        hull = hulls[idx]\n",
    "        roi = row['ROI']\n",
    "        \n",
    "        # 关键修正2：处理颜色格式（支持十六进制和RGB元组）\n",
    "        color = roi_colormap[roi]\n",
    "        color = tuple(int(255 * x) for x in color)\n",
    "        if isinstance(color, str):\n",
    "            if color.startswith('#'):\n",
    "                color = color.lstrip('#')\n",
    "                color = tuple(int(color[i:i+2], 16) for i in (0, 2, 4))\n",
    "            else:\n",
    "                # 处理命名颜色（如'red'需映射到RGB）\n",
    "                from matplotlib.colors import to_rgb\n",
    "                color = tuple(int(255 * x) for x in to_rgb(color))\n",
    "        \n",
    "        # 关键修正3：交换坐标顺序（根据hull实际存储结构）\n",
    "        # 如果hull格式为[y, x]，需转换为[x, y]\n",
    "        hull_xy = hull[:, [1, 0]]  # 假设hull原始格式为[y, x]\n",
    "        \n",
    "        # 转换坐标到像素空间\n",
    "        coords = np.array([coord_to_px(x, y) for x, y in hull_xy])\n",
    "        \n",
    "        # 生成多边形像素坐标\n",
    "        rr, cc = polygon(coords[:, 1], coords[:, 0], (height_px, width_px))\n",
    "        \n",
    "        # 关键修正4：正确填充RGB通道\n",
    "        canvas[rr, cc, 0] = color[0]  # 红\n",
    "        canvas[rr, cc, 1] = color[1]  # 绿\n",
    "        canvas[rr, cc, 2] = color[2]  # 蓝\n",
    "    except Exception as e:\n",
    "        print(f\"Error processing cell {idx}: {e}\")\n",
    "        continue\n",
    "\n",
    "# downsample\n",
    "canvas = canvas[::8, ::8]  # downsample by factor of 8"
   ]
  },
  {
   "cell_type": "code",
   "execution_count": null,
   "metadata": {},
   "outputs": [],
   "source": [
    "import matplotlib.patches as mpatches\n",
    "plt.imshow(np.flipud(canvas))\n",
    "plt.legend(handles=[mpatches.Patch(color=roi_colormap[roi], label=roi) for roi in roi_colormap.keys()])\n",
    "plt.axis('off')\n",
    "plt.savefig(ROI_path / 'ROI_all.pdf')\n",
    "plt.close()"
   ]
  },
  {
   "cell_type": "code",
   "execution_count": null,
   "metadata": {},
   "outputs": [],
   "source": [
    "# 保存为TIFF（注意坐标系可能需要翻转）\n",
    "imwrite(str(ROI_path / f'ROI_all.tiff'), np.flipud(canvas), photometric='rgb')"
   ]
  },
  {
   "cell_type": "markdown",
   "metadata": {},
   "source": [
    "## cell type"
   ]
  },
  {
   "cell_type": "code",
   "execution_count": null,
   "metadata": {},
   "outputs": [],
   "source": [
    "outpath = ROI_path / 'cell_type'\n",
    "outpath.mkdir(exist_ok=True)"
   ]
  },
  {
   "cell_type": "code",
   "execution_count": null,
   "metadata": {},
   "outputs": [],
   "source": [
    "import yaml\n",
    "cell_typing_params = yaml.safe_load(open(os.path.join(analysis_path, 'cell_typing_params.yaml'), 'r'))\n",
    "type_colormap = cell_typing_params['type_colormap']\n",
    "subtype_colormap = dict()\n",
    "\n",
    "leiden_annotation = cell_typing_params['leiden_annotation']\n",
    "leiden_subtype_annotation = {}\n",
    "for type_key, subtypes in leiden_annotation.items():\n",
    "    type_values = []\n",
    "    type_color = type_colormap[type_key]\n",
    "    for subtype_key, values in subtypes.items():\n",
    "        type_values.extend(values)\n",
    "        leiden_subtype_annotation[subtype_key] = values\n",
    "        subtype_colormap[subtype_key] = type_color\n",
    "    leiden_annotation[type_key] = type_values\n",
    "\n",
    "# subtype_colormap = {subtype:(1,1,1) for subtype in leiden_subtype_annotation.keys()}\n",
    "# subtype_colormap = {subtype:(1,1,1) for subtype in leiden_subtype_annotation.keys()}\n",
    "# subtype_colormap = {subtype:(0.9,0.9,0.9) for subtype in leiden_subtype_annotation.keys()}\n",
    "subtype_colormap['Tumor_AFP+'] = (1,1,0)\n",
    "subtype_colormap['Tumor_GPC3+'] = (1,0,0)\n",
    "subtype_colormap['CAF_ACTA2+'] = (0,0,1)\n",
    "subtype_colormap['Liver'] = (0.5,0.5,0.5)\n",
    "# subtype_colormap['other'] = (1,1,1)\n",
    "subtype_colormap['other'] = (0.9,0.9,0.9)"
   ]
  },
  {
   "cell_type": "code",
   "execution_count": null,
   "metadata": {},
   "outputs": [],
   "source": [
    "from skimage.draw import polygon\n",
    "from PIL import Image\n",
    "\n",
    "# 参数设置\n",
    "pixel_resolution = 1  # 调整此值以提高分辨率（例如10.0）\n",
    "background_color = (255, 255, 255)  # 背景色（白色）\n",
    "\n",
    "rois = [f'ROI_{i}' for i in range(1, 6)]\n",
    "\n",
    "for roi in rois:\n",
    "    adata_tmp = adata[adata.obs['ROI'] == roi]\n",
    "    if adata_tmp.n_obs == 0: continue\n",
    "    \n",
    "    # 获取坐标范围\n",
    "    xmin, xmax = adata_tmp.obs['X_pos'].min(), adata_tmp.obs['X_pos'].max()\n",
    "    ymin, ymax = adata_tmp.obs['Y_pos'].min(), adata_tmp.obs['Y_pos'].max()\n",
    "    \n",
    "    # 计算画布尺寸（增加边界避免坐标溢出）\n",
    "    width_px = int((xmax - xmin) * pixel_resolution) + 200\n",
    "    height_px = int((ymax - ymin) * pixel_resolution) + 200\n",
    "    \n",
    "    # 创建RGB画布\n",
    "    canvas = np.full((height_px, width_px, 3), background_color, dtype=np.uint8)\n",
    "    \n",
    "    # 坐标转换函数（确保x,y顺序正确）\n",
    "    def coord_to_px(x, y):\n",
    "        px = int((x - xmin) * pixel_resolution) + 100\n",
    "        py = int((y - ymin) * pixel_resolution) + 100\n",
    "        return np.clip(px, 0, width_px-1), np.clip(py, 0, height_px-1)\n",
    "    \n",
    "    # 遍历细胞并绘制\n",
    "    for idx, row in adata_tmp.obs.iterrows():\n",
    "        idx = int(idx)\n",
    "        try:\n",
    "            # 关键修正1：检查hulls键是否匹配\n",
    "            if idx not in hulls:\n",
    "                print(f\"Warning: {idx} not in hulls, skipping.\")\n",
    "                continue\n",
    "            \n",
    "            hull = hulls[idx]\n",
    "            celltype = row['subtype']\n",
    "            \n",
    "            # 关键修正2：处理颜色格式（支持十六进制和RGB元组）\n",
    "            color = subtype_colormap[celltype]\n",
    "            color = tuple(int(255 * x) for x in color)\n",
    "            if isinstance(color, str):\n",
    "                if color.startswith('#'):\n",
    "                    color = color.lstrip('#')\n",
    "                    color = tuple(int(color[i:i+2], 16) for i in (0, 2, 4))\n",
    "                else:\n",
    "                    # 处理命名颜色（如'red'需映射到RGB）\n",
    "                    from matplotlib.colors import to_rgb\n",
    "                    color = tuple(int(255 * x) for x in to_rgb(color))\n",
    "            \n",
    "            # 关键修正3：交换坐标顺序（根据hull实际存储结构）\n",
    "            # 如果hull格式为[y, x]，需转换为[x, y]\n",
    "            hull_xy = hull[:, [1, 0]]  # 假设hull原始格式为[y, x]\n",
    "            \n",
    "            # 转换坐标到像素空间\n",
    "            coords = np.array([coord_to_px(x, y) for x, y in hull_xy])\n",
    "            \n",
    "            # 生成多边形像素坐标\n",
    "            rr, cc = polygon(coords[:, 1], coords[:, 0], (height_px, width_px))\n",
    "            \n",
    "            # 关键修正4：正确填充RGB通道\n",
    "            canvas[rr, cc, 0] = color[0]  # 红\n",
    "            canvas[rr, cc, 1] = color[1]  # 绿\n",
    "            canvas[rr, cc, 2] = color[2]  # 蓝\n",
    "        except KeyError: continue\n",
    "    \n",
    "    # 保存为TIFF（注意坐标系可能需要翻转）\n",
    "    imwrite(str(outpath / f'{roi}.tiff'), np.flipud(canvas), photometric='rgb')\n",
    "    img = Image.fromarray(canvas)\n",
    "    img.save(str(outpath / f\"{roi}.png\"), format='PNG')"
   ]
  },
  {
   "cell_type": "markdown",
   "metadata": {},
   "source": [
    "## gene expression"
   ]
  },
  {
   "cell_type": "code",
   "execution_count": null,
   "metadata": {},
   "outputs": [],
   "source": [
    "from cmap import Colormap\n",
    "from matplotlib.colors import ListedColormap\n",
    "\n",
    "\n",
    "# Interpolate colors to create a smoother colormap\n",
    "def interpolate_colors(colors, num_colors):\n",
    "    \"\"\"\n",
    "    Interpolate a list of colors to create a smoother gradient.\n",
    "    \n",
    "    :param colors: List of color tuples.\n",
    "    :param num_colors: Number of colors in the new colormap.\n",
    "    :return: List of interpolated color tuples.\n",
    "    \"\"\"\n",
    "    original_indices = np.linspace(0, 1, len(colors))\n",
    "    new_indices = np.linspace(0, 1, num_colors)\n",
    "    interpolated_colors = []\n",
    "\n",
    "    for i in range(3):  # For R, G, B channels\n",
    "        channel = np.array([c[i] for c in colors])\n",
    "        interpolated_channel = np.interp(new_indices, original_indices, channel)\n",
    "        interpolated_colors.append(interpolated_channel)\n",
    "\n",
    "    return list(zip(interpolated_colors[0], interpolated_colors[1], interpolated_colors[2]))\n",
    "\n",
    "def generate_colormap(cmap='imagej:fire', num_colors=256):\n",
    "    # Load the 'fire' colormap using the custom Colormap class\n",
    "    cmap_custom = Colormap(cmap)\n",
    "\n",
    "    # Extract the colors from the custom colormap\n",
    "    percentile = 100\n",
    "    colors = [c for c in cmap_custom.iter_colors()]\n",
    "    colors = [colors[_] for _ in range(len(colors) * percentile // 100)]\n",
    "\n",
    "    # Interpolate to create a colormap with 256 colors\n",
    "    smooth_colors = interpolate_colors(colors, num_colors)\n",
    "\n",
    "    # Create a new ListedColormap\n",
    "    cmap_custom = ListedColormap(smooth_colors)\n",
    "    return cmap_custom"
   ]
  },
  {
   "cell_type": "code",
   "execution_count": null,
   "metadata": {},
   "outputs": [],
   "source": [
    "thermal_LUT = pd.read_csv(analysis_path/'thermal_LUT.csv', index_col=0)\n",
    "cmap = generate_colormap(thermal_LUT.values)\n",
    "cmap"
   ]
  },
  {
   "cell_type": "code",
   "execution_count": null,
   "metadata": {},
   "outputs": [],
   "source": [
    "from matplotlib.colors import Normalize\n",
    "from matplotlib.cm import ScalarMappable\n",
    "\n",
    "def get_mapper(gene_exp,qmin=0.01,qmax=0.995, cmap=cmap):\n",
    "    # 修改为分位数版本\n",
    "    vmin = np.nanquantile(gene_exp, q=qmin)   # 低分位数（可自定义）\n",
    "    vmax = np.nanquantile(gene_exp, q=qmax)  # 高分位数（可自定义）\n",
    "    print(vmin, vmax)\n",
    "    norm = Normalize(vmin=vmin, vmax=vmax)\n",
    "    mapper = ScalarMappable(norm=norm, cmap=cmap)\n",
    "    return mapper"
   ]
  },
  {
   "cell_type": "code",
   "execution_count": null,
   "metadata": {},
   "outputs": [],
   "source": [
    "from skimage.draw import polygon\n",
    "\n",
    "def gene_projection(idxs, gene_exp, X, Y, hulls, mapper, \n",
    "                    pixel_resolution=1.0, background_color=(255, 255, 255)):\n",
    "    # 获取坐标范围\n",
    "    xmin, xmax = X.min(), X.max()\n",
    "    ymin, ymax = Y.min(), Y.max()\n",
    "    \n",
    "    # 计算画布尺寸\n",
    "    width_px = int((xmax - xmin) * pixel_resolution) + 200\n",
    "    height_px = int((ymax - ymin) * pixel_resolution) + 200\n",
    "    \n",
    "    # 创建画布\n",
    "    canvas = np.full((height_px, width_px, 3), background_color, dtype=np.uint8)\n",
    "    \n",
    "    # 坐标转换函数\n",
    "    def coord_to_px(x, y):\n",
    "        px = int((x - xmin) * pixel_resolution) + 100\n",
    "        py = height_px - 1 - (int((y - ymin) * pixel_resolution) + 100)\n",
    "        return np.clip(px, 0, width_px-1), np.clip(py, 0, height_px-1)\n",
    "    \n",
    "    # 遍历细胞\n",
    "    for i, idx in enumerate(idxs):\n",
    "        try:\n",
    "            # 获取对应gene表达值\n",
    "            cell_exp = gene_exp[i]\n",
    "            # 生成颜色（RGBA转RGB）\n",
    "            color = tuple(np.array(mapper.to_rgba(cell_exp)[:3]) * 255)\n",
    "            \n",
    "            # 获取hull坐标\n",
    "            hull = hulls[int(idx)]\n",
    "            hull_xy = hull[:, [1, 0]]  # 调整坐标顺序\n",
    "            \n",
    "            # 转换坐标\n",
    "            coords = np.array([coord_to_px(x, y) for x, y in hull_xy])\n",
    "            rr, cc = polygon(coords[:, 1], coords[:, 0], (height_px, width_px))\n",
    "            \n",
    "            # 填充颜色\n",
    "            canvas[rr, cc, 0] = int(color[0])\n",
    "            canvas[rr, cc, 1] = int(color[1])\n",
    "            canvas[rr, cc, 2] = int(color[2])\n",
    "\n",
    "        except KeyError: continue\n",
    "    return canvas"
   ]
  },
  {
   "cell_type": "markdown",
   "metadata": {},
   "source": [
    "### HBV"
   ]
  },
  {
   "cell_type": "code",
   "execution_count": null,
   "metadata": {},
   "outputs": [],
   "source": [
    "gene_name = 'HBV'\n",
    "outpath = ROI_path / f'{gene_name}_exp'\n",
    "outpath.mkdir(exist_ok=True)\n",
    "\n",
    "gene_exp = np.array(adata.raw[:, gene_name].X.flatten())  # 转换为密集数组\n",
    "mapper = get_mapper(gene_exp, qmin=0.01, qmax=0.995)\n",
    "\n",
    "from PIL import Image\n",
    "fig, axes = plt.subplots(ncols=len(rois), nrows=1, figsize=(5*len(rois), 5))\n",
    "for i, roi in tqdm(enumerate(rois), total=len(rois)):\n",
    "    adata_tmp = adata[adata.obs['ROI'] == roi]\n",
    "    if adata_tmp.n_obs == 0: continue\n",
    "    # save as TIFF\n",
    "    canvas = gene_projection(idxs=adata_tmp.obs.index, hulls=hulls, gene_exp=adata_tmp.raw[:,gene_name].X.flatten(), X=adata_tmp.obs['X_pos'], Y=adata_tmp.obs['Y_pos'], mapper=mapper, )\n",
    "    imwrite(str(outpath / f\"{roi}_{gene_name}.tiff\"), canvas, photometric='rgb')\n",
    "    # Save as PNG\n",
    "    img = Image.fromarray(canvas)\n",
    "    img.save(str(outpath / f\"{roi}_{gene_name}.png\"), format='PNG')\n",
    "    # plot\n",
    "    axes[i].imshow(canvas)\n",
    "    axes[i].set_title(roi)\n",
    "    axes[i].axis('off')\n",
    "plt.suptitle(f'{gene_name} expression in rois')\n",
    "plt.show()"
   ]
  },
  {
   "cell_type": "markdown",
   "metadata": {},
   "source": [
    "### AFP"
   ]
  },
  {
   "cell_type": "code",
   "execution_count": null,
   "metadata": {},
   "outputs": [],
   "source": [
    "gene_name = 'AFP'\n",
    "outpath = ROI_path / f'{gene_name}_exp'\n",
    "outpath.mkdir(exist_ok=True)\n",
    "\n",
    "gene_exp = np.array(adata.raw[:, gene_name].X.flatten())  # 转换为密集数组\n",
    "mapper = get_mapper(gene_exp, qmin=0.01, qmax=0.995)\n",
    "\n",
    "from PIL import Image\n",
    "fig, axes = plt.subplots(ncols=len(rois), nrows=1, figsize=(5*len(rois), 5))\n",
    "for i, roi in tqdm(enumerate(rois), total=len(rois)):\n",
    "    adata_tmp = adata[adata.obs['ROI'] == roi]\n",
    "    if adata_tmp.n_obs == 0: continue\n",
    "    # save as TIFF\n",
    "    canvas = gene_projection(idxs=adata_tmp.obs.index, hulls=hulls, gene_exp=adata_tmp.raw[:,gene_name].X.flatten(), X=adata_tmp.obs['X_pos'], Y=adata_tmp.obs['Y_pos'], mapper=mapper, )\n",
    "    imwrite(str(outpath / f\"{roi}_{gene_name}.tiff\"), canvas, photometric='rgb')\n",
    "    # Save as PNG\n",
    "    img = Image.fromarray(canvas)\n",
    "    img.save(str(outpath / f\"{roi}_{gene_name}.png\"), format='PNG')\n",
    "    # plot\n",
    "    axes[i].imshow(canvas)\n",
    "    axes[i].set_title(roi)\n",
    "    axes[i].axis('off')\n",
    "plt.suptitle(f'{gene_name} expression in rois')\n",
    "plt.show()"
   ]
  },
  {
   "cell_type": "markdown",
   "metadata": {},
   "source": [
    "### GPC3"
   ]
  },
  {
   "cell_type": "code",
   "execution_count": null,
   "metadata": {},
   "outputs": [],
   "source": [
    "gene_name = 'GPC3'\n",
    "outpath = ROI_path / f'{gene_name}_exp'\n",
    "outpath.mkdir(exist_ok=True)\n",
    "\n",
    "gene_exp = np.array(adata.raw[:, gene_name].X.flatten())  # 转换为密集数组\n",
    "mapper = get_mapper(gene_exp, qmin=0.01, qmax=0.995)\n",
    "\n",
    "from PIL import Image\n",
    "fig, axes = plt.subplots(ncols=len(rois), nrows=1, figsize=(5*len(rois), 5))\n",
    "for i, roi in tqdm(enumerate(rois), total=len(rois)):\n",
    "    adata_tmp = adata[adata.obs['ROI'] == roi]\n",
    "    if adata_tmp.n_obs == 0: continue\n",
    "    # save as TIFF\n",
    "    canvas = gene_projection(idxs=adata_tmp.obs.index, hulls=hulls, gene_exp=adata_tmp.raw[:,gene_name].X.flatten(), X=adata_tmp.obs['X_pos'], Y=adata_tmp.obs['Y_pos'], mapper=mapper, )\n",
    "    imwrite(str(outpath / f\"{roi}_{gene_name}.tiff\"), canvas, photometric='rgb')\n",
    "    # Save as PNG\n",
    "    img = Image.fromarray(canvas)\n",
    "    img.save(str(outpath / f\"{roi}_{gene_name}.png\"), format='PNG')\n",
    "    # plot\n",
    "    axes[i].imshow(canvas)\n",
    "    axes[i].set_title(roi)\n",
    "    axes[i].axis('off')\n",
    "plt.suptitle(f'{gene_name} expression in rois')\n",
    "plt.show()"
   ]
  },
  {
   "cell_type": "markdown",
   "metadata": {},
   "source": [
    "### MKI67"
   ]
  },
  {
   "cell_type": "code",
   "execution_count": null,
   "metadata": {},
   "outputs": [],
   "source": [
    "gene_name = 'MKI67'\n",
    "outpath = ROI_path / f'{gene_name}_exp'\n",
    "outpath.mkdir(exist_ok=True)\n",
    "\n",
    "gene_exp = np.array(adata.raw[:, gene_name].X.flatten())  # 转换为密集数组\n",
    "mapper = get_mapper(gene_exp, qmin=0.01, qmax=0.995)\n",
    "\n",
    "from PIL import Image\n",
    "fig, axes = plt.subplots(ncols=len(rois), nrows=1, figsize=(5*len(rois), 5))\n",
    "for i, roi in tqdm(enumerate(rois), total=len(rois)):\n",
    "    adata_tmp = adata[adata.obs['ROI'] == roi]\n",
    "    if adata_tmp.n_obs == 0: continue\n",
    "    # save as TIFF\n",
    "    canvas = gene_projection(idxs=adata_tmp.obs.index, hulls=hulls, gene_exp=adata_tmp.raw[:,gene_name].X.flatten(), X=adata_tmp.obs['X_pos'], Y=adata_tmp.obs['Y_pos'], mapper=mapper, )\n",
    "    imwrite(str(outpath / f\"{roi}_{gene_name}.tiff\"), canvas, photometric='rgb')\n",
    "    # Save as PNG\n",
    "    img = Image.fromarray(canvas)\n",
    "    img.save(str(outpath / f\"{roi}_{gene_name}.png\"), format='PNG')\n",
    "    # plot\n",
    "    axes[i].imshow(canvas)\n",
    "    axes[i].set_title(roi)\n",
    "    axes[i].axis('off')\n",
    "plt.suptitle(f'{gene_name} expression in rois')\n",
    "plt.show()"
   ]
  }
 ],
 "metadata": {
  "kernelspec": {
   "display_name": "PRISM",
   "language": "python",
   "name": "python3"
  },
  "language_info": {
   "codemirror_mode": {
    "name": "ipython",
    "version": 3
   },
   "file_extension": ".py",
   "mimetype": "text/x-python",
   "name": "python",
   "nbconvert_exporter": "python",
   "pygments_lexer": "ipython3",
   "version": "3.11.9"
  }
 },
 "nbformat": 4,
 "nbformat_minor": 2
}
