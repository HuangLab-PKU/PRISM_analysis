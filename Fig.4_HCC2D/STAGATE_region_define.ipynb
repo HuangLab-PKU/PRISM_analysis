{
 "cells": [
  {
   "cell_type": "markdown",
   "metadata": {},
   "source": [
    "# STAGATE segment"
   ]
  },
  {
   "cell_type": "code",
   "execution_count": 1,
   "metadata": {},
   "outputs": [],
   "source": [
    "# Loading the Packages\n",
    "%reload_ext autoreload\n",
    "%autoreload 2\n",
    "\n",
    "import os\n",
    "from pathlib import Path\n",
    "import pickle\n",
    "from tqdm import tqdm\n",
    "import warnings\n",
    "warnings.filterwarnings('ignore')\n",
    "\n",
    "import numpy as np\n",
    "import pandas as pd\n",
    "import scanpy as sc\n",
    "from scipy.signal import argrelextrema\n",
    "from scipy.signal import find_peaks\n",
    "\n",
    "import seaborn as sns\n",
    "import matplotlib.pyplot as plt\n",
    "plt.rcParams.update({\n",
    "    \"pgf.texsystem\": \"xelatex\",      # 使用 XeLaTeX，如果不需要 LaTeX 公式渲染，可以省略\n",
    "    'font.family': 'serif',          # 字体设置为衬线字体\n",
    "    'text.usetex': False,            # 禁用 LaTeX，使用 Matplotlib 内置文字渲染\n",
    "    'pgf.rcfonts': False,            # 禁用 pgf 的默认字体管理\n",
    "    'pdf.fonttype': 42,              # 确保字体为 TrueType 格式，可被 Illustrator 编辑\n",
    "    'ps.fonttype': 42,               # EPS 文件也使用 TrueType 格式\n",
    "    'figure.dpi': 300,               # 设置图形分辨率\n",
    "    'savefig.dpi': 300,              # 保存的图形文件分辨率\n",
    "    'axes.unicode_minus': False,     # 避免负号问题\n",
    "})"
   ]
  },
  {
   "cell_type": "code",
   "execution_count": null,
   "metadata": {},
   "outputs": [],
   "source": [
    "# workdir \n",
    "BASE_DIR = Path(r'G:\\spatial_data')\n",
    "\n",
    "RUN_ID = '20230523_HCC_PRISM_probe_refined'\n",
    "src_path = BASE_DIR / 'processed' / f'{RUN_ID}'\n",
    "data_path = src_path / \"segmented\"\n",
    "\n",
    "analysis_path = BASE_DIR / 'analysis' / f'{RUN_ID}'\n",
    "typ_path = analysis_path / \"cell_typing\"\n",
    "STAGATE_path = analysis_path / \"STAGATE\"\n",
    "STAGATE_path.mkdir(exist_ok=True)"
   ]
  },
  {
   "cell_type": "markdown",
   "metadata": {},
   "source": [
    "## proprocess of data"
   ]
  },
  {
   "cell_type": "code",
   "execution_count": null,
   "metadata": {},
   "outputs": [
    {
     "data": {
      "text/plain": [
       "AnnData object with n_obs × n_vars = 80396 × 30\n",
       "    obs: 'dataset', 'n_genes_by_counts', 'log1p_n_genes_by_counts', 'total_counts', 'log1p_total_counts', 'n_genes', 'n_counts', 'type', 'leiden', 'sample', 'tissue', 'tmp_leiden', 'leiden_subtype', 'subtype', 'leiden_type', 'Y_pos', 'X_pos'\n",
       "    var: 'n_cells_by_counts-CNP0000650', 'mean_counts-CNP0000650', 'log1p_mean_counts-CNP0000650', 'pct_dropout_by_counts-CNP0000650', 'total_counts-CNP0000650', 'log1p_total_counts-CNP0000650', 'n_cells-CNP0000650', 'mean-CNP0000650', 'std-CNP0000650', 'n_cells_by_counts-GSE140228', 'mean_counts-GSE140228', 'log1p_mean_counts-GSE140228', 'pct_dropout_by_counts-GSE140228', 'total_counts-GSE140228', 'log1p_total_counts-GSE140228', 'n_cells-GSE140228', 'mean-GSE140228', 'std-GSE140228', 'n_cells_by_counts-GSE151530', 'mean_counts-GSE151530', 'log1p_mean_counts-GSE151530', 'pct_dropout_by_counts-GSE151530', 'total_counts-GSE151530', 'log1p_total_counts-GSE151530', 'n_cells-GSE151530', 'mean-GSE151530', 'std-GSE151530', 'n_cells_by_counts-PRISM_HCC', 'mean_counts-PRISM_HCC', 'log1p_mean_counts-PRISM_HCC', 'pct_dropout_by_counts-PRISM_HCC', 'total_counts-PRISM_HCC', 'log1p_total_counts-PRISM_HCC', 'n_cells-PRISM_HCC', 'mean-PRISM_HCC', 'std-PRISM_HCC'\n",
       "    uns: 'dataset_colors', 'leiden', 'neighbors', 'pca', 'umap'\n",
       "    obsm: 'X_pca', 'X_pca_harmony', 'X_umap'\n",
       "    varm: 'PCs'\n",
       "    obsp: 'connectivities', 'distances'"
      ]
     },
     "execution_count": 120,
     "metadata": {},
     "output_type": "execute_result"
    }
   ],
   "source": [
    "combine_adata_st = sc.read_h5ad(typ_path / 'combine_adata_st.h5ad')\n",
    "combine_adata_st"
   ]
  },
  {
   "cell_type": "code",
   "execution_count": null,
   "metadata": {},
   "outputs": [
    {
     "data": {
      "text/plain": [
       "AnnData object with n_obs × n_vars = 80396 × 31\n",
       "    obs: 'dataset', 'n_genes_by_counts', 'log1p_n_genes_by_counts', 'total_counts', 'log1p_total_counts', 'n_genes', 'n_counts', 'type', 'leiden', 'sample', 'tissue', 'tmp_leiden', 'leiden_subtype', 'subtype', 'leiden_type', 'Y_pos', 'X_pos'\n",
       "    var: 'n_cells_by_counts', 'mean_counts', 'log1p_mean_counts', 'pct_dropout_by_counts', 'total_counts', 'log1p_total_counts', 'n_cells', 'mean', 'std'\n",
       "    uns: 'leiden', 'log1p', 'neighbors', 'pca', 'umap'\n",
       "    obsm: 'X_pca', 'X_umap'\n",
       "    varm: 'PCs'\n",
       "    obsp: 'connectivities', 'distances'"
      ]
     },
     "execution_count": 122,
     "metadata": {},
     "output_type": "execute_result"
    }
   ],
   "source": [
    "adata_direct = sc.read_h5ad(typ_path / 'adata_leiden_res_1.h5ad')\n",
    "adata = adata_direct[adata_direct.obs.index.isin(combine_adata_st.obs.index)]\n",
    "adata.obs = combine_adata_st.obs\n",
    "adata"
   ]
  },
  {
   "cell_type": "code",
   "execution_count": 123,
   "metadata": {},
   "outputs": [
    {
     "data": {
      "text/html": [
       "<div>\n",
       "<style scoped>\n",
       "    .dataframe tbody tr th:only-of-type {\n",
       "        vertical-align: middle;\n",
       "    }\n",
       "\n",
       "    .dataframe tbody tr th {\n",
       "        vertical-align: top;\n",
       "    }\n",
       "\n",
       "    .dataframe thead th {\n",
       "        text-align: right;\n",
       "    }\n",
       "</style>\n",
       "<table border=\"1\" class=\"dataframe\">\n",
       "  <thead>\n",
       "    <tr style=\"text-align: right;\">\n",
       "      <th></th>\n",
       "      <th>dataset</th>\n",
       "      <th>n_genes_by_counts</th>\n",
       "      <th>log1p_n_genes_by_counts</th>\n",
       "      <th>total_counts</th>\n",
       "      <th>log1p_total_counts</th>\n",
       "      <th>n_genes</th>\n",
       "      <th>n_counts</th>\n",
       "      <th>type</th>\n",
       "      <th>leiden</th>\n",
       "      <th>sample</th>\n",
       "      <th>tissue</th>\n",
       "      <th>tmp_leiden</th>\n",
       "      <th>leiden_subtype</th>\n",
       "      <th>subtype</th>\n",
       "      <th>leiden_type</th>\n",
       "      <th>Y</th>\n",
       "      <th>X</th>\n",
       "    </tr>\n",
       "  </thead>\n",
       "  <tbody>\n",
       "    <tr>\n",
       "      <th>0</th>\n",
       "      <td>PRISM_HCC</td>\n",
       "      <td>9</td>\n",
       "      <td>2.302585</td>\n",
       "      <td>22.0</td>\n",
       "      <td>3.135494</td>\n",
       "      <td>9</td>\n",
       "      <td>22.0</td>\n",
       "      <td>Macrophage</td>\n",
       "      <td>0</td>\n",
       "      <td>NaN</td>\n",
       "      <td>non_liver</td>\n",
       "      <td>0</td>\n",
       "      <td>18</td>\n",
       "      <td>Macrophage_LYVE1+</td>\n",
       "      <td>11</td>\n",
       "      <td>1109</td>\n",
       "      <td>21214</td>\n",
       "    </tr>\n",
       "    <tr>\n",
       "      <th>2</th>\n",
       "      <td>PRISM_HCC</td>\n",
       "      <td>10</td>\n",
       "      <td>2.397895</td>\n",
       "      <td>16.0</td>\n",
       "      <td>2.833213</td>\n",
       "      <td>10</td>\n",
       "      <td>16.0</td>\n",
       "      <td>Mast</td>\n",
       "      <td>13</td>\n",
       "      <td>NaN</td>\n",
       "      <td>non_liver</td>\n",
       "      <td>13</td>\n",
       "      <td>12</td>\n",
       "      <td>Mast_CPA3+</td>\n",
       "      <td>8</td>\n",
       "      <td>1156</td>\n",
       "      <td>21143</td>\n",
       "    </tr>\n",
       "    <tr>\n",
       "      <th>3</th>\n",
       "      <td>PRISM_HCC</td>\n",
       "      <td>6</td>\n",
       "      <td>1.945910</td>\n",
       "      <td>8.0</td>\n",
       "      <td>2.197225</td>\n",
       "      <td>6</td>\n",
       "      <td>8.0</td>\n",
       "      <td>other</td>\n",
       "      <td>73</td>\n",
       "      <td>NaN</td>\n",
       "      <td>non_liver</td>\n",
       "      <td>-2</td>\n",
       "      <td>-2</td>\n",
       "      <td>other</td>\n",
       "      <td>-2</td>\n",
       "      <td>1157</td>\n",
       "      <td>11785</td>\n",
       "    </tr>\n",
       "    <tr>\n",
       "      <th>4</th>\n",
       "      <td>PRISM_HCC</td>\n",
       "      <td>6</td>\n",
       "      <td>1.945910</td>\n",
       "      <td>7.0</td>\n",
       "      <td>2.079442</td>\n",
       "      <td>6</td>\n",
       "      <td>7.0</td>\n",
       "      <td>CD4+</td>\n",
       "      <td>28</td>\n",
       "      <td>NaN</td>\n",
       "      <td>non_liver</td>\n",
       "      <td>28</td>\n",
       "      <td>23</td>\n",
       "      <td>T_CD4+, PD1+, CTLA4+</td>\n",
       "      <td>12</td>\n",
       "      <td>1164</td>\n",
       "      <td>21132</td>\n",
       "    </tr>\n",
       "    <tr>\n",
       "      <th>5</th>\n",
       "      <td>PRISM_HCC</td>\n",
       "      <td>13</td>\n",
       "      <td>2.639057</td>\n",
       "      <td>41.0</td>\n",
       "      <td>3.737670</td>\n",
       "      <td>13</td>\n",
       "      <td>41.0</td>\n",
       "      <td>CD8+</td>\n",
       "      <td>45</td>\n",
       "      <td>NaN</td>\n",
       "      <td>non_liver</td>\n",
       "      <td>45</td>\n",
       "      <td>28</td>\n",
       "      <td>T_CD8+, GZMA+, CXCL13+</td>\n",
       "      <td>13</td>\n",
       "      <td>1177</td>\n",
       "      <td>11828</td>\n",
       "    </tr>\n",
       "  </tbody>\n",
       "</table>\n",
       "</div>"
      ],
      "text/plain": [
       "     dataset  n_genes_by_counts  log1p_n_genes_by_counts  total_counts  \\\n",
       "0  PRISM_HCC                  9                 2.302585          22.0   \n",
       "2  PRISM_HCC                 10                 2.397895          16.0   \n",
       "3  PRISM_HCC                  6                 1.945910           8.0   \n",
       "4  PRISM_HCC                  6                 1.945910           7.0   \n",
       "5  PRISM_HCC                 13                 2.639057          41.0   \n",
       "\n",
       "   log1p_total_counts  n_genes  n_counts        type leiden sample     tissue  \\\n",
       "0            3.135494        9      22.0  Macrophage      0    NaN  non_liver   \n",
       "2            2.833213       10      16.0        Mast     13    NaN  non_liver   \n",
       "3            2.197225        6       8.0       other     73    NaN  non_liver   \n",
       "4            2.079442        6       7.0        CD4+     28    NaN  non_liver   \n",
       "5            3.737670       13      41.0        CD8+     45    NaN  non_liver   \n",
       "\n",
       "  tmp_leiden leiden_subtype                 subtype leiden_type     Y      X  \n",
       "0          0             18       Macrophage_LYVE1+          11  1109  21214  \n",
       "2         13             12              Mast_CPA3+           8  1156  21143  \n",
       "3         -2             -2                   other          -2  1157  11785  \n",
       "4         28             23    T_CD4+, PD1+, CTLA4+          12  1164  21132  \n",
       "5         45             28  T_CD8+, GZMA+, CXCL13+          13  1177  11828  "
      ]
     },
     "execution_count": 123,
     "metadata": {},
     "output_type": "execute_result"
    }
   ],
   "source": [
    "# format for later analysis\n",
    "adata.obs = adata.obs.rename(columns={'X_pos':'X', 'Y_pos':'Y'})\n",
    "adata.obsm['spatial'] = adata.obs.loc[:, ['X', 'Y']].values\n",
    "adata.obs.head()"
   ]
  },
  {
   "cell_type": "markdown",
   "metadata": {},
   "source": [
    "## training of STAGATE and build graph\n"
   ]
  },
  {
   "cell_type": "code",
   "execution_count": null,
   "metadata": {},
   "outputs": [],
   "source": [
    "# # training of STAGATE and build graph\n",
    "# import STAGATE\n",
    "# import STAGATE_pyG\n",
    "\n",
    "# def Stats_Spatial_Net_manual(adata, outpath=None):\n",
    "#     import matplotlib.pyplot as plt\n",
    "#     Num_edge = adata.uns['Spatial_Net']['Cell1'].shape[0]\n",
    "#     Mean_edge = Num_edge/adata.shape[0]\n",
    "#     plot_df = pd.value_counts(pd.value_counts(adata.uns['Spatial_Net']['Cell1']))\n",
    "#     plot_df = plot_df/adata.shape[0]\n",
    "#     fig, ax = plt.subplots(figsize=[3,2])\n",
    "#     plt.ylabel('Percentage')\n",
    "#     plt.xlabel('')\n",
    "#     plt.title('Number of Neighbors (Mean=%.2f)'%Mean_edge)\n",
    "#     ax.bar(plot_df.index, plot_df)\n",
    "#     if not outpath is None:\n",
    "#         plt.savefig(outpath)\n",
    "#         plt.close()\n",
    "\n",
    "# for rad_cutoff in tqdm([50,100,150,200,250,300,400]):\n",
    "#     current_path = STAGATE_path / f'rad_cutoff_{str(rad_cutoff)}'\n",
    "#     current_path.mkdir(exist_ok=True)\n",
    "#     STAGATE_pyG.Cal_Spatial_Net(adata, rad_cutoff=rad_cutoff)\n",
    "#     # stats of spatial network\n",
    "#     Stats_Spatial_Net_manual(adata, outpath=current_path / 'stats_spatial_net.png')\n",
    "\n",
    "#     adata_STAGATE = STAGATE_pyG.train_STAGATE(adata)\n",
    "#     adata_STAGATE.write(current_path / 'adata_STAGATE.h5ad')\n",
    "#     adata_STAGATE = sc.read_h5ad(current_path / 'adata_STAGATE.h5ad')\n",
    "#     sc.pp.neighbors(adata_STAGATE, n_neighbors=50, use_rep='STAGATE')\n",
    "#     sc.tl.umap(adata_STAGATE)\n",
    "#     adata_STAGATE.write_h5ad(current_path / 'adata_STAGATE.h5ad')\n",
    "\n",
    "#     mclust_dir = current_path / 'mClust_test'\n",
    "#     mclust_dir.mkdir(exist_ok=True)\n",
    "#     for cluster in range(2, 20):\n",
    "#         adata_STAGATE = sc.read_h5ad(current_path / 'adata_STAGATE.h5ad')\n",
    "#         adata_STAGATE = STAGATE.mclust_R(adata_STAGATE, used_obsm='STAGATE', used_savename=f'mclust_{cluster}', num_cluster=cluster)\n",
    "#         adata_STAGATE.obs[f'mclust_{cluster}'] = adata_STAGATE.obs[f'mclust_{cluster}'].astype(str)\n",
    "#         adata_STAGATE.write(current_path / 'adata_STAGATE.h5ad')\n",
    "        \n",
    "#         fig, ax = plt.subplots(ncols=2, nrows=1, figsize=(20, 10))\n",
    "#         sc.pl.umap(adata_STAGATE, color=f'mclust_{cluster}', palette=colors, s=10, show=False, ax=ax[0])\n",
    "#         sc.pl.embedding(adata_STAGATE, basis=\"spatial\", color=f'mclust_{cluster}', palette=colors, s=10, show=False, ax=ax[1]) #, legend_loc=False)\n",
    "#         plt.tight_layout()\n",
    "#         plt.savefig(mclust_dir / f'cluster_{cluster}.png')\n",
    "#         plt.close()"
   ]
  },
  {
   "cell_type": "markdown",
   "metadata": {},
   "source": [
    "## clustering of ROIs\n"
   ]
  },
  {
   "cell_type": "code",
   "execution_count": 4,
   "metadata": {},
   "outputs": [
    {
     "name": "stdout",
     "output_type": "stream",
     "text": [
      "dict_keys(['leiden_annotation', 'marker_gene_dict', 'type_colormap'])\n"
     ]
    }
   ],
   "source": [
    "import yaml\n",
    "\n",
    "with open(os.path.join(typ_path, 'annotation_params.yaml'), 'r') as f:\n",
    "    annotaiton_params = yaml.load(f, Loader=yaml.FullLoader)\n",
    "type_colormap = annotaiton_params['type_colormap']\n",
    "print(annotaiton_params.keys())\n",
    "\n",
    "colors = [_ for _ in type_colormap.values()][:-1]\n",
    "colors[5] = (0, 0, 0)\n",
    "colors[6] = (0, 1, 1)"
   ]
  },
  {
   "cell_type": "code",
   "execution_count": 10,
   "metadata": {},
   "outputs": [],
   "source": [
    "rad_cutoff = 250\n",
    "current_path = STAGATE_path / f'rad_cutoff_{str(rad_cutoff)}'\n",
    "mclust_dir = current_path / 'mClust_test'\n",
    "cluster = 13\n",
    "adata_STAGATE = sc.read_h5ad(current_path / 'adata_STAGATE.h5ad')\n",
    "fig, ax = plt.subplots(ncols=2, nrows=1, figsize=(20, 10))\n",
    "sc.pl.umap(adata_STAGATE, color=f'mclust_{cluster}', palette=colors, s=10, show=False, ax=ax[0])\n",
    "sc.pl.embedding(adata_STAGATE, basis=\"spatial\", color=f'mclust_{cluster}', palette=colors, s=10, show=False, ax=ax[1]) #, legend_loc=False)\n",
    "plt.tight_layout()\n",
    "plt.savefig(mclust_dir / f'cluster_{cluster}.png')\n",
    "plt.close()"
   ]
  },
  {
   "cell_type": "markdown",
   "metadata": {},
   "source": [
    "## analysis: gene distribution on umap"
   ]
  },
  {
   "cell_type": "code",
   "execution_count": 128,
   "metadata": {},
   "outputs": [],
   "source": [
    "rad_cutoff = 250\n",
    "adata_STAGATE = sc.read_h5ad(STAGATE_path / f'rad_cutoff_{str(rad_cutoff)}' / 'adata_STAGATE.h5ad')"
   ]
  },
  {
   "cell_type": "code",
   "execution_count": 129,
   "metadata": {},
   "outputs": [],
   "source": [
    "gene_list=[\n",
    "    \"HBV\", \"AFP\", \"GPC3\", \"MKI67\", \"PECAM1\", \"EPCAM\", \"ACTA2\", \n",
    "    \"CLEC9A\", \"CD1C\", \"LILRA4\", \"SLC4A10\", \"CPA3\", \"C1QA\", \"FCGR3A\", \"S100A8\", \"CSF3R\", \"LYVE1\", \n",
    "    \"CD3D\", \"CD4\", \"CD8A\", \"GZMA\", \"GZMB\", \"CTLA4\", \"PDCD1\", \"CXCL13\", \n",
    "    \"FOXP3\", \"PRF1\", \"CD79A\", \"MS4A1\", \"NCAM1\", \"MZB1\"\n",
    "]\n",
    "\n",
    "figure_path = STAGATE_path / f'rad_cutoff_{str(rad_cutoff)}'\n",
    "fig, ax = plt.subplots(ncols=6, nrows=6, figsize=(30, 25))\n",
    "for _, gene in enumerate(gene_list):\n",
    "    ax_tmp = ax.flatten()[_]\n",
    "    sc.pl.umap(adata_STAGATE, color=gene, ax=ax_tmp, show=False, s=3, alpha=0.8, vmax=5)\n",
    "plt.tight_layout()\n",
    "plt.savefig(figure_path / 'umap_gene.png')\n",
    "plt.close()"
   ]
  },
  {
   "cell_type": "markdown",
   "metadata": {},
   "source": [
    "# Cell composition"
   ]
  },
  {
   "cell_type": "code",
   "execution_count": null,
   "metadata": {},
   "outputs": [],
   "source": [
    "rad_cutoff = 250\n",
    "cluster_num = 13\n",
    "current_path = STAGATE_path / f'rad_cutoff_{str(rad_cutoff)}'\n",
    "adata_STAGATE = sc.read_h5ad(current_path / 'adata_STAGATE.h5ad')"
   ]
  },
  {
   "cell_type": "code",
   "execution_count": 9,
   "metadata": {},
   "outputs": [
    {
     "name": "stdout",
     "output_type": "stream",
     "text": [
      "dict_keys(['leiden_annotation', 'marker_gene_dict', 'type_colormap'])\n"
     ]
    }
   ],
   "source": [
    "import yaml\n",
    "\n",
    "with open(os.path.join(typ_path, 'annotation_params.yaml'), 'r') as f:\n",
    "    annotaiton_params = yaml.load(f, Loader=yaml.FullLoader)\n",
    "print(annotaiton_params.keys())"
   ]
  },
  {
   "cell_type": "code",
   "execution_count": 10,
   "metadata": {},
   "outputs": [
    {
     "data": {
      "text/plain": [
       "{'Liver': [1, 0.392, 0],\n",
       " 'Tumor_AFP+': [0.751, 0.491, 0],\n",
       " 'Tumor_GPC3+': [0.751, 0.491, 0],\n",
       " 'Tumor_proliferation': [0.751, 0.491, 0],\n",
       " 'other_cell_proliferation': [0, 0.5, 0.636],\n",
       " 'Endo_PECAM1+': [1, 0, 1],\n",
       " 'Ep_EPCAM+': [0, 1, 0],\n",
       " 'CAF_ACTA2+': [0, 0, 1],\n",
       " 'cDC1_CLEC9A+': [1, 0.259, 0],\n",
       " 'cDC2_CD1C+': [1, 0.259, 0],\n",
       " 'pDC_LILRA4+': [1, 0.259, 0],\n",
       " 'Mait_SLC4A10+': [1, 0, 0.434],\n",
       " 'Mast_CPA3+': [1, 0, 0],\n",
       " 'Monocyte_CD14+': [0, 0.471, 1],\n",
       " 'Monocyte_CD14+, CD16+': [0, 0.471, 1],\n",
       " 'Monocyte_CD16+': [0, 0.471, 1],\n",
       " 'Neutrophil_CSF3R+, S100A8+': [1, 1, 0],\n",
       " 'Neutrophil_CSF3R+': [1, 1, 0],\n",
       " 'Macrophage_LYVE1+': [0.5, 0.8, 0],\n",
       " 'Macrophage_C1QA+': [0.5, 0.8, 0],\n",
       " 'Cyto_T_CD4+': [0.5, 0.5, 0.5],\n",
       " 'T_CD4+, PD1+': [0.5, 0.5, 0.5],\n",
       " 'T_CD4+, CXCL13+': [0.5, 0.5, 0.5],\n",
       " 'T_CD4+, PD1+, CTLA4+': [0.5, 0.5, 0.5],\n",
       " 'T_CD4+, CTLA4+': [0.5, 0.5, 0.5],\n",
       " 'Cyto_T_CD8+': [1, 0.8, 0],\n",
       " 'T_CD8+, PD1+': [1, 0.8, 0],\n",
       " 'T_CD8+, CTLA4+': [1, 0.8, 0],\n",
       " 'T_CD8+, GZMA+, CXCL13+': [1, 0.8, 0],\n",
       " 'T_reg': [0, 1, 0.672],\n",
       " 'B_CD79A+': [0, 1, 1],\n",
       " 'B_MS4A1+': [0, 1, 1],\n",
       " 'Plasma_B_CD79A+, MZB1+': [0, 1, 1],\n",
       " 'B_CD79A+, MS4A1+': [0, 1, 1],\n",
       " 'NK_NCAM1+': [1, 0, 0]}"
      ]
     },
     "execution_count": 10,
     "metadata": {},
     "output_type": "execute_result"
    }
   ],
   "source": [
    "leiden_annotation = annotaiton_params['leiden_annotation']\n",
    "leiden_type_dict = {}\n",
    "leiden_subtype_dict = {}\n",
    "for type_key, subtypes in leiden_annotation.items():\n",
    "    type_values = []\n",
    "    for subtype_key, values in subtypes.items():\n",
    "        type_values.extend(values)\n",
    "        leiden_subtype_dict[subtype_key] = values\n",
    "    leiden_type_dict[type_key] = type_values\n",
    "\n",
    "type_colormap = annotaiton_params['type_colormap']\n",
    "subtype_colormap = dict()\n",
    "for subtype in leiden_subtype_dict.keys():\n",
    "    for rough_type in type_colormap.keys():\n",
    "        if rough_type in subtype:\n",
    "            subtype_colormap[subtype] = type_colormap[rough_type]\n",
    "            break\n",
    "subtype_colormap"
   ]
  },
  {
   "cell_type": "code",
   "execution_count": 15,
   "metadata": {},
   "outputs": [],
   "source": [
    "subtype_colormap['Tumor_AFP+'] = [1, 0.5, 0]\n",
    "subtype_colormap['Tumor_AFP+'] = [1, 0.5, 0]\n",
    "subtype_colormap['Tumor_GPC3+'] = [0.75, 0.5, 0.5]\n",
    "subtype_colormap['Tumor_proliferation'] = [1, 0.5, 0]\n",
    "\n",
    "subtype_colormap['B_CD79A+, MS4A1+'] = [0, 0.5, 0.5]\n",
    "subtype_colormap['cDC2_CD1C+'] = [1, 0.6, 0]\n",
    "subtype_colormap['Macrophage_C1QA+'] = [0, 0.8, 0.5]\n",
    "subtype_colormap['Mait_SLC4A10+'] = [0, 0, 1]\n",
    "subtype_colormap['Neutrophil_CSF3R+'] = [0.5, 0.5, 0]\n",
    "subtype_colormap['T_CD4+, CXCL13+'] = [0.8,0.8,0.8]\n",
    "subtype_colormap['T_CD4+, PD1+, CTLA4+'] = [0.8,0.8,0.8]\n",
    "subtype_colormap['T_CD8+, GZMA+, CXCL13+'] = [1,0,0]\n",
    "subtype_colormap['Monocyte_CD14+, CD16+'] = [0,0.8,1]"
   ]
  },
  {
   "cell_type": "code",
   "execution_count": 12,
   "metadata": {},
   "outputs": [],
   "source": [
    "non_immune_subtype = ['Liver', 'Tumor_AFP+', 'Tumor_GPC3+', 'Tumor_proliferation', 'other_cell_proliferation', 'Endo_PECAM1+', 'Ep_EPCAM+', 'CAF_ACTA2+',]\n",
    "immune_subtype = [_ for _ in subtype_colormap.keys() if _ not in non_immune_subtype]"
   ]
  },
  {
   "cell_type": "code",
   "execution_count": 16,
   "metadata": {},
   "outputs": [],
   "source": [
    "immune_data = adata_STAGATE[adata_STAGATE.obs.subtype.isin(immune_subtype)]\n",
    "non_immune_data = adata_STAGATE[adata_STAGATE.obs.subtype.isin(non_immune_subtype)]\n",
    "\n",
    "# def plot_stacked_bar(data, subtype_list, mclust_order, title, colormap, ax):\n",
    "#     # 根据mclust_13聚类列统计每个聚类内不同细胞类型的数量\n",
    "#     subtype_counts = data.groupby([f'mclust_{cluster_num}', 'subtype']).size().unstack(fill_value=0)\n",
    "#     subtype_counts = subtype_counts.loc[mclust_order]\n",
    "#     subtype_counts = subtype_counts.loc[:, subtype_counts.columns.isin(subtype_list)]    \n",
    "#     subtype_counts_normalized = subtype_counts.div(subtype_counts.sum(axis=1), axis=0)\n",
    "#     colors = [colormap[subtype] for subtype in subtype_counts_normalized.columns]    \n",
    "#     subtype_counts_normalized.plot(kind='bar', stacked=True, ax=ax, color=colors, width=1.0)\n",
    "    \n",
    "#     ax.set_title(title)\n",
    "#     ax.set_xlabel('Cluster')\n",
    "#     ax.set_ylabel('Normalized Proportion')\n",
    "#     ax.legend(title='Cell Type', bbox_to_anchor=(1.05, 1), loc='upper left')\n",
    "\n",
    "def plot_stacked_bar(data, subtype_list, mclust_order, title, colormap, ax):\n",
    "    # 根据mclust_13聚类列统计每个聚类内不同细胞类型的数量\n",
    "    subtype_counts = data.groupby([f'mclust_{cluster_num}', 'subtype']).size().unstack(fill_value=0)\n",
    "    subtype_counts = subtype_counts.loc[mclust_order]\n",
    "    subtype_counts = subtype_counts.loc[:, subtype_counts.columns.isin(subtype_list)]    \n",
    "    subtype_counts_normalized = subtype_counts.div(subtype_counts.sum(axis=1), axis=0)\n",
    "    colors = [colormap[subtype] for subtype in subtype_counts_normalized.columns]    \n",
    "    \n",
    "    # 绘制堆叠条形图，并禁用自动图例\n",
    "    subtype_counts_normalized.plot(kind='bar', stacked=True, ax=ax, color=colors, width=1.0, legend=False)\n",
    "    \n",
    "    ax.set_title(title)\n",
    "    ax.set_xlabel('Cluster')\n",
    "    ax.set_ylabel('Normalized Proportion')\n",
    "    \n",
    "    # 获取句柄和标签，并反转顺序\n",
    "    handles, labels = ax.get_legend_handles_labels()\n",
    "    ax.legend(handles[::-1], labels[::-1], title='Cell Type', bbox_to_anchor=(1.05, 1), loc='upper left')\n",
    "\n",
    "fig, axes = plt.subplots(1, 2, figsize=(14, 6))\n",
    "# mclust_order = [str(_) for _ in [1, 9, 3, 11, 10, 12, 8, 13, 7, 2, 4, 5, 6]]\n",
    "mclust_order = [str(_) for _ in range(1, cluster_num+1)]\n",
    "plot_stacked_bar(immune_data.obs, immune_subtype, mclust_order, 'Immune Subtypes', subtype_colormap, axes[0])\n",
    "plot_stacked_bar(non_immune_data.obs, non_immune_subtype, mclust_order, 'Non-Immune Subtypes', subtype_colormap, axes[1])\n",
    "plt.tight_layout()\n",
    "plt.savefig(current_path / f'mClust{cluster_num}_subtype_distribution.png')\n",
    "plt.close()"
   ]
  },
  {
   "cell_type": "code",
   "execution_count": 26,
   "metadata": {},
   "outputs": [],
   "source": [
    "immune_data = adata_STAGATE[adata_STAGATE.obs.subtype.isin(immune_subtype)]\n",
    "non_immune_data = adata_STAGATE[adata_STAGATE.obs.subtype.isin(non_immune_subtype)]\n",
    "\n",
    "def plot_stacked_bar(data, title, colors, ax):\n",
    "    subtype_counts = data.groupby([f'mclust_{cluster_num}', 'subtype_group']).size().unstack(fill_value=0)    \n",
    "    subtype_counts_normalized = subtype_counts\n",
    "    # subtype_counts_normalized = subtype_counts.div(subtype_counts.sum(axis=1), axis=0)\n",
    "    \n",
    "    subtype_counts_normalized.plot(kind='bar', stacked=True, ax=ax, color=colors, width=1.0)\n",
    "    ax.set_title(title)\n",
    "    ax.set_xlabel('Cluster')\n",
    "    ax.set_ylabel('Normalized Proportion')\n",
    "    ax.legend(title='Cell Type', bbox_to_anchor=(1.05, 1), loc='upper left')\n",
    "\n",
    "\n",
    "fig, ax = plt.subplots(figsize=(8, 6))\n",
    "colors = ['red', 'blue']\n",
    "combined_data = pd.concat([immune_data.obs, non_immune_data.obs])\n",
    "combined_data['subtype_group'] = combined_data['subtype'].apply(lambda x: 'immune' if x in immune_subtype else ('non-immune' if x in non_immune_subtype else 'other'))\n",
    "plot_stacked_bar(combined_data, 'Immune vs Non-Immune Subtypes', colors, ax)\n",
    "\n",
    "plt.tight_layout()\n",
    "plt.savefig(current_path / f'mClust{cluster_num}_im_non_im_cell_num.png')\n",
    "plt.close()"
   ]
  }
 ],
 "metadata": {
  "kernelspec": {
   "display_name": "PRISM",
   "language": "python",
   "name": "python3"
  },
  "language_info": {
   "codemirror_mode": {
    "name": "ipython",
    "version": 3
   },
   "file_extension": ".py",
   "mimetype": "text/x-python",
   "name": "python",
   "nbconvert_exporter": "python",
   "pygments_lexer": "ipython3",
   "version": "3.11.9"
  }
 },
 "nbformat": 4,
 "nbformat_minor": 2
}
