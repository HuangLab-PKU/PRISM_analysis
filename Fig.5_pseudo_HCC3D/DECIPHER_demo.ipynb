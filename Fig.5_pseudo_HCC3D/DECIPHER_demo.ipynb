{
 "cells": [
  {
   "cell_type": "code",
   "execution_count": null,
   "metadata": {},
   "outputs": [],
   "source": [
    "# Loading the Packages\n",
    "%reload_ext autoreload\n",
    "%autoreload 2\n",
    "\n",
    "# basic packages\n",
    "import warnings\n",
    "warnings.filterwarnings('ignore')\n",
    "import os\n",
    "import sys\n",
    "from pathlib import Path\n",
    "from tqdm import tqdm\n",
    "import scanpy as sc\n",
    "\n",
    "# Apply monkey patch before importing DECIPHER\n",
    "import matplotlib_inline.backend_inline\n",
    "import IPython.display\n",
    "IPython.display.set_matplotlib_formats = matplotlib_inline.backend_inline.set_matplotlib_formats\n",
    "\n",
    "from decipher import DECIPHER, CFG\n",
    "from decipher.utils import scanpy_viz\n",
    "\n",
    "CFG.omics.spatial_graph.mode = 'radius'\n",
    "CFG.omics.spatial_graph.radius = 300\n",
    "\n",
    "import seaborn as sns\n",
    "import matplotlib.pyplot as plt\n",
    "plt.rcParams.update({\n",
    "    \"pgf.texsystem\": \"xelatex\",      # 使用 XeLaTeX，如果不需要 LaTeX 公式渲染，可以省略\n",
    "    'font.family': 'serif',          # 字体设置为衬线字体\n",
    "    'text.usetex': False,            # 禁用 LaTeX，使用 Matplotlib 内置文字渲染\n",
    "    'pgf.rcfonts': False,            # 禁用 pgf 的默认字体管理\n",
    "    'pdf.fonttype': 42,              # 确保字体为 TrueType 格式，可被 Illustrator 编辑\n",
    "    'ps.fonttype': 42,               # EPS 文件也使用 TrueType 格式\n",
    "    'figure.dpi': 300,               # 设置图形分辨率\n",
    "    'savefig.dpi': 300,              # 保存的图形文件分辨率\n",
    "    'axes.unicode_minus': False,     # 避免负号问题\n",
    "})\n"
   ]
  },
  {
   "cell_type": "code",
   "execution_count": null,
   "metadata": {},
   "outputs": [],
   "source": [
    "# workdir \n",
    "BASE_DIR = Path(r'/mnt/g/spatial_data')\n",
    "RUN_ID_LIST = []\n",
    "\n",
    "# analysis dir\n",
    "RUN_ID = '20250222_combined_analysis_of_pseudo_HCC3D'\n",
    "analysis_dir = BASE_DIR / 'analysis' / RUN_ID\n",
    "typ_path = analysis_dir / \"cell_typing\"\n",
    "\n",
    "output_path = analysis_dir / \"DECIPHER\"\n",
    "output_path.mkdir(exist_ok=True)"
   ]
  },
  {
   "cell_type": "code",
   "execution_count": null,
   "metadata": {},
   "outputs": [],
   "source": [
    "# Load the data\n",
    "combine_adata_st = sc.read_h5ad(typ_path / 'combine_adata_st.h5ad')\n",
    "adata_direct = sc.read_h5ad(typ_path / 'adata.h5ad')\n",
    "adata = adata_direct[adata_direct.obs.index.isin(combine_adata_st.obs.index)]\n",
    "adata.obs = combine_adata_st.obs\n",
    "\n",
    "# format for later analysis\n",
    "adata.obs = adata.obs.rename(columns={'X_pos':'X', 'Y_pos':'Y'})\n",
    "adata.obsm['spatial'] = adata.obs.loc[:, ['X', 'Y', 'Z']].values\n",
    "adata = adata[adata.obs['type'] != 'other']\n",
    "adata.X = adata.raw.X.copy()\n",
    "print(adata)\n",
    "adata.obs.head()"
   ]
  },
  {
   "cell_type": "code",
   "execution_count": null,
   "metadata": {},
   "outputs": [],
   "source": [
    "# Init model\n",
    "model = DECIPHER(work_dir=str(output_path / 'model'))"
   ]
  },
  {
   "cell_type": "code",
   "execution_count": null,
   "metadata": {},
   "outputs": [],
   "source": [
    "# Register data (adata.X is raw counts, adata.obsm['spatial'] is spatial coordinates)\n",
    "model.register_data(adata)"
   ]
  },
  {
   "cell_type": "code",
   "execution_count": null,
   "metadata": {},
   "outputs": [],
   "source": [
    "# Fit DECIPHER model\n",
    "model.fit_omics()"
   ]
  },
  {
   "cell_type": "code",
   "execution_count": null,
   "metadata": {},
   "outputs": [],
   "source": [
    "# Clustering disentangled embeddings\n",
    "adata.obsm['X_center'] = model.center_emb  # intracellular molecular embedding\n",
    "adata.obsm['X_nbr'] =  model.nbr_emb  # spatial context embedding"
   ]
  },
  {
   "cell_type": "code",
   "execution_count": null,
   "metadata": {},
   "outputs": [],
   "source": [
    "adata = scanpy_viz(adata, ['center', 'nbr'], rapids=False, resolution=0.5)"
   ]
  },
  {
   "cell_type": "code",
   "execution_count": null,
   "metadata": {},
   "outputs": [],
   "source": [
    "print(adata)"
   ]
  },
  {
   "cell_type": "code",
   "execution_count": null,
   "metadata": {},
   "outputs": [],
   "source": [
    "# Plot\n",
    "size=2\n",
    "fig, ax = plt.subplots(2, 2, figsize=(12, 10))\n",
    "fig.suptitle('DECIPHER embeddings')\n",
    "adata.obsm['X_umap'] = adata.obsm['X_umap_center'].copy()\n",
    "sc.pl.umap(adata, color=['leiden_center'], ax=ax[0, 0], show=False, s=size)\n",
    "adata.obsm['X_umap'] = adata.obsm['X_umap_nbr'].copy()\n",
    "sc.pl.umap(adata, color=['leiden_nbr'], ax=ax[0, 1], show=False, s=size)\n",
    "sc.pl.embedding(adata, basis=\"spatial\", color=f'leiden_center', s=size, show=False, ax=ax[1, 0])\n",
    "sc.pl.embedding(adata, basis=\"spatial\", color=f'leiden_nbr', s=size, show=False, ax=ax[1, 1])\n",
    "plt.tight_layout()\n",
    "plt.show()"
   ]
  }
 ],
 "metadata": {
  "kernelspec": {
   "display_name": "decipher",
   "language": "python",
   "name": "python3"
  },
  "language_info": {
   "codemirror_mode": {
    "name": "ipython",
    "version": 3
   },
   "file_extension": ".py",
   "mimetype": "text/x-python",
   "name": "python",
   "nbconvert_exporter": "python",
   "pygments_lexer": "ipython3",
   "version": "3.11.11"
  }
 },
 "nbformat": 4,
 "nbformat_minor": 2
}
